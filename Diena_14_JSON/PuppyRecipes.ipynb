{
 "cells": [
  {
   "cell_type": "code",
   "execution_count": 2,
   "metadata": {},
   "outputs": [],
   "source": [
    "import json\n",
    "import requests"
   ]
  },
  {
   "cell_type": "code",
   "execution_count": 3,
   "metadata": {},
   "outputs": [
    {
     "data": {
      "text/plain": [
       "'http://www.recipepuppy.com/api/?i=potato&p=1'"
      ]
     },
     "execution_count": 3,
     "metadata": {},
     "output_type": "execute_result"
    }
   ],
   "source": [
    "prefix = \"http://www.recipepuppy.com/api/?\"\n",
    "postfix = \"i=potato&p=1\"\n",
    "url = prefix + postfix\n",
    "url"
   ]
  },
  {
   "cell_type": "code",
   "execution_count": 4,
   "metadata": {},
   "outputs": [
    {
     "data": {
      "text/plain": [
       "200"
      ]
     },
     "execution_count": 4,
     "metadata": {},
     "output_type": "execute_result"
    }
   ],
   "source": [
    "r = requests.get(url)\n",
    "r.status_code"
   ]
  },
  {
   "cell_type": "code",
   "execution_count": 5,
   "metadata": {},
   "outputs": [
    {
     "data": {
      "text/plain": [
       "dict"
      ]
     },
     "execution_count": 5,
     "metadata": {},
     "output_type": "execute_result"
    }
   ],
   "source": [
    "pdata = r.json()\n",
    "type(pdata)"
   ]
  },
  {
   "cell_type": "code",
   "execution_count": 6,
   "metadata": {},
   "outputs": [
    {
     "data": {
      "text/plain": [
       "dict_keys(['title', 'version', 'href', 'results'])"
      ]
     },
     "execution_count": 6,
     "metadata": {},
     "output_type": "execute_result"
    }
   ],
   "source": [
    "pdata.keys()"
   ]
  },
  {
   "cell_type": "code",
   "execution_count": 7,
   "metadata": {},
   "outputs": [
    {
     "data": {
      "text/plain": [
       "[{'title': 'Moroccan Spiced Roast Potatoes',\n",
       "  'href': 'http://www.recipezaar.com/moroccan-spiced-roast-potatoes-377030',\n",
       "  'ingredients': 'potato',\n",
       "  'thumbnail': 'http://img.recipepuppy.com/507716.jpg'},\n",
       " {'title': 'French Potato Salad (Light)',\n",
       "  'href': 'http://www.recipezaar.com/French-Potato-Salad-Light-315220',\n",
       "  'ingredients': 'potato',\n",
       "  'thumbnail': 'http://img.recipepuppy.com/575259.jpg'}]"
      ]
     },
     "execution_count": 7,
     "metadata": {},
     "output_type": "execute_result"
    }
   ],
   "source": [
    "recipes = pdata.get('results')\n",
    "recipes[:2]"
   ]
  },
  {
   "cell_type": "code",
   "execution_count": 9,
   "metadata": {},
   "outputs": [],
   "source": [
    "with open(\"potato_recipes.json\", \"w\") as f:\n",
    "    json.dump(recipes, f, indent=4)"
   ]
  },
  {
   "cell_type": "code",
   "execution_count": 10,
   "metadata": {},
   "outputs": [
    {
     "data": {
      "text/plain": [
       "'http://www.recipepuppy.com/api/?i=potato&p='"
      ]
     },
     "execution_count": 10,
     "metadata": {},
     "output_type": "execute_result"
    }
   ],
   "source": [
    "nurl = url[:-1]\n",
    "nurl"
   ]
  },
  {
   "cell_type": "code",
   "execution_count": 11,
   "metadata": {},
   "outputs": [],
   "source": [
    "import time"
   ]
  },
  {
   "cell_type": "code",
   "execution_count": 12,
   "metadata": {},
   "outputs": [],
   "source": [
    "time.sleep(0.5) \n",
    "# sleep half a second might be a good idea to sleep a bit before requesting access again\n",
    "# you could be rate limited if you ask too quickly too much"
   ]
  },
  {
   "cell_type": "code",
   "execution_count": 13,
   "metadata": {},
   "outputs": [
    {
     "name": "stdout",
     "output_type": "stream",
     "text": [
      "Requesting http://www.recipepuppy.com/api/?i=potato&p=1\n",
      "Requesting http://www.recipepuppy.com/api/?i=potato&p=2\n",
      "Requesting http://www.recipepuppy.com/api/?i=potato&p=3\n",
      "Requesting http://www.recipepuppy.com/api/?i=potato&p=4\n",
      "Requesting http://www.recipepuppy.com/api/?i=potato&p=5\n",
      "Requesting http://www.recipepuppy.com/api/?i=potato&p=6\n",
      "Requesting http://www.recipepuppy.com/api/?i=potato&p=7\n",
      "Requesting http://www.recipepuppy.com/api/?i=potato&p=8\n",
      "Requesting http://www.recipepuppy.com/api/?i=potato&p=9\n",
      "Requesting http://www.recipepuppy.com/api/?i=potato&p=10\n"
     ]
    },
    {
     "data": {
      "text/plain": [
       "100"
      ]
     },
     "execution_count": 13,
     "metadata": {},
     "output_type": "execute_result"
    }
   ],
   "source": [
    "recipe_list = []\n",
    "for n in range(1,10+1):\n",
    "    print(f\"Requesting {nurl}{n}\")\n",
    "    r = requests.get(f\"{nurl}{n}\")\n",
    "    if r.status_code != 200:\n",
    "        print(\"Not good\", r.status_code)\n",
    "        break\n",
    "    req_data = r.json()\n",
    "    temp_recipes = req_data.get('results')\n",
    "    recipe_list += temp_recipes\n",
    "    time.sleep(0.2) \n",
    "    \n",
    "len(recipe_list)\n",
    "    "
   ]
  },
  {
   "cell_type": "code",
   "execution_count": 14,
   "metadata": {},
   "outputs": [
    {
     "data": {
      "text/plain": [
       "[{'title': 'Chicken Veggie Soup I',\n",
       "  'href': 'http://allrecipes.com/Recipe/Chicken-Veggie-Soup-I/Detail.aspx',\n",
       "  'ingredients': 'baby carrot, potato',\n",
       "  'thumbnail': 'http://img.recipepuppy.com/791.jpg'},\n",
       " {'title': 'Garlic Mashed Potatoes',\n",
       "  'href': 'http://allrecipes.com/Recipe/Garlic-Mashed-Potatoes-4/Detail.aspx',\n",
       "  'ingredients': 'black pepper, potato',\n",
       "  'thumbnail': 'http://img.recipepuppy.com/5894.jpg'},\n",
       " {'title': 'The Dalai Lamas Momos Recipe',\n",
       "  'href': 'http://www.grouprecipes.com/8541/the-dalai-lamas-momos.html',\n",
       "  'ingredients': 'potato, soup',\n",
       "  'thumbnail': 'http://img.recipepuppy.com/96309.jpg'},\n",
       " {'title': 'Beef Stew With Potatoes And Carrots Recipe',\n",
       "  'href': 'http://www.grouprecipes.com/81254/beef-stew-with-potatoes-and-carrots.html',\n",
       "  'ingredients': 'beef, potato',\n",
       "  'thumbnail': 'http://img.recipepuppy.com/162998.jpg'}]"
      ]
     },
     "execution_count": 14,
     "metadata": {},
     "output_type": "execute_result"
    }
   ],
   "source": [
    "recipe_list[48:52]"
   ]
  },
  {
   "cell_type": "code",
   "execution_count": 15,
   "metadata": {},
   "outputs": [],
   "source": [
    "with open('potatoes_100.json', \"w\") as f:\n",
    "    json.dump(recipe_list, f, indent=4)"
   ]
  }
 ],
 "metadata": {
  "kernelspec": {
   "display_name": "Python 3",
   "language": "python",
   "name": "python3"
  },
  "language_info": {
   "codemirror_mode": {
    "name": "ipython",
    "version": 3
   },
   "file_extension": ".py",
   "mimetype": "text/x-python",
   "name": "python",
   "nbconvert_exporter": "python",
   "pygments_lexer": "ipython3",
   "version": "3.8.3"
  }
 },
 "nbformat": 4,
 "nbformat_minor": 4
}
