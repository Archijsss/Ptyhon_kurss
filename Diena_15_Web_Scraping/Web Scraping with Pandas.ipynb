{
 "cells": [
  {
   "cell_type": "code",
   "execution_count": 1,
   "metadata": {},
   "outputs": [],
   "source": [
    "import pandas as pd"
   ]
  },
  {
   "cell_type": "code",
   "execution_count": 2,
   "metadata": {},
   "outputs": [],
   "source": [
    "url = \"https://www.ss.com/lv/real-estate/flats/riga/centre/sell/\" \n",
    "# notice how we can specify some parameters in the url\n"
   ]
  },
  {
   "cell_type": "code",
   "execution_count": 3,
   "metadata": {},
   "outputs": [
    {
     "data": {
      "text/plain": [
       "list"
      ]
     },
     "execution_count": 3,
     "metadata": {},
     "output_type": "execute_result"
    }
   ],
   "source": [
    "dfs = pd.read_html(url, header=0) # i know that i want the first row to server for column names\n",
    "type(dfs)"
   ]
  },
  {
   "cell_type": "code",
   "execution_count": 4,
   "metadata": {},
   "outputs": [
    {
     "data": {
      "text/plain": [
       "7"
      ]
     },
     "execution_count": 4,
     "metadata": {},
     "output_type": "execute_result"
    }
   ],
   "source": [
    "len(dfs) # why list and why such length ?"
   ]
  },
  {
   "cell_type": "code",
   "execution_count": null,
   "metadata": {},
   "outputs": [],
   "source": [
    "# https://pandas.pydata.org/pandas-docs/stable/reference/api/pandas.read_html.html\n",
    "# pandas reads tables by default ALL tables on the page\n"
   ]
  },
  {
   "cell_type": "code",
   "execution_count": 5,
   "metadata": {},
   "outputs": [
    {
     "data": {
      "text/html": [
       "<div>\n",
       "<style scoped>\n",
       "    .dataframe tbody tr th:only-of-type {\n",
       "        vertical-align: middle;\n",
       "    }\n",
       "\n",
       "    .dataframe tbody tr th {\n",
       "        vertical-align: top;\n",
       "    }\n",
       "\n",
       "    .dataframe thead th {\n",
       "        text-align: right;\n",
       "    }\n",
       "</style>\n",
       "<table border=\"1\" class=\"dataframe\">\n",
       "  <thead>\n",
       "    <tr style=\"text-align: right;\">\n",
       "      <th></th>\n",
       "      <th>Sludinājumi \\tdatums</th>\n",
       "      <th>Sludinājumi \\tdatums.1</th>\n",
       "      <th>Sludinājumi \\tdatums.2</th>\n",
       "      <th>Iela</th>\n",
       "      <th>Ist.</th>\n",
       "      <th>m2</th>\n",
       "      <th>Stāvs</th>\n",
       "      <th>Sērija</th>\n",
       "      <th>Cena, m2</th>\n",
       "      <th>Cena</th>\n",
       "    </tr>\n",
       "  </thead>\n",
       "  <tbody>\n",
       "    <tr>\n",
       "      <th>0</th>\n",
       "      <td>NaN</td>\n",
       "      <td>NaN</td>\n",
       "      <td>В самом сердце Риги продаётся квартира Квартир...</td>\n",
       "      <td>Kalniņa 1</td>\n",
       "      <td>1</td>\n",
       "      <td>26</td>\n",
       "      <td>4/5</td>\n",
       "      <td>Renov.</td>\n",
       "      <td>3,038 €</td>\n",
       "      <td>79,000 €</td>\n",
       "    </tr>\n",
       "    <tr>\n",
       "      <th>1</th>\n",
       "      <td>NaN</td>\n",
       "      <td>NaN</td>\n",
       "      <td>Kрасивая квартира в самом центре Риги, по адре...</td>\n",
       "      <td>Merķeļa 17</td>\n",
       "      <td>2</td>\n",
       "      <td>60</td>\n",
       "      <td>2/4</td>\n",
       "      <td>P. kara</td>\n",
       "      <td>2,667 €</td>\n",
       "      <td>160,000 €</td>\n",
       "    </tr>\n",
       "    <tr>\n",
       "      <th>2</th>\n",
       "      <td>NaN</td>\n",
       "      <td>NaN</td>\n",
       "      <td>Pārdodam elegantu 5 istabu dzīvokli pilsētas c...</td>\n",
       "      <td>Marijas 16</td>\n",
       "      <td>5</td>\n",
       "      <td>172</td>\n",
       "      <td>1/7</td>\n",
       "      <td>P. kara</td>\n",
       "      <td>1,599 €</td>\n",
       "      <td>275,000 €</td>\n",
       "    </tr>\n",
       "    <tr>\n",
       "      <th>3</th>\n",
       "      <td>NaN</td>\n",
       "      <td>NaN</td>\n",
       "      <td>Gaumīgs, mēbelēts divstāvu dzīvoklis ar balkon...</td>\n",
       "      <td>Pulkv. Brieža 7</td>\n",
       "      <td>3</td>\n",
       "      <td>104</td>\n",
       "      <td>6/7</td>\n",
       "      <td>Renov.</td>\n",
       "      <td>2,423 €</td>\n",
       "      <td>252,000 €</td>\n",
       "    </tr>\n",
       "    <tr>\n",
       "      <th>4</th>\n",
       "      <td>NaN</td>\n",
       "      <td>NaN</td>\n",
       "      <td>Īpašnieks pārdod dzīvokli ar pēlēko apdari jau...</td>\n",
       "      <td>Kungu 25</td>\n",
       "      <td>1</td>\n",
       "      <td>24</td>\n",
       "      <td>5/6</td>\n",
       "      <td>Jaun.</td>\n",
       "      <td>2,083 €</td>\n",
       "      <td>49,990 €</td>\n",
       "    </tr>\n",
       "  </tbody>\n",
       "</table>\n",
       "</div>"
      ],
      "text/plain": [
       "   Sludinājumi \\tdatums  Sludinājumi \\tdatums.1  \\\n",
       "0                   NaN                     NaN   \n",
       "1                   NaN                     NaN   \n",
       "2                   NaN                     NaN   \n",
       "3                   NaN                     NaN   \n",
       "4                   NaN                     NaN   \n",
       "\n",
       "                              Sludinājumi \\tdatums.2             Iela Ist.  \\\n",
       "0  В самом сердце Риги продаётся квартира Квартир...        Kalniņa 1    1   \n",
       "1  Kрасивая квартира в самом центре Риги, по адре...       Merķeļa 17    2   \n",
       "2  Pārdodam elegantu 5 istabu dzīvokli pilsētas c...       Marijas 16    5   \n",
       "3  Gaumīgs, mēbelēts divstāvu dzīvoklis ar balkon...  Pulkv. Brieža 7    3   \n",
       "4  Īpašnieks pārdod dzīvokli ar pēlēko apdari jau...         Kungu 25    1   \n",
       "\n",
       "    m2 Stāvs   Sērija Cena, m2       Cena  \n",
       "0   26   4/5   Renov.  3,038 €   79,000 €  \n",
       "1   60   2/4  P. kara  2,667 €  160,000 €  \n",
       "2  172   1/7  P. kara  1,599 €  275,000 €  \n",
       "3  104   6/7   Renov.  2,423 €  252,000 €  \n",
       "4   24   5/6    Jaun.  2,083 €   49,990 €  "
      ]
     },
     "execution_count": 5,
     "metadata": {},
     "output_type": "execute_result"
    }
   ],
   "source": [
    "df = dfs[4] # the 5th table on our page has our info\n",
    "df.head()"
   ]
  },
  {
   "cell_type": "code",
   "execution_count": 6,
   "metadata": {},
   "outputs": [
    {
     "data": {
      "text/plain": [
       "(30, 10)"
      ]
     },
     "execution_count": 6,
     "metadata": {},
     "output_type": "execute_result"
    }
   ],
   "source": [
    "df.shape"
   ]
  },
  {
   "cell_type": "code",
   "execution_count": 7,
   "metadata": {},
   "outputs": [],
   "source": [
    "url2 = \"https://www.ss.com/lv/real-estate/flats/riga/centre/sell/page2.html\""
   ]
  },
  {
   "cell_type": "code",
   "execution_count": 8,
   "metadata": {},
   "outputs": [
    {
     "data": {
      "text/plain": [
       "7"
      ]
     },
     "execution_count": 8,
     "metadata": {},
     "output_type": "execute_result"
    }
   ],
   "source": [
    "dflist = pd.read_html(url2, header=0)\n",
    "len(dflist)"
   ]
  },
  {
   "cell_type": "code",
   "execution_count": 9,
   "metadata": {},
   "outputs": [
    {
     "data": {
      "text/html": [
       "<div>\n",
       "<style scoped>\n",
       "    .dataframe tbody tr th:only-of-type {\n",
       "        vertical-align: middle;\n",
       "    }\n",
       "\n",
       "    .dataframe tbody tr th {\n",
       "        vertical-align: top;\n",
       "    }\n",
       "\n",
       "    .dataframe thead th {\n",
       "        text-align: right;\n",
       "    }\n",
       "</style>\n",
       "<table border=\"1\" class=\"dataframe\">\n",
       "  <thead>\n",
       "    <tr style=\"text-align: right;\">\n",
       "      <th></th>\n",
       "      <th>Sludinājumi \\tdatums</th>\n",
       "      <th>Sludinājumi \\tdatums.1</th>\n",
       "      <th>Sludinājumi \\tdatums.2</th>\n",
       "      <th>Iela</th>\n",
       "      <th>Ist.</th>\n",
       "      <th>m2</th>\n",
       "      <th>Stāvs</th>\n",
       "      <th>Sērija</th>\n",
       "      <th>Cena, m2</th>\n",
       "      <th>Cena</th>\n",
       "    </tr>\n",
       "  </thead>\n",
       "  <tbody>\n",
       "    <tr>\n",
       "      <th>0</th>\n",
       "      <td>NaN</td>\n",
       "      <td>NaN</td>\n",
       "      <td>Последняя 3х комнатная квартира в Тихом центре...</td>\n",
       "      <td>Valdemāra 37</td>\n",
       "      <td>3</td>\n",
       "      <td>78</td>\n",
       "      <td>5/6</td>\n",
       "      <td>Renov.</td>\n",
       "      <td>2,304 €</td>\n",
       "      <td>179,700 €</td>\n",
       "    </tr>\n",
       "    <tr>\n",
       "      <th>1</th>\n",
       "      <td>NaN</td>\n",
       "      <td>NaN</td>\n",
       "      <td>Продается 2х комнатная квартира в новом проект...</td>\n",
       "      <td>Strēlnieku 7</td>\n",
       "      <td>3</td>\n",
       "      <td>59</td>\n",
       "      <td>3/7</td>\n",
       "      <td>Jaun.</td>\n",
       "      <td>2,978 €</td>\n",
       "      <td>175,700 €</td>\n",
       "    </tr>\n",
       "    <tr>\n",
       "      <th>2</th>\n",
       "      <td>NaN</td>\n",
       "      <td>NaN</td>\n",
       "      <td>Virtuve iekļauta cenā Tikko pēc remonta kompak...</td>\n",
       "      <td>Ģertrūdes 99</td>\n",
       "      <td>2</td>\n",
       "      <td>43</td>\n",
       "      <td>3/6</td>\n",
       "      <td>Renov.</td>\n",
       "      <td>2,034 €</td>\n",
       "      <td>87,450 €</td>\n",
       "    </tr>\n",
       "    <tr>\n",
       "      <th>3</th>\n",
       "      <td>NaN</td>\n",
       "      <td>NaN</td>\n",
       "      <td>Liels vienistabas dzīvoklis, ko var pārbūvēt p...</td>\n",
       "      <td>Tomsona 19</td>\n",
       "      <td>1</td>\n",
       "      <td>40</td>\n",
       "      <td>1/5</td>\n",
       "      <td>Hrušč.</td>\n",
       "      <td>1,100 €</td>\n",
       "      <td>44,000 €</td>\n",
       "    </tr>\n",
       "    <tr>\n",
       "      <th>4</th>\n",
       "      <td>NaN</td>\n",
       "      <td>NaN</td>\n",
       "      <td>Pārplanots un izremontēts 3.istabu dzīvoklis ķ...</td>\n",
       "      <td>Pērnavas 39</td>\n",
       "      <td>3</td>\n",
       "      <td>64</td>\n",
       "      <td>2/6</td>\n",
       "      <td>P. kara</td>\n",
       "      <td>1,406 €</td>\n",
       "      <td>90,000 €</td>\n",
       "    </tr>\n",
       "  </tbody>\n",
       "</table>\n",
       "</div>"
      ],
      "text/plain": [
       "   Sludinājumi \\tdatums  Sludinājumi \\tdatums.1  \\\n",
       "0                   NaN                     NaN   \n",
       "1                   NaN                     NaN   \n",
       "2                   NaN                     NaN   \n",
       "3                   NaN                     NaN   \n",
       "4                   NaN                     NaN   \n",
       "\n",
       "                              Sludinājumi \\tdatums.2          Iela  Ist.  m2  \\\n",
       "0  Последняя 3х комнатная квартира в Тихом центре...  Valdemāra 37     3  78   \n",
       "1  Продается 2х комнатная квартира в новом проект...  Strēlnieku 7     3  59   \n",
       "2  Virtuve iekļauta cenā Tikko pēc remonta kompak...  Ģertrūdes 99     2  43   \n",
       "3  Liels vienistabas dzīvoklis, ko var pārbūvēt p...    Tomsona 19     1  40   \n",
       "4  Pārplanots un izremontēts 3.istabu dzīvoklis ķ...   Pērnavas 39     3  64   \n",
       "\n",
       "  Stāvs   Sērija Cena, m2       Cena  \n",
       "0   5/6   Renov.  2,304 €  179,700 €  \n",
       "1   3/7    Jaun.  2,978 €  175,700 €  \n",
       "2   3/6   Renov.  2,034 €   87,450 €  \n",
       "3   1/5   Hrušč.  1,100 €   44,000 €  \n",
       "4   2/6  P. kara  1,406 €   90,000 €  "
      ]
     },
     "execution_count": 9,
     "metadata": {},
     "output_type": "execute_result"
    }
   ],
   "source": [
    "dflist[4].head() # getting start of 5th table from our 2nd html page"
   ]
  },
  {
   "cell_type": "code",
   "execution_count": 10,
   "metadata": {},
   "outputs": [
    {
     "data": {
      "text/html": [
       "<div>\n",
       "<style scoped>\n",
       "    .dataframe tbody tr th:only-of-type {\n",
       "        vertical-align: middle;\n",
       "    }\n",
       "\n",
       "    .dataframe tbody tr th {\n",
       "        vertical-align: top;\n",
       "    }\n",
       "\n",
       "    .dataframe thead th {\n",
       "        text-align: right;\n",
       "    }\n",
       "</style>\n",
       "<table border=\"1\" class=\"dataframe\">\n",
       "  <thead>\n",
       "    <tr style=\"text-align: right;\">\n",
       "      <th></th>\n",
       "      <th>Sludinājumi \\tdatums</th>\n",
       "      <th>Sludinājumi \\tdatums.1</th>\n",
       "      <th>Sludinājumi \\tdatums.2</th>\n",
       "      <th>Iela</th>\n",
       "      <th>Ist.</th>\n",
       "      <th>m2</th>\n",
       "      <th>Stāvs</th>\n",
       "      <th>Sērija</th>\n",
       "      <th>Cena, m2</th>\n",
       "      <th>Cena</th>\n",
       "    </tr>\n",
       "  </thead>\n",
       "  <tbody>\n",
       "    <tr>\n",
       "      <th>0</th>\n",
       "      <td>NaN</td>\n",
       "      <td>NaN</td>\n",
       "      <td>В самом сердце Риги продаётся квартира Квартир...</td>\n",
       "      <td>Kalniņa 1</td>\n",
       "      <td>1</td>\n",
       "      <td>26</td>\n",
       "      <td>4/5</td>\n",
       "      <td>Renov.</td>\n",
       "      <td>3,038 €</td>\n",
       "      <td>79,000 €</td>\n",
       "    </tr>\n",
       "    <tr>\n",
       "      <th>1</th>\n",
       "      <td>NaN</td>\n",
       "      <td>NaN</td>\n",
       "      <td>Kрасивая квартира в самом центре Риги, по адре...</td>\n",
       "      <td>Merķeļa 17</td>\n",
       "      <td>2</td>\n",
       "      <td>60</td>\n",
       "      <td>2/4</td>\n",
       "      <td>P. kara</td>\n",
       "      <td>2,667 €</td>\n",
       "      <td>160,000 €</td>\n",
       "    </tr>\n",
       "    <tr>\n",
       "      <th>2</th>\n",
       "      <td>NaN</td>\n",
       "      <td>NaN</td>\n",
       "      <td>Pārdodam elegantu 5 istabu dzīvokli pilsētas c...</td>\n",
       "      <td>Marijas 16</td>\n",
       "      <td>5</td>\n",
       "      <td>172</td>\n",
       "      <td>1/7</td>\n",
       "      <td>P. kara</td>\n",
       "      <td>1,599 €</td>\n",
       "      <td>275,000 €</td>\n",
       "    </tr>\n",
       "    <tr>\n",
       "      <th>3</th>\n",
       "      <td>NaN</td>\n",
       "      <td>NaN</td>\n",
       "      <td>Gaumīgs, mēbelēts divstāvu dzīvoklis ar balkon...</td>\n",
       "      <td>Pulkv. Brieža 7</td>\n",
       "      <td>3</td>\n",
       "      <td>104</td>\n",
       "      <td>6/7</td>\n",
       "      <td>Renov.</td>\n",
       "      <td>2,423 €</td>\n",
       "      <td>252,000 €</td>\n",
       "    </tr>\n",
       "    <tr>\n",
       "      <th>4</th>\n",
       "      <td>NaN</td>\n",
       "      <td>NaN</td>\n",
       "      <td>Īpašnieks pārdod dzīvokli ar pēlēko apdari jau...</td>\n",
       "      <td>Kungu 25</td>\n",
       "      <td>1</td>\n",
       "      <td>24</td>\n",
       "      <td>5/6</td>\n",
       "      <td>Jaun.</td>\n",
       "      <td>2,083 €</td>\n",
       "      <td>49,990 €</td>\n",
       "    </tr>\n",
       "  </tbody>\n",
       "</table>\n",
       "</div>"
      ],
      "text/plain": [
       "   Sludinājumi \\tdatums  Sludinājumi \\tdatums.1  \\\n",
       "0                   NaN                     NaN   \n",
       "1                   NaN                     NaN   \n",
       "2                   NaN                     NaN   \n",
       "3                   NaN                     NaN   \n",
       "4                   NaN                     NaN   \n",
       "\n",
       "                              Sludinājumi \\tdatums.2             Iela Ist.  \\\n",
       "0  В самом сердце Риги продаётся квартира Квартир...        Kalniņa 1    1   \n",
       "1  Kрасивая квартира в самом центре Риги, по адре...       Merķeļa 17    2   \n",
       "2  Pārdodam elegantu 5 istabu dzīvokli pilsētas c...       Marijas 16    5   \n",
       "3  Gaumīgs, mēbelēts divstāvu dzīvoklis ar balkon...  Pulkv. Brieža 7    3   \n",
       "4  Īpašnieks pārdod dzīvokli ar pēlēko apdari jau...         Kungu 25    1   \n",
       "\n",
       "    m2 Stāvs   Sērija Cena, m2       Cena  \n",
       "0   26   4/5   Renov.  3,038 €   79,000 €  \n",
       "1   60   2/4  P. kara  2,667 €  160,000 €  \n",
       "2  172   1/7  P. kara  1,599 €  275,000 €  \n",
       "3  104   6/7   Renov.  2,423 €  252,000 €  \n",
       "4   24   5/6    Jaun.  2,083 €   49,990 €  "
      ]
     },
     "execution_count": 10,
     "metadata": {},
     "output_type": "execute_result"
    }
   ],
   "source": [
    "bigdf = pd.concat([df, dflist[4]]) # concat creates a new dataframe from an iterable! of dataframes\n",
    "# https://pandas.pydata.org/pandas-docs/stable/reference/api/pandas.concat.html\n",
    "bigdf.head()"
   ]
  },
  {
   "cell_type": "code",
   "execution_count": 11,
   "metadata": {},
   "outputs": [
    {
     "data": {
      "text/plain": [
       "((30, 10), (30, 10), (60, 10))"
      ]
     },
     "execution_count": 11,
     "metadata": {},
     "output_type": "execute_result"
    }
   ],
   "source": [
    "df.shape, dflist[4].shape, bigdf.shape"
   ]
  },
  {
   "cell_type": "code",
   "execution_count": 12,
   "metadata": {},
   "outputs": [],
   "source": [
    "bigdf.to_excel(\"riga_center_60.xlsx\")"
   ]
  },
  {
   "cell_type": "code",
   "execution_count": null,
   "metadata": {},
   "outputs": [],
   "source": [
    "# so if we know the last page of\n"
   ]
  },
  {
   "cell_type": "code",
   "execution_count": null,
   "metadata": {},
   "outputs": [],
   "source": [
    "# Challenge how to automatically get all pages no matter how many ads?\n",
    "# how to scrape web address for each ad (in case we want to look in to the ad more in depth)"
   ]
  }
 ],
 "metadata": {
  "kernelspec": {
   "display_name": "Python 3",
   "language": "python",
   "name": "python3"
  },
  "language_info": {
   "codemirror_mode": {
    "name": "ipython",
    "version": 3
   },
   "file_extension": ".py",
   "mimetype": "text/x-python",
   "name": "python",
   "nbconvert_exporter": "python",
   "pygments_lexer": "ipython3",
   "version": "3.8.3"
  }
 },
 "nbformat": 4,
 "nbformat_minor": 4
}
