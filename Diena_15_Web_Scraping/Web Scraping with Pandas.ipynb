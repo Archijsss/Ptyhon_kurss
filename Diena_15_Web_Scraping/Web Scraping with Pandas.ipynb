{
 "cells": [
  {
   "cell_type": "code",
   "execution_count": 1,
   "metadata": {},
   "outputs": [],
   "source": [
    "import pandas as pd"
   ]
  },
  {
   "cell_type": "code",
   "execution_count": 2,
   "metadata": {},
   "outputs": [],
   "source": [
    "url = \"https://www.ss.com/lv/real-estate/flats/riga/centre/sell/\" \n",
    "# notice how we can specify some parameters in the url\n"
   ]
  },
  {
   "cell_type": "code",
   "execution_count": 3,
   "metadata": {},
   "outputs": [
    {
     "data": {
      "text/plain": [
       "list"
      ]
     },
     "execution_count": 3,
     "metadata": {},
     "output_type": "execute_result"
    }
   ],
   "source": [
    "dfs = pd.read_html(url, header=0) # i know that i want the first row to server for column names\n",
    "type(dfs)"
   ]
  },
  {
   "cell_type": "code",
   "execution_count": 4,
   "metadata": {},
   "outputs": [
    {
     "data": {
      "text/plain": [
       "7"
      ]
     },
     "execution_count": 4,
     "metadata": {},
     "output_type": "execute_result"
    }
   ],
   "source": [
    "len(dfs) # why list and why such length ?"
   ]
  },
  {
   "cell_type": "code",
   "execution_count": null,
   "metadata": {},
   "outputs": [],
   "source": [
    "# https://pandas.pydata.org/pandas-docs/stable/reference/api/pandas.read_html.html\n",
    "# pandas reads tables by default ALL tables on the page\n"
   ]
  },
  {
   "cell_type": "code",
   "execution_count": 5,
   "metadata": {},
   "outputs": [
    {
     "data": {
      "text/html": [
       "<div>\n",
       "<style scoped>\n",
       "    .dataframe tbody tr th:only-of-type {\n",
       "        vertical-align: middle;\n",
       "    }\n",
       "\n",
       "    .dataframe tbody tr th {\n",
       "        vertical-align: top;\n",
       "    }\n",
       "\n",
       "    .dataframe thead th {\n",
       "        text-align: right;\n",
       "    }\n",
       "</style>\n",
       "<table border=\"1\" class=\"dataframe\">\n",
       "  <thead>\n",
       "    <tr style=\"text-align: right;\">\n",
       "      <th></th>\n",
       "      <th>Sludinājumi \\tdatums</th>\n",
       "      <th>Sludinājumi \\tdatums.1</th>\n",
       "      <th>Sludinājumi \\tdatums.2</th>\n",
       "      <th>Iela</th>\n",
       "      <th>Ist.</th>\n",
       "      <th>m2</th>\n",
       "      <th>Stāvs</th>\n",
       "      <th>Sērija</th>\n",
       "      <th>Cena, m2</th>\n",
       "      <th>Cena</th>\n",
       "    </tr>\n",
       "  </thead>\n",
       "  <tbody>\n",
       "    <tr>\n",
       "      <th>0</th>\n",
       "      <td>NaN</td>\n",
       "      <td>NaN</td>\n",
       "      <td>Pārplanots un izremontēts 3.istabu dzīvoklis ķ...</td>\n",
       "      <td>Pērnavas 39</td>\n",
       "      <td>3</td>\n",
       "      <td>64</td>\n",
       "      <td>2/6</td>\n",
       "      <td>P. kara</td>\n",
       "      <td>1,406 €</td>\n",
       "      <td>90,000 €</td>\n",
       "    </tr>\n",
       "    <tr>\n",
       "      <th>1</th>\n",
       "      <td>NaN</td>\n",
       "      <td>NaN</td>\n",
       "      <td>Skaists divlīmeņu Town House dzīvoklis \"Grīziņ...</td>\n",
       "      <td>Asara 12</td>\n",
       "      <td>4</td>\n",
       "      <td>142</td>\n",
       "      <td>1/2</td>\n",
       "      <td>Renov.</td>\n",
       "      <td>1,620 €</td>\n",
       "      <td>230,000 €</td>\n",
       "    </tr>\n",
       "    <tr>\n",
       "      <th>2</th>\n",
       "      <td>NaN</td>\n",
       "      <td>NaN</td>\n",
       "      <td>Skaists divlīmeņu Town House dzīvoklis \"Grīziņ...</td>\n",
       "      <td>Asara 12</td>\n",
       "      <td>4</td>\n",
       "      <td>134</td>\n",
       "      <td>1/2</td>\n",
       "      <td>Renov.</td>\n",
       "      <td>1,493 €</td>\n",
       "      <td>200,000 €</td>\n",
       "    </tr>\n",
       "    <tr>\n",
       "      <th>3</th>\n",
       "      <td>NaN</td>\n",
       "      <td>NaN</td>\n",
       "      <td>Продаем квартиру в доме 1955 года на на улице ...</td>\n",
       "      <td>Puškina 19</td>\n",
       "      <td>3</td>\n",
       "      <td>110</td>\n",
       "      <td>2/6</td>\n",
       "      <td>Staļina</td>\n",
       "      <td>1,000 €</td>\n",
       "      <td>110,000 €</td>\n",
       "    </tr>\n",
       "    <tr>\n",
       "      <th>4</th>\n",
       "      <td>NaN</td>\n",
       "      <td>NaN</td>\n",
       "      <td>Mājīgs, vienistabas dzīvoklis specprojekta pie...</td>\n",
       "      <td>Indrānu 2</td>\n",
       "      <td>1</td>\n",
       "      <td>33</td>\n",
       "      <td>5/5</td>\n",
       "      <td>Specpr.</td>\n",
       "      <td>1,270 €</td>\n",
       "      <td>41,900 €</td>\n",
       "    </tr>\n",
       "  </tbody>\n",
       "</table>\n",
       "</div>"
      ],
      "text/plain": [
       "   Sludinājumi \\tdatums  Sludinājumi \\tdatums.1  \\\n",
       "0                   NaN                     NaN   \n",
       "1                   NaN                     NaN   \n",
       "2                   NaN                     NaN   \n",
       "3                   NaN                     NaN   \n",
       "4                   NaN                     NaN   \n",
       "\n",
       "                              Sludinājumi \\tdatums.2         Iela  Ist.   m2  \\\n",
       "0  Pārplanots un izremontēts 3.istabu dzīvoklis ķ...  Pērnavas 39     3   64   \n",
       "1  Skaists divlīmeņu Town House dzīvoklis \"Grīziņ...     Asara 12     4  142   \n",
       "2  Skaists divlīmeņu Town House dzīvoklis \"Grīziņ...     Asara 12     4  134   \n",
       "3  Продаем квартиру в доме 1955 года на на улице ...   Puškina 19     3  110   \n",
       "4  Mājīgs, vienistabas dzīvoklis specprojekta pie...    Indrānu 2     1   33   \n",
       "\n",
       "  Stāvs   Sērija Cena, m2       Cena  \n",
       "0   2/6  P. kara  1,406 €   90,000 €  \n",
       "1   1/2   Renov.  1,620 €  230,000 €  \n",
       "2   1/2   Renov.  1,493 €  200,000 €  \n",
       "3   2/6  Staļina  1,000 €  110,000 €  \n",
       "4   5/5  Specpr.  1,270 €   41,900 €  "
      ]
     },
     "execution_count": 5,
     "metadata": {},
     "output_type": "execute_result"
    }
   ],
   "source": [
    "df = dfs[4] # the 5th table on our page has our info\n",
    "df.head()"
   ]
  },
  {
   "cell_type": "code",
   "execution_count": 6,
   "metadata": {},
   "outputs": [
    {
     "data": {
      "text/plain": [
       "(30, 10)"
      ]
     },
     "execution_count": 6,
     "metadata": {},
     "output_type": "execute_result"
    }
   ],
   "source": [
    "df.shape"
   ]
  },
  {
   "cell_type": "code",
   "execution_count": 7,
   "metadata": {},
   "outputs": [],
   "source": [
    "url2 = \"https://www.ss.com/lv/real-estate/flats/riga/centre/sell/page2.html\""
   ]
  },
  {
   "cell_type": "code",
   "execution_count": 8,
   "metadata": {},
   "outputs": [
    {
     "data": {
      "text/plain": [
       "7"
      ]
     },
     "execution_count": 8,
     "metadata": {},
     "output_type": "execute_result"
    }
   ],
   "source": [
    "dflist = pd.read_html(url2, header=0)\n",
    "len(dflist)"
   ]
  },
  {
   "cell_type": "code",
   "execution_count": 9,
   "metadata": {},
   "outputs": [
    {
     "data": {
      "text/html": [
       "<div>\n",
       "<style scoped>\n",
       "    .dataframe tbody tr th:only-of-type {\n",
       "        vertical-align: middle;\n",
       "    }\n",
       "\n",
       "    .dataframe tbody tr th {\n",
       "        vertical-align: top;\n",
       "    }\n",
       "\n",
       "    .dataframe thead th {\n",
       "        text-align: right;\n",
       "    }\n",
       "</style>\n",
       "<table border=\"1\" class=\"dataframe\">\n",
       "  <thead>\n",
       "    <tr style=\"text-align: right;\">\n",
       "      <th></th>\n",
       "      <th>Sludinājumi \\tdatums</th>\n",
       "      <th>Sludinājumi \\tdatums.1</th>\n",
       "      <th>Sludinājumi \\tdatums.2</th>\n",
       "      <th>Iela</th>\n",
       "      <th>Ist.</th>\n",
       "      <th>m2</th>\n",
       "      <th>Stāvs</th>\n",
       "      <th>Sērija</th>\n",
       "      <th>Cena, m2</th>\n",
       "      <th>Cena</th>\n",
       "    </tr>\n",
       "  </thead>\n",
       "  <tbody>\n",
       "    <tr>\n",
       "      <th>0</th>\n",
       "      <td>NaN</td>\n",
       "      <td>NaN</td>\n",
       "      <td>Īpašnieks pārdod gaišu, plašu dzīvokli ar labu...</td>\n",
       "      <td>Hanzas 4</td>\n",
       "      <td>4</td>\n",
       "      <td>114</td>\n",
       "      <td>6/6</td>\n",
       "      <td>P. kara</td>\n",
       "      <td>1,404 €</td>\n",
       "      <td>160,000 €</td>\n",
       "    </tr>\n",
       "    <tr>\n",
       "      <th>1</th>\n",
       "      <td>NaN</td>\n",
       "      <td>NaN</td>\n",
       "      <td>Эксклюзивная 2-хуровневая тихая, тёплая, солне...</td>\n",
       "      <td>Čaka 44</td>\n",
       "      <td>2</td>\n",
       "      <td>97</td>\n",
       "      <td>2/5</td>\n",
       "      <td>P. kara</td>\n",
       "      <td>1,031 €</td>\n",
       "      <td>100,000 €</td>\n",
       "    </tr>\n",
       "    <tr>\n",
       "      <th>2</th>\n",
       "      <td>NaN</td>\n",
       "      <td>NaN</td>\n",
       "      <td>Īpašnieks pārdod trīs istabu mansarda dzīvokli...</td>\n",
       "      <td>Stabu 99</td>\n",
       "      <td>3</td>\n",
       "      <td>68</td>\n",
       "      <td>6/6</td>\n",
       "      <td>Renov.</td>\n",
       "      <td>1,092 €</td>\n",
       "      <td>74,250 €</td>\n",
       "    </tr>\n",
       "    <tr>\n",
       "      <th>3</th>\n",
       "      <td>NaN</td>\n",
       "      <td>NaN</td>\n",
       "      <td>Tiek pārdots gaišs divu istabu dzīvoklis pēc k...</td>\n",
       "      <td>Cēsu 30</td>\n",
       "      <td>2</td>\n",
       "      <td>63</td>\n",
       "      <td>2/4</td>\n",
       "      <td>P. kara</td>\n",
       "      <td>1,110 €</td>\n",
       "      <td>69,900 €</td>\n",
       "    </tr>\n",
       "    <tr>\n",
       "      <th>4</th>\n",
       "      <td>NaN</td>\n",
       "      <td>NaN</td>\n",
       "      <td>Īpašnieks pārdod plašu, siltu un saulainu 4. i...</td>\n",
       "      <td>Stabu 61</td>\n",
       "      <td>4</td>\n",
       "      <td>124</td>\n",
       "      <td>3/6</td>\n",
       "      <td>P. kara</td>\n",
       "      <td>1,089 €</td>\n",
       "      <td>135,000 €</td>\n",
       "    </tr>\n",
       "  </tbody>\n",
       "</table>\n",
       "</div>"
      ],
      "text/plain": [
       "   Sludinājumi \\tdatums  Sludinājumi \\tdatums.1  \\\n",
       "0                   NaN                     NaN   \n",
       "1                   NaN                     NaN   \n",
       "2                   NaN                     NaN   \n",
       "3                   NaN                     NaN   \n",
       "4                   NaN                     NaN   \n",
       "\n",
       "                              Sludinājumi \\tdatums.2      Iela  Ist.   m2  \\\n",
       "0  Īpašnieks pārdod gaišu, plašu dzīvokli ar labu...  Hanzas 4     4  114   \n",
       "1  Эксклюзивная 2-хуровневая тихая, тёплая, солне...   Čaka 44     2   97   \n",
       "2  Īpašnieks pārdod trīs istabu mansarda dzīvokli...  Stabu 99     3   68   \n",
       "3  Tiek pārdots gaišs divu istabu dzīvoklis pēc k...   Cēsu 30     2   63   \n",
       "4  Īpašnieks pārdod plašu, siltu un saulainu 4. i...  Stabu 61     4  124   \n",
       "\n",
       "  Stāvs   Sērija Cena, m2       Cena  \n",
       "0   6/6  P. kara  1,404 €  160,000 €  \n",
       "1   2/5  P. kara  1,031 €  100,000 €  \n",
       "2   6/6   Renov.  1,092 €   74,250 €  \n",
       "3   2/4  P. kara  1,110 €   69,900 €  \n",
       "4   3/6  P. kara  1,089 €  135,000 €  "
      ]
     },
     "execution_count": 9,
     "metadata": {},
     "output_type": "execute_result"
    }
   ],
   "source": [
    "dflist[4].head() # getting start of 5th table from our 2nd html page"
   ]
  },
  {
   "cell_type": "code",
   "execution_count": 10,
   "metadata": {},
   "outputs": [
    {
     "data": {
      "text/html": [
       "<div>\n",
       "<style scoped>\n",
       "    .dataframe tbody tr th:only-of-type {\n",
       "        vertical-align: middle;\n",
       "    }\n",
       "\n",
       "    .dataframe tbody tr th {\n",
       "        vertical-align: top;\n",
       "    }\n",
       "\n",
       "    .dataframe thead th {\n",
       "        text-align: right;\n",
       "    }\n",
       "</style>\n",
       "<table border=\"1\" class=\"dataframe\">\n",
       "  <thead>\n",
       "    <tr style=\"text-align: right;\">\n",
       "      <th></th>\n",
       "      <th>Sludinājumi \\tdatums</th>\n",
       "      <th>Sludinājumi \\tdatums.1</th>\n",
       "      <th>Sludinājumi \\tdatums.2</th>\n",
       "      <th>Iela</th>\n",
       "      <th>Ist.</th>\n",
       "      <th>m2</th>\n",
       "      <th>Stāvs</th>\n",
       "      <th>Sērija</th>\n",
       "      <th>Cena, m2</th>\n",
       "      <th>Cena</th>\n",
       "    </tr>\n",
       "  </thead>\n",
       "  <tbody>\n",
       "    <tr>\n",
       "      <th>0</th>\n",
       "      <td>NaN</td>\n",
       "      <td>NaN</td>\n",
       "      <td>Pārplanots un izremontēts 3.istabu dzīvoklis ķ...</td>\n",
       "      <td>Pērnavas 39</td>\n",
       "      <td>3</td>\n",
       "      <td>64</td>\n",
       "      <td>2/6</td>\n",
       "      <td>P. kara</td>\n",
       "      <td>1,406 €</td>\n",
       "      <td>90,000 €</td>\n",
       "    </tr>\n",
       "    <tr>\n",
       "      <th>1</th>\n",
       "      <td>NaN</td>\n",
       "      <td>NaN</td>\n",
       "      <td>Skaists divlīmeņu Town House dzīvoklis \"Grīziņ...</td>\n",
       "      <td>Asara 12</td>\n",
       "      <td>4</td>\n",
       "      <td>142</td>\n",
       "      <td>1/2</td>\n",
       "      <td>Renov.</td>\n",
       "      <td>1,620 €</td>\n",
       "      <td>230,000 €</td>\n",
       "    </tr>\n",
       "    <tr>\n",
       "      <th>2</th>\n",
       "      <td>NaN</td>\n",
       "      <td>NaN</td>\n",
       "      <td>Skaists divlīmeņu Town House dzīvoklis \"Grīziņ...</td>\n",
       "      <td>Asara 12</td>\n",
       "      <td>4</td>\n",
       "      <td>134</td>\n",
       "      <td>1/2</td>\n",
       "      <td>Renov.</td>\n",
       "      <td>1,493 €</td>\n",
       "      <td>200,000 €</td>\n",
       "    </tr>\n",
       "    <tr>\n",
       "      <th>3</th>\n",
       "      <td>NaN</td>\n",
       "      <td>NaN</td>\n",
       "      <td>Продаем квартиру в доме 1955 года на на улице ...</td>\n",
       "      <td>Puškina 19</td>\n",
       "      <td>3</td>\n",
       "      <td>110</td>\n",
       "      <td>2/6</td>\n",
       "      <td>Staļina</td>\n",
       "      <td>1,000 €</td>\n",
       "      <td>110,000 €</td>\n",
       "    </tr>\n",
       "    <tr>\n",
       "      <th>4</th>\n",
       "      <td>NaN</td>\n",
       "      <td>NaN</td>\n",
       "      <td>Mājīgs, vienistabas dzīvoklis specprojekta pie...</td>\n",
       "      <td>Indrānu 2</td>\n",
       "      <td>1</td>\n",
       "      <td>33</td>\n",
       "      <td>5/5</td>\n",
       "      <td>Specpr.</td>\n",
       "      <td>1,270 €</td>\n",
       "      <td>41,900 €</td>\n",
       "    </tr>\n",
       "  </tbody>\n",
       "</table>\n",
       "</div>"
      ],
      "text/plain": [
       "   Sludinājumi \\tdatums  Sludinājumi \\tdatums.1  \\\n",
       "0                   NaN                     NaN   \n",
       "1                   NaN                     NaN   \n",
       "2                   NaN                     NaN   \n",
       "3                   NaN                     NaN   \n",
       "4                   NaN                     NaN   \n",
       "\n",
       "                              Sludinājumi \\tdatums.2         Iela  Ist.   m2  \\\n",
       "0  Pārplanots un izremontēts 3.istabu dzīvoklis ķ...  Pērnavas 39     3   64   \n",
       "1  Skaists divlīmeņu Town House dzīvoklis \"Grīziņ...     Asara 12     4  142   \n",
       "2  Skaists divlīmeņu Town House dzīvoklis \"Grīziņ...     Asara 12     4  134   \n",
       "3  Продаем квартиру в доме 1955 года на на улице ...   Puškina 19     3  110   \n",
       "4  Mājīgs, vienistabas dzīvoklis specprojekta pie...    Indrānu 2     1   33   \n",
       "\n",
       "  Stāvs   Sērija Cena, m2       Cena  \n",
       "0   2/6  P. kara  1,406 €   90,000 €  \n",
       "1   1/2   Renov.  1,620 €  230,000 €  \n",
       "2   1/2   Renov.  1,493 €  200,000 €  \n",
       "3   2/6  Staļina  1,000 €  110,000 €  \n",
       "4   5/5  Specpr.  1,270 €   41,900 €  "
      ]
     },
     "execution_count": 10,
     "metadata": {},
     "output_type": "execute_result"
    }
   ],
   "source": [
    "bigdf = pd.concat([df, dflist[4]]) # concat creates a new dataframe from an iterable! of dataframes\n",
    "# https://pandas.pydata.org/pandas-docs/stable/reference/api/pandas.concat.html\n",
    "bigdf.head()"
   ]
  },
  {
   "cell_type": "code",
   "execution_count": 11,
   "metadata": {},
   "outputs": [
    {
     "data": {
      "text/plain": [
       "((30, 10), (30, 10), (60, 10))"
      ]
     },
     "execution_count": 11,
     "metadata": {},
     "output_type": "execute_result"
    }
   ],
   "source": [
    "df.shape, dflist[4].shape, bigdf.shape"
   ]
  },
  {
   "cell_type": "code",
   "execution_count": 12,
   "metadata": {},
   "outputs": [],
   "source": [
    "bigdf.to_excel(\"riga_center_60.xlsx\")"
   ]
  },
  {
   "cell_type": "code",
   "execution_count": null,
   "metadata": {},
   "outputs": [],
   "source": [
    "# so if we know the last page of\n"
   ]
  },
  {
   "cell_type": "code",
   "execution_count": null,
   "metadata": {},
   "outputs": [],
   "source": [
    "# Challenge how to automatically get all pages no matter how many ads?\n",
    "# how to scrape web address for each ad (in case we want to look in to the ad more in depth)"
   ]
  }
 ],
 "metadata": {
  "kernelspec": {
   "display_name": "Python 3",
   "language": "python",
   "name": "python3"
  },
  "language_info": {
   "codemirror_mode": {
    "name": "ipython",
    "version": 3
   },
   "file_extension": ".py",
   "mimetype": "text/x-python",
   "name": "python",
   "nbconvert_exporter": "python",
   "pygments_lexer": "ipython3",
   "version": "3.8.3"
  }
 },
 "nbformat": 4,
 "nbformat_minor": 4
}
