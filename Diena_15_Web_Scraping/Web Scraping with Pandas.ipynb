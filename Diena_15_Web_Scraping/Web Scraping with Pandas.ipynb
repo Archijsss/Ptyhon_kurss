{
 "cells": [
  {
   "cell_type": "code",
   "execution_count": 1,
   "metadata": {},
   "outputs": [],
   "source": [
    "import pandas as pd"
   ]
  },
  {
   "cell_type": "code",
   "execution_count": 2,
   "metadata": {},
   "outputs": [],
   "source": [
    "url = \"https://www.ss.com/lv/real-estate/flats/riga/centre/sell/\" \n",
    "# notice how we can specify some parameters in the url\n"
   ]
  },
  {
   "cell_type": "code",
   "execution_count": 3,
   "metadata": {},
   "outputs": [
    {
     "data": {
      "text/plain": [
       "list"
      ]
     },
     "execution_count": 3,
     "metadata": {},
     "output_type": "execute_result"
    }
   ],
   "source": [
    "dfs = pd.read_html(url, header=0) # i know that i want the first row to server for column names\n",
    "type(dfs)"
   ]
  },
  {
   "cell_type": "code",
   "execution_count": 4,
   "metadata": {},
   "outputs": [
    {
     "data": {
      "text/plain": [
       "7"
      ]
     },
     "execution_count": 4,
     "metadata": {},
     "output_type": "execute_result"
    }
   ],
   "source": [
    "len(dfs) # why list and why such length ?"
   ]
  },
  {
   "cell_type": "code",
   "execution_count": null,
   "metadata": {},
   "outputs": [],
   "source": [
    "# https://pandas.pydata.org/pandas-docs/stable/reference/api/pandas.read_html.html\n",
    "# pandas reads tables by default ALL tables on the page\n"
   ]
  },
  {
   "cell_type": "code",
   "execution_count": 5,
   "metadata": {},
   "outputs": [
    {
     "data": {
      "text/html": [
       "<div>\n",
       "<style scoped>\n",
       "    .dataframe tbody tr th:only-of-type {\n",
       "        vertical-align: middle;\n",
       "    }\n",
       "\n",
       "    .dataframe tbody tr th {\n",
       "        vertical-align: top;\n",
       "    }\n",
       "\n",
       "    .dataframe thead th {\n",
       "        text-align: right;\n",
       "    }\n",
       "</style>\n",
       "<table border=\"1\" class=\"dataframe\">\n",
       "  <thead>\n",
       "    <tr style=\"text-align: right;\">\n",
       "      <th></th>\n",
       "      <th>Sludinājumi \\tdatums</th>\n",
       "      <th>Sludinājumi \\tdatums.1</th>\n",
       "      <th>Sludinājumi \\tdatums.2</th>\n",
       "      <th>Iela</th>\n",
       "      <th>Ist.</th>\n",
       "      <th>m2</th>\n",
       "      <th>Stāvs</th>\n",
       "      <th>Sērija</th>\n",
       "      <th>Cena, m2</th>\n",
       "      <th>Cena</th>\n",
       "    </tr>\n",
       "  </thead>\n",
       "  <tbody>\n",
       "    <tr>\n",
       "      <th>0</th>\n",
       "      <td>NaN</td>\n",
       "      <td>NaN</td>\n",
       "      <td>Autostāvvieta iekļauta cenā ( 8000€ vērtībā) P...</td>\n",
       "      <td>Ģertrūdes 99</td>\n",
       "      <td>3</td>\n",
       "      <td>67</td>\n",
       "      <td>4/6</td>\n",
       "      <td>P. kara</td>\n",
       "      <td>1,684 €</td>\n",
       "      <td>112,800 €</td>\n",
       "    </tr>\n",
       "    <tr>\n",
       "      <th>1</th>\n",
       "      <td>NaN</td>\n",
       "      <td>NaN</td>\n",
       "      <td>Ģimene pārdod mājīgu un gaišu 3 istabu dzīvokl...</td>\n",
       "      <td>Ģertrūdes 135</td>\n",
       "      <td>3</td>\n",
       "      <td>70</td>\n",
       "      <td>5/5</td>\n",
       "      <td>P. kara</td>\n",
       "      <td>907 €</td>\n",
       "      <td>63,500 €</td>\n",
       "    </tr>\n",
       "    <tr>\n",
       "      <th>2</th>\n",
       "      <td>NaN</td>\n",
       "      <td>NaN</td>\n",
       "      <td>Продаю квартиру в центре города с печным отопл...</td>\n",
       "      <td>Vārnu 4</td>\n",
       "      <td>1</td>\n",
       "      <td>20</td>\n",
       "      <td>2/2</td>\n",
       "      <td>P. kara</td>\n",
       "      <td>725 €</td>\n",
       "      <td>14,500 €</td>\n",
       "    </tr>\n",
       "    <tr>\n",
       "      <th>3</th>\n",
       "      <td>NaN</td>\n",
       "      <td>NaN</td>\n",
       "      <td>Centrs. Visa veida transporti pieejami. Autoos...</td>\n",
       "      <td>Visvalža 3B</td>\n",
       "      <td>2</td>\n",
       "      <td>50</td>\n",
       "      <td>1/5</td>\n",
       "      <td>P. kara</td>\n",
       "      <td>1,278 €</td>\n",
       "      <td>63,900 €</td>\n",
       "    </tr>\n",
       "    <tr>\n",
       "      <th>4</th>\n",
       "      <td>NaN</td>\n",
       "      <td>NaN</td>\n",
       "      <td>Pārdošanā gaišs divistabu dzīvoklis renovētā p...</td>\n",
       "      <td>Miera 105</td>\n",
       "      <td>2</td>\n",
       "      <td>48</td>\n",
       "      <td>2/6</td>\n",
       "      <td>Renov.</td>\n",
       "      <td>1,969 €</td>\n",
       "      <td>94,500 €</td>\n",
       "    </tr>\n",
       "  </tbody>\n",
       "</table>\n",
       "</div>"
      ],
      "text/plain": [
       "   Sludinājumi \\tdatums  Sludinājumi \\tdatums.1  \\\n",
       "0                   NaN                     NaN   \n",
       "1                   NaN                     NaN   \n",
       "2                   NaN                     NaN   \n",
       "3                   NaN                     NaN   \n",
       "4                   NaN                     NaN   \n",
       "\n",
       "                              Sludinājumi \\tdatums.2           Iela Ist.  m2  \\\n",
       "0  Autostāvvieta iekļauta cenā ( 8000€ vērtībā) P...   Ģertrūdes 99    3  67   \n",
       "1  Ģimene pārdod mājīgu un gaišu 3 istabu dzīvokl...  Ģertrūdes 135    3  70   \n",
       "2  Продаю квартиру в центре города с печным отопл...        Vārnu 4    1  20   \n",
       "3  Centrs. Visa veida transporti pieejami. Autoos...    Visvalža 3B    2  50   \n",
       "4  Pārdošanā gaišs divistabu dzīvoklis renovētā p...      Miera 105    2  48   \n",
       "\n",
       "  Stāvs   Sērija Cena, m2       Cena  \n",
       "0   4/6  P. kara  1,684 €  112,800 €  \n",
       "1   5/5  P. kara    907 €   63,500 €  \n",
       "2   2/2  P. kara    725 €   14,500 €  \n",
       "3   1/5  P. kara  1,278 €   63,900 €  \n",
       "4   2/6   Renov.  1,969 €   94,500 €  "
      ]
     },
     "execution_count": 5,
     "metadata": {},
     "output_type": "execute_result"
    }
   ],
   "source": [
    "df = dfs[4] # the 5th table on our page has our info\n",
    "df.head()"
   ]
  },
  {
   "cell_type": "code",
   "execution_count": 6,
   "metadata": {},
   "outputs": [
    {
     "data": {
      "text/plain": [
       "(30, 10)"
      ]
     },
     "execution_count": 6,
     "metadata": {},
     "output_type": "execute_result"
    }
   ],
   "source": [
    "df.shape"
   ]
  },
  {
   "cell_type": "code",
   "execution_count": 7,
   "metadata": {},
   "outputs": [],
   "source": [
    "url2 = \"https://www.ss.com/lv/real-estate/flats/riga/centre/sell/page2.html\""
   ]
  },
  {
   "cell_type": "code",
   "execution_count": 8,
   "metadata": {},
   "outputs": [
    {
     "data": {
      "text/plain": [
       "7"
      ]
     },
     "execution_count": 8,
     "metadata": {},
     "output_type": "execute_result"
    }
   ],
   "source": [
    "dflist = pd.read_html(url2, header=0)\n",
    "len(dflist)"
   ]
  },
  {
   "cell_type": "code",
   "execution_count": 9,
   "metadata": {},
   "outputs": [
    {
     "data": {
      "text/html": [
       "<div>\n",
       "<style scoped>\n",
       "    .dataframe tbody tr th:only-of-type {\n",
       "        vertical-align: middle;\n",
       "    }\n",
       "\n",
       "    .dataframe tbody tr th {\n",
       "        vertical-align: top;\n",
       "    }\n",
       "\n",
       "    .dataframe thead th {\n",
       "        text-align: right;\n",
       "    }\n",
       "</style>\n",
       "<table border=\"1\" class=\"dataframe\">\n",
       "  <thead>\n",
       "    <tr style=\"text-align: right;\">\n",
       "      <th></th>\n",
       "      <th>Sludinājumi \\tdatums</th>\n",
       "      <th>Sludinājumi \\tdatums.1</th>\n",
       "      <th>Sludinājumi \\tdatums.2</th>\n",
       "      <th>Iela</th>\n",
       "      <th>Ist.</th>\n",
       "      <th>m2</th>\n",
       "      <th>Stāvs</th>\n",
       "      <th>Sērija</th>\n",
       "      <th>Cena, m2</th>\n",
       "      <th>Cena</th>\n",
       "    </tr>\n",
       "  </thead>\n",
       "  <tbody>\n",
       "    <tr>\n",
       "      <th>0</th>\n",
       "      <td>NaN</td>\n",
       "      <td>NaN</td>\n",
       "      <td>Pārdod divu istabu dzīvokli renovētā sešu stāv...</td>\n",
       "      <td>Lāčplēša 13</td>\n",
       "      <td>2</td>\n",
       "      <td>59</td>\n",
       "      <td>6/6</td>\n",
       "      <td>Renov.</td>\n",
       "      <td>1,803 €</td>\n",
       "      <td>106,380 €</td>\n",
       "    </tr>\n",
       "    <tr>\n",
       "      <th>1</th>\n",
       "      <td>NaN</td>\n",
       "      <td>NaN</td>\n",
       "      <td>Pārdod plašu, saulainu dzīvokli Rīgas centrā a...</td>\n",
       "      <td>Tērbatas 41/43</td>\n",
       "      <td>5</td>\n",
       "      <td>164</td>\n",
       "      <td>4/5</td>\n",
       "      <td>P. kara</td>\n",
       "      <td>1,518 €</td>\n",
       "      <td>249,000 €</td>\n",
       "    </tr>\n",
       "    <tr>\n",
       "      <th>2</th>\n",
       "      <td>NaN</td>\n",
       "      <td>NaN</td>\n",
       "      <td>Pārdod renovētā fasādes ēkā, saulainu 1 istabu...</td>\n",
       "      <td>Rūdolfa 1</td>\n",
       "      <td>1</td>\n",
       "      <td>30</td>\n",
       "      <td>3/6</td>\n",
       "      <td>P. kara</td>\n",
       "      <td>1,867 €</td>\n",
       "      <td>56,000 €</td>\n",
       "    </tr>\n",
       "    <tr>\n",
       "      <th>3</th>\n",
       "      <td>NaN</td>\n",
       "      <td>NaN</td>\n",
       "      <td>Pārdod mēbelētu piecu istabu dzīvokli renovētā...</td>\n",
       "      <td>Lāčplēša 13</td>\n",
       "      <td>5</td>\n",
       "      <td>129</td>\n",
       "      <td>5/6</td>\n",
       "      <td>Renov.</td>\n",
       "      <td>1,883 €</td>\n",
       "      <td>242,865 €</td>\n",
       "    </tr>\n",
       "    <tr>\n",
       "      <th>4</th>\n",
       "      <td>NaN</td>\n",
       "      <td>NaN</td>\n",
       "      <td>Pārdod mēbelētu trīs istabu dzīvokli renovētā ...</td>\n",
       "      <td>Lāčplēša 13</td>\n",
       "      <td>3</td>\n",
       "      <td>85</td>\n",
       "      <td>3/6</td>\n",
       "      <td>Renov.</td>\n",
       "      <td>2,158 €</td>\n",
       "      <td>183,395 €</td>\n",
       "    </tr>\n",
       "  </tbody>\n",
       "</table>\n",
       "</div>"
      ],
      "text/plain": [
       "   Sludinājumi \\tdatums  Sludinājumi \\tdatums.1  \\\n",
       "0                   NaN                     NaN   \n",
       "1                   NaN                     NaN   \n",
       "2                   NaN                     NaN   \n",
       "3                   NaN                     NaN   \n",
       "4                   NaN                     NaN   \n",
       "\n",
       "                              Sludinājumi \\tdatums.2            Iela  Ist.  \\\n",
       "0  Pārdod divu istabu dzīvokli renovētā sešu stāv...     Lāčplēša 13     2   \n",
       "1  Pārdod plašu, saulainu dzīvokli Rīgas centrā a...  Tērbatas 41/43     5   \n",
       "2  Pārdod renovētā fasādes ēkā, saulainu 1 istabu...       Rūdolfa 1     1   \n",
       "3  Pārdod mēbelētu piecu istabu dzīvokli renovētā...     Lāčplēša 13     5   \n",
       "4  Pārdod mēbelētu trīs istabu dzīvokli renovētā ...     Lāčplēša 13     3   \n",
       "\n",
       "    m2 Stāvs   Sērija Cena, m2       Cena  \n",
       "0   59   6/6   Renov.  1,803 €  106,380 €  \n",
       "1  164   4/5  P. kara  1,518 €  249,000 €  \n",
       "2   30   3/6  P. kara  1,867 €   56,000 €  \n",
       "3  129   5/6   Renov.  1,883 €  242,865 €  \n",
       "4   85   3/6   Renov.  2,158 €  183,395 €  "
      ]
     },
     "execution_count": 9,
     "metadata": {},
     "output_type": "execute_result"
    }
   ],
   "source": [
    "dflist[4].head() # getting start of 5th table from our 2nd html page"
   ]
  },
  {
   "cell_type": "code",
   "execution_count": 10,
   "metadata": {},
   "outputs": [
    {
     "data": {
      "text/html": [
       "<div>\n",
       "<style scoped>\n",
       "    .dataframe tbody tr th:only-of-type {\n",
       "        vertical-align: middle;\n",
       "    }\n",
       "\n",
       "    .dataframe tbody tr th {\n",
       "        vertical-align: top;\n",
       "    }\n",
       "\n",
       "    .dataframe thead th {\n",
       "        text-align: right;\n",
       "    }\n",
       "</style>\n",
       "<table border=\"1\" class=\"dataframe\">\n",
       "  <thead>\n",
       "    <tr style=\"text-align: right;\">\n",
       "      <th></th>\n",
       "      <th>Sludinājumi \\tdatums</th>\n",
       "      <th>Sludinājumi \\tdatums.1</th>\n",
       "      <th>Sludinājumi \\tdatums.2</th>\n",
       "      <th>Iela</th>\n",
       "      <th>Ist.</th>\n",
       "      <th>m2</th>\n",
       "      <th>Stāvs</th>\n",
       "      <th>Sērija</th>\n",
       "      <th>Cena, m2</th>\n",
       "      <th>Cena</th>\n",
       "    </tr>\n",
       "  </thead>\n",
       "  <tbody>\n",
       "    <tr>\n",
       "      <th>0</th>\n",
       "      <td>NaN</td>\n",
       "      <td>NaN</td>\n",
       "      <td>Autostāvvieta iekļauta cenā ( 8000€ vērtībā) P...</td>\n",
       "      <td>Ģertrūdes 99</td>\n",
       "      <td>3</td>\n",
       "      <td>67</td>\n",
       "      <td>4/6</td>\n",
       "      <td>P. kara</td>\n",
       "      <td>1,684 €</td>\n",
       "      <td>112,800 €</td>\n",
       "    </tr>\n",
       "    <tr>\n",
       "      <th>1</th>\n",
       "      <td>NaN</td>\n",
       "      <td>NaN</td>\n",
       "      <td>Ģimene pārdod mājīgu un gaišu 3 istabu dzīvokl...</td>\n",
       "      <td>Ģertrūdes 135</td>\n",
       "      <td>3</td>\n",
       "      <td>70</td>\n",
       "      <td>5/5</td>\n",
       "      <td>P. kara</td>\n",
       "      <td>907 €</td>\n",
       "      <td>63,500 €</td>\n",
       "    </tr>\n",
       "    <tr>\n",
       "      <th>2</th>\n",
       "      <td>NaN</td>\n",
       "      <td>NaN</td>\n",
       "      <td>Продаю квартиру в центре города с печным отопл...</td>\n",
       "      <td>Vārnu 4</td>\n",
       "      <td>1</td>\n",
       "      <td>20</td>\n",
       "      <td>2/2</td>\n",
       "      <td>P. kara</td>\n",
       "      <td>725 €</td>\n",
       "      <td>14,500 €</td>\n",
       "    </tr>\n",
       "    <tr>\n",
       "      <th>3</th>\n",
       "      <td>NaN</td>\n",
       "      <td>NaN</td>\n",
       "      <td>Centrs. Visa veida transporti pieejami. Autoos...</td>\n",
       "      <td>Visvalža 3B</td>\n",
       "      <td>2</td>\n",
       "      <td>50</td>\n",
       "      <td>1/5</td>\n",
       "      <td>P. kara</td>\n",
       "      <td>1,278 €</td>\n",
       "      <td>63,900 €</td>\n",
       "    </tr>\n",
       "    <tr>\n",
       "      <th>4</th>\n",
       "      <td>NaN</td>\n",
       "      <td>NaN</td>\n",
       "      <td>Pārdošanā gaišs divistabu dzīvoklis renovētā p...</td>\n",
       "      <td>Miera 105</td>\n",
       "      <td>2</td>\n",
       "      <td>48</td>\n",
       "      <td>2/6</td>\n",
       "      <td>Renov.</td>\n",
       "      <td>1,969 €</td>\n",
       "      <td>94,500 €</td>\n",
       "    </tr>\n",
       "  </tbody>\n",
       "</table>\n",
       "</div>"
      ],
      "text/plain": [
       "   Sludinājumi \\tdatums  Sludinājumi \\tdatums.1  \\\n",
       "0                   NaN                     NaN   \n",
       "1                   NaN                     NaN   \n",
       "2                   NaN                     NaN   \n",
       "3                   NaN                     NaN   \n",
       "4                   NaN                     NaN   \n",
       "\n",
       "                              Sludinājumi \\tdatums.2           Iela Ist.  m2  \\\n",
       "0  Autostāvvieta iekļauta cenā ( 8000€ vērtībā) P...   Ģertrūdes 99    3  67   \n",
       "1  Ģimene pārdod mājīgu un gaišu 3 istabu dzīvokl...  Ģertrūdes 135    3  70   \n",
       "2  Продаю квартиру в центре города с печным отопл...        Vārnu 4    1  20   \n",
       "3  Centrs. Visa veida transporti pieejami. Autoos...    Visvalža 3B    2  50   \n",
       "4  Pārdošanā gaišs divistabu dzīvoklis renovētā p...      Miera 105    2  48   \n",
       "\n",
       "  Stāvs   Sērija Cena, m2       Cena  \n",
       "0   4/6  P. kara  1,684 €  112,800 €  \n",
       "1   5/5  P. kara    907 €   63,500 €  \n",
       "2   2/2  P. kara    725 €   14,500 €  \n",
       "3   1/5  P. kara  1,278 €   63,900 €  \n",
       "4   2/6   Renov.  1,969 €   94,500 €  "
      ]
     },
     "execution_count": 10,
     "metadata": {},
     "output_type": "execute_result"
    }
   ],
   "source": [
    "bigdf = pd.concat([df, dflist[4]]) # concat creates a new dataframe from an iterable! of dataframes\n",
    "# https://pandas.pydata.org/pandas-docs/stable/reference/api/pandas.concat.html\n",
    "bigdf.head()"
   ]
  },
  {
   "cell_type": "code",
   "execution_count": 11,
   "metadata": {},
   "outputs": [
    {
     "data": {
      "text/plain": [
       "((30, 10), (30, 10), (60, 10))"
      ]
     },
     "execution_count": 11,
     "metadata": {},
     "output_type": "execute_result"
    }
   ],
   "source": [
    "df.shape, dflist[4].shape, bigdf.shape"
   ]
  },
  {
   "cell_type": "code",
   "execution_count": 13,
   "metadata": {},
   "outputs": [],
   "source": [
    "bigdf.to_excel(\"riga_center_60.xlsx\")"
   ]
  },
  {
   "cell_type": "code",
   "execution_count": null,
   "metadata": {},
   "outputs": [],
   "source": [
    "# so if we know the last page of\n"
   ]
  },
  {
   "cell_type": "code",
   "execution_count": null,
   "metadata": {},
   "outputs": [],
   "source": [
    "# Challenge how to automatically get all pages no matter how many ads?\n",
    "# how to scrape web address for each ad (in case we want to look in to the ad more in depth)"
   ]
  }
 ],
 "metadata": {
  "kernelspec": {
   "display_name": "Python 3",
   "language": "python",
   "name": "python3"
  },
  "language_info": {
   "codemirror_mode": {
    "name": "ipython",
    "version": 3
   },
   "file_extension": ".py",
   "mimetype": "text/x-python",
   "name": "python",
   "nbconvert_exporter": "python",
   "pygments_lexer": "ipython3",
   "version": "3.8.3"
  }
 },
 "nbformat": 4,
 "nbformat_minor": 4
}
