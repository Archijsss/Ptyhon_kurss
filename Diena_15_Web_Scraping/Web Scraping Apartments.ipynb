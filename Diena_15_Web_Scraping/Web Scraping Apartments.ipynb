{
 "cells": [
  {
   "cell_type": "code",
   "execution_count": 1,
   "metadata": {},
   "outputs": [],
   "source": [
    "# Requests for handling HTTP get and other requests\n",
    "import requests\n",
    "import time # import for playing nice and not getting blocked\n",
    "import pandas as pd\n",
    "# from BeautifulSoup4 import BeatifulSoup if installed through pip install BeautifulSoup4\n",
    "# \n",
    "from bs4 import BeautifulSoup"
   ]
  },
  {
   "cell_type": "code",
   "execution_count": null,
   "metadata": {},
   "outputs": [],
   "source": [
    "# if bs4 not found install it with\n",
    "#  !pip install beatifulsoup4\n",
    "# https://www.crummy.com/software/BeautifulSoup/"
   ]
  },
  {
   "cell_type": "code",
   "execution_count": 2,
   "metadata": {},
   "outputs": [],
   "source": [
    "centrs = \"https://www.ss.com/lv/real-estate/flats/riga/centre/sell/\""
   ]
  },
  {
   "cell_type": "code",
   "execution_count": 3,
   "metadata": {},
   "outputs": [
    {
     "data": {
      "text/plain": [
       "200"
      ]
     },
     "execution_count": 3,
     "metadata": {},
     "output_type": "execute_result"
    }
   ],
   "source": [
    "req = requests.get(centrs)\n",
    "req.status_code"
   ]
  },
  {
   "cell_type": "code",
   "execution_count": 4,
   "metadata": {},
   "outputs": [
    {
     "data": {
      "text/plain": [
       "<title>SS.COM Dzīvokļi - Rīga - Centrs, Cenas, Pārdod - Sludinājumi</title>"
      ]
     },
     "execution_count": 4,
     "metadata": {},
     "output_type": "execute_result"
    }
   ],
   "source": [
    "soup = BeautifulSoup(req.text, 'lxml') # lxml is improved parser, a little bit more lenient\n",
    "soup.title"
   ]
  },
  {
   "cell_type": "code",
   "execution_count": 55,
   "metadata": {},
   "outputs": [
    {
     "data": {
      "text/plain": [
       "bs4.BeautifulSoup"
      ]
     },
     "execution_count": 55,
     "metadata": {},
     "output_type": "execute_result"
    }
   ],
   "source": [
    "type(soup)"
   ]
  },
  {
   "cell_type": "code",
   "execution_count": 5,
   "metadata": {},
   "outputs": [
    {
     "data": {
      "text/plain": [
       "7"
      ]
     },
     "execution_count": 5,
     "metadata": {},
     "output_type": "execute_result"
    }
   ],
   "source": [
    "# https://www.crummy.com/software/BeautifulSoup/bs4/doc/#find-all\n",
    "tables = soup.find_all(\"table\")\n",
    "len(tables) "
   ]
  },
  {
   "cell_type": "code",
   "execution_count": 6,
   "metadata": {},
   "outputs": [
    {
     "data": {
      "text/plain": [
       "<tr id=\"head_line\">\n",
       "<td class=\"msg_column\" colspan=\"3\" width=\"70%\">\n",
       "<span style=\"float:left;\"> Sludinājumi\n",
       "</span>\n",
       "<span align=\"right\" class=\"msg_column\" style=\"float:right;text-align:right;padding-right:3px;\">\n",
       "<noindex>\n",
       "<a class=\"a19\" href=\"/lv/real-estate/flats/riga/centre/sell/fDgSeF4S.html\" rel=\"nofollow\">datums</a></noindex></span>\n",
       "</td>\n",
       "<td class=\"msg_column_td\" nowrap=\"\"><noindex><a class=\"a18\" href=\"/lv/real-estate/flats/riga/centre/sell/fDgSeF4SFDwT.html\" rel=\"nofollow\" title=\"\">Iela</a></noindex></td><td class=\"msg_column_td\" nowrap=\"\"><noindex><a class=\"a18\" href=\"/lv/real-estate/flats/riga/centre/sell/fDgSeF4SelM=.html\" rel=\"nofollow\" title=\"\">Ist.</a></noindex></td><td class=\"msg_column_td\" nowrap=\"\"><noindex><a class=\"a18\" href=\"/lv/real-estate/flats/riga/centre/sell/fDgSeF4QelM=.html\" rel=\"nofollow\" title=\"\">m2</a></noindex></td><td class=\"msg_column_td\" nowrap=\"\"><noindex><a class=\"a18\" href=\"/lv/real-estate/flats/riga/centre/sell/fDgSeF4XelM=.html\" rel=\"nofollow\" title=\"\">Stāvs</a></noindex></td><td class=\"msg_column_td\" nowrap=\"\"><noindex><a class=\"a18\" href=\"/lv/real-estate/flats/riga/centre/sell/fDgSeF4VelM=.html\" rel=\"nofollow\" title=\"\">Sērija</a></noindex></td><td background=\"https://i.ss.com/img/pl.gif\" class=\"msg_column\" nowrap=\"\" style=\"border-left:1px #FFFFFF solid;\"><noindex><a class=\"a18\" href=\"/lv/real-estate/flats/riga/centre/sell/fDgSeF4bRDwT.html\" rel=\"nofollow\">Cena, m2</a></noindex></td><td class=\"msg_column_td\" nowrap=\"\"><noindex><a class=\"a18\" href=\"/lv/real-estate/flats/riga/centre/sell/fDgSeF4belM=.html\" rel=\"nofollow\" title=\"\">Cena</a></noindex></td></tr>"
      ]
     },
     "execution_count": 6,
     "metadata": {},
     "output_type": "execute_result"
    }
   ],
   "source": [
    "\n",
    "headline = soup.find(\"tr\", {\"id\":\"head_line\"}) # this is a shorter way of finding by tr AND this element having particular id\n",
    "headline"
   ]
  },
  {
   "cell_type": "code",
   "execution_count": 56,
   "metadata": {},
   "outputs": [
    {
     "data": {
      "text/plain": [
       "bs4.element.Tag"
      ]
     },
     "execution_count": 56,
     "metadata": {},
     "output_type": "execute_result"
    }
   ],
   "source": [
    "type(headline)"
   ]
  },
  {
   "cell_type": "code",
   "execution_count": 7,
   "metadata": {},
   "outputs": [
    {
     "data": {
      "text/plain": [
       "[<td class=\"msg_column\" colspan=\"3\" width=\"70%\">\n",
       " <span style=\"float:left;\"> Sludinājumi\n",
       " </span>\n",
       " <span align=\"right\" class=\"msg_column\" style=\"float:right;text-align:right;padding-right:3px;\">\n",
       " <noindex>\n",
       " <a class=\"a19\" href=\"/lv/real-estate/flats/riga/centre/sell/fDgSeF4S.html\" rel=\"nofollow\">datums</a></noindex></span>\n",
       " </td>,\n",
       " <td class=\"msg_column_td\" nowrap=\"\"><noindex><a class=\"a18\" href=\"/lv/real-estate/flats/riga/centre/sell/fDgSeF4SFDwT.html\" rel=\"nofollow\" title=\"\">Iela</a></noindex></td>,\n",
       " <td class=\"msg_column_td\" nowrap=\"\"><noindex><a class=\"a18\" href=\"/lv/real-estate/flats/riga/centre/sell/fDgSeF4SelM=.html\" rel=\"nofollow\" title=\"\">Ist.</a></noindex></td>,\n",
       " <td class=\"msg_column_td\" nowrap=\"\"><noindex><a class=\"a18\" href=\"/lv/real-estate/flats/riga/centre/sell/fDgSeF4QelM=.html\" rel=\"nofollow\" title=\"\">m2</a></noindex></td>,\n",
       " <td class=\"msg_column_td\" nowrap=\"\"><noindex><a class=\"a18\" href=\"/lv/real-estate/flats/riga/centre/sell/fDgSeF4XelM=.html\" rel=\"nofollow\" title=\"\">Stāvs</a></noindex></td>,\n",
       " <td class=\"msg_column_td\" nowrap=\"\"><noindex><a class=\"a18\" href=\"/lv/real-estate/flats/riga/centre/sell/fDgSeF4VelM=.html\" rel=\"nofollow\" title=\"\">Sērija</a></noindex></td>,\n",
       " <td background=\"https://i.ss.com/img/pl.gif\" class=\"msg_column\" nowrap=\"\" style=\"border-left:1px #FFFFFF solid;\"><noindex><a class=\"a18\" href=\"/lv/real-estate/flats/riga/centre/sell/fDgSeF4bRDwT.html\" rel=\"nofollow\">Cena, m2</a></noindex></td>,\n",
       " <td class=\"msg_column_td\" nowrap=\"\"><noindex><a class=\"a18\" href=\"/lv/real-estate/flats/riga/centre/sell/fDgSeF4belM=.html\" rel=\"nofollow\" title=\"\">Cena</a></noindex></td>]"
      ]
     },
     "execution_count": 7,
     "metadata": {},
     "output_type": "execute_result"
    }
   ],
   "source": [
    "headtds = headline.find_all(\"td\")\n",
    "# https://developer.mozilla.org/en-US/docs/Web/HTML/Element/td\n",
    "headtds"
   ]
  },
  {
   "cell_type": "code",
   "execution_count": 8,
   "metadata": {},
   "outputs": [
    {
     "data": {
      "text/plain": [
       "['Iela', 'Ist.', 'm2', 'Stāvs', 'Sērija', 'Cena, m2', 'Cena']"
      ]
     },
     "execution_count": 8,
     "metadata": {},
     "output_type": "execute_result"
    }
   ],
   "source": [
    "headcolumns = [el.text for el in headtds[1:]] #.text gets us content even from children and grandchildren\n",
    "headcolumns"
   ]
  },
  {
   "cell_type": "code",
   "execution_count": 9,
   "metadata": {},
   "outputs": [],
   "source": [
    "# lets combine the above cells into a function which will always get us columns\n",
    "def getColList(soup):\n",
    "    column_list = [\"description\",\"url\"] # we decided to that we need these two column names no matter the html\n",
    "    headline = soup.find(\"tr\", {\"id\":\"head_line\"})\n",
    "    headtds = headline.find_all(\"td\")\n",
    "    headcolumns = [el.text for el in headtds[1:]] # this will get all column names starting with 2nd in HTML\n",
    "    column_list += headcolumns\n",
    "    return column_list"
   ]
  },
  {
   "cell_type": "code",
   "execution_count": 10,
   "metadata": {},
   "outputs": [
    {
     "data": {
      "text/plain": [
       "['description',\n",
       " 'url',\n",
       " 'Iela',\n",
       " 'Ist.',\n",
       " 'm2',\n",
       " 'Stāvs',\n",
       " 'Sērija',\n",
       " 'Cena, m2',\n",
       " 'Cena']"
      ]
     },
     "execution_count": 10,
     "metadata": {},
     "output_type": "execute_result"
    }
   ],
   "source": [
    "column_names = getColList(soup)\n",
    "column_names"
   ]
  },
  {
   "cell_type": "code",
   "execution_count": 11,
   "metadata": {},
   "outputs": [
    {
     "data": {
      "text/plain": [
       "39"
      ]
     },
     "execution_count": 11,
     "metadata": {},
     "output_type": "execute_result"
    }
   ],
   "source": [
    "trows = soup.find_all('tr')\n",
    "len(trows)\n"
   ]
  },
  {
   "cell_type": "code",
   "execution_count": 12,
   "metadata": {},
   "outputs": [
    {
     "data": {
      "text/plain": [
       "30"
      ]
     },
     "execution_count": 12,
     "metadata": {},
     "output_type": "execute_result"
    }
   ],
   "source": [
    "# hardest part in this \n",
    "# how to filter only specific rows\n",
    "# we need to find something that is unique to our apartment rows but not to the extra rows\n",
    "# remember we id is not guaranteed\n",
    "apt_rows = [row for row in trows if row.get('id',\"\").startswith(\"tr_\") and not row.get('id',\"\").startswith(\"tr_bnr\") ]\n",
    "len(apt_rows)"
   ]
  },
  {
   "cell_type": "code",
   "execution_count": 13,
   "metadata": {},
   "outputs": [
    {
     "data": {
      "text/plain": [
       "<tr id=\"tr_47585624\"><td class=\"msga2 pp0\"><input id=\"c47585624\" name=\"mid[]\" type=\"checkbox\" value=\"47585624_1106_0\"/></td><td class=\"msga2\"><a href=\"/msg/lv/real-estate/flats/riga/centre/elxpc.html\" id=\"im47585624\"><img alt=\"\" class=\"isfoto foto_list\" src=\"https://i.ss.com/gallery/4/637/159119/31823755.th2.jpg\"/></a></td><td class=\"msg2\"><div class=\"d1\"><a class=\"am\" data=\"d2MlOTglOUYlN0UlQTUlQ0MlODZ5aSU5OCU5RnclQTYlODclOER1aCU5OCU5OHUlQTYlODAlODV0|D3bfErPU\" href=\"/msg/lv/real-estate/flats/riga/centre/elxpc.html\" id=\"dm_47585624\">Autostāvvieta iekļauta cenā 8000 euro vērtībā\n",
       "\n",
       "Piedāvājumā lie</a></div></td><td c=\"1\" class=\"msga2-o pp6\" nowrap=\"\">Ģertrūdes 99</td><td c=\"1\" class=\"msga2-o pp6\" nowrap=\"\">3</td><td c=\"1\" class=\"msga2-o pp6\" nowrap=\"\">57</td><td c=\"1\" class=\"msga2-o pp6\" nowrap=\"\">2/6</td><td c=\"1\" class=\"msga2-o pp6\" nowrap=\"\">Renov.</td><td c=\"1\" class=\"msga2-o pp6\" nowrap=\"\">1,979 €</td><td c=\"1\" class=\"msga2-o pp6\" nowrap=\"\">112,800  €</td></tr>"
      ]
     },
     "execution_count": 13,
     "metadata": {},
     "output_type": "execute_result"
    }
   ],
   "source": [
    "apt_rows[-1]"
   ]
  },
  {
   "cell_type": "code",
   "execution_count": 14,
   "metadata": {},
   "outputs": [],
   "source": [
    "# lets make a function from the above doodle and make it work on most pages on SS\n",
    "def getRowList(soup):\n",
    "    trows = soup.find_all('tr')\n",
    "    aprows = [row for row in trows if row.get('id',\"\").startswith(\"tr_\") and not row.get('id',\"\").startswith(\"tr_bnr\") ]\n",
    "    return aprows"
   ]
  },
  {
   "cell_type": "code",
   "execution_count": 15,
   "metadata": {},
   "outputs": [
    {
     "data": {
      "text/plain": [
       "10"
      ]
     },
     "execution_count": 15,
     "metadata": {},
     "output_type": "execute_result"
    }
   ],
   "source": [
    "row_tds = apt_rows[0].find_all('td')\n",
    "len(row_tds)"
   ]
  },
  {
   "cell_type": "code",
   "execution_count": 17,
   "metadata": {},
   "outputs": [
    {
     "data": {
      "text/plain": [
       "''"
      ]
     },
     "execution_count": 17,
     "metadata": {},
     "output_type": "execute_result"
    }
   ],
   "source": [
    "row_tds[1].text"
   ]
  },
  {
   "cell_type": "code",
   "execution_count": 18,
   "metadata": {},
   "outputs": [
    {
     "data": {
      "text/plain": [
       "'Piedāvājam iegādāties dzīvokli projektā San Antonia, kas atrodas'"
      ]
     },
     "execution_count": 18,
     "metadata": {},
     "output_type": "execute_result"
    }
   ],
   "source": [
    "row_tds[2].text"
   ]
  },
  {
   "cell_type": "code",
   "execution_count": 19,
   "metadata": {},
   "outputs": [
    {
     "data": {
      "text/plain": [
       "'150,000  €'"
      ]
     },
     "execution_count": 19,
     "metadata": {},
     "output_type": "execute_result"
    }
   ],
   "source": [
    "row_tds[-1].text"
   ]
  },
  {
   "cell_type": "code",
   "execution_count": 20,
   "metadata": {},
   "outputs": [
    {
     "data": {
      "text/plain": [
       "<a href=\"/msg/lv/real-estate/flats/riga/centre/cnpxe.html\" id=\"im48453836\"><img alt=\"\" class=\"isfoto foto_list\" src=\"https://i.ss.com/gallery/3/545/136236/27247153.th2.jpg\"/></a>"
      ]
     },
     "execution_count": 20,
     "metadata": {},
     "output_type": "execute_result"
    }
   ],
   "source": [
    "a = row_tds[1].find('a')\n",
    "a"
   ]
  },
  {
   "cell_type": "code",
   "execution_count": 21,
   "metadata": {},
   "outputs": [
    {
     "data": {
      "text/plain": [
       "{'href': '/msg/lv/real-estate/flats/riga/centre/cnpxe.html',\n",
       " 'id': 'im48453836'}"
      ]
     },
     "execution_count": 21,
     "metadata": {},
     "output_type": "execute_result"
    }
   ],
   "source": [
    "a.attrs"
   ]
  },
  {
   "cell_type": "code",
   "execution_count": 22,
   "metadata": {},
   "outputs": [
    {
     "data": {
      "text/plain": [
       "'/msg/lv/real-estate/flats/riga/centre/cnpxe.html'"
      ]
     },
     "execution_count": 22,
     "metadata": {},
     "output_type": "execute_result"
    }
   ],
   "source": [
    "a.get('href')"
   ]
  },
  {
   "cell_type": "code",
   "execution_count": 23,
   "metadata": {},
   "outputs": [],
   "source": [
    "def getRow(row,colist=column_names):\n",
    "    row_tds = row.find_all('td')\n",
    "    rowDict = {}\n",
    "    if len(row_tds) <3: # a little sanity check\n",
    "        print(\"Hmm bad row\")\n",
    "        return rowDict\n",
    "    \n",
    "    rowDict[colist[0]] = row_tds[2].text # so the big assumption is that we always get description in 3rd column\n",
    "    rowDict[colist[1]] = \"https://ss.com\" + row_tds[1].find('a').get('href')\n",
    "    for td,key in zip(row_tds[3:],colist[2:]): \n",
    "        rowDict[key] = td.text\n",
    "    return rowDict"
   ]
  },
  {
   "cell_type": "code",
   "execution_count": 24,
   "metadata": {},
   "outputs": [
    {
     "data": {
      "text/plain": [
       "{'description': 'Piedāvājam iegādāties dzīvokli projektā San Antonia, kas atrodas',\n",
       " 'url': 'https://ss.com/msg/lv/real-estate/flats/riga/centre/cnpxe.html',\n",
       " 'Iela': 'Antonijas 11',\n",
       " 'Ist.': '2',\n",
       " 'm2': '58',\n",
       " 'Stāvs': '2/6',\n",
       " 'Sērija': 'Renov.',\n",
       " 'Cena, m2': '2,586 €',\n",
       " 'Cena': '150,000  €'}"
      ]
     },
     "execution_count": 24,
     "metadata": {},
     "output_type": "execute_result"
    }
   ],
   "source": [
    "getRow(apt_rows[0])"
   ]
  },
  {
   "cell_type": "code",
   "execution_count": 25,
   "metadata": {},
   "outputs": [],
   "source": [
    "def getRows(rowlist,colist=column_names):\n",
    "    return [getRow(row) for row in rowlist]\n"
   ]
  },
  {
   "cell_type": "code",
   "execution_count": 26,
   "metadata": {},
   "outputs": [
    {
     "data": {
      "text/plain": [
       "[{'description': 'Предлагаем к продаже шикарный, современный пентхаус с эксклюзивн',\n",
       "  'url': 'https://ss.com/msg/lv/real-estate/flats/riga/centre/apmed.html',\n",
       "  'Iela': 'Grostonas 21',\n",
       "  'Ist.': '4',\n",
       "  'm2': '140',\n",
       "  'Stāvs': '10/10',\n",
       "  'Sērija': 'Jaun.',\n",
       "  'Cena, m2': '2,679 €',\n",
       "  'Cena': '375,000  €'},\n",
       " {'description': 'Dzīvoklis Klusajā centrā. \\r\\nSaulains divistabu dzīvoklis Ausekļa',\n",
       "  'url': 'https://ss.com/msg/lv/real-estate/flats/riga/centre/adfbj.html',\n",
       "  'Iela': 'Ausekļa 3',\n",
       "  'Ist.': '2',\n",
       "  'm2': '52',\n",
       "  'Stāvs': '5/5',\n",
       "  'Sērija': 'P. kara',\n",
       "  'Cena, m2': '1,923 €',\n",
       "  'Cena': '100,000  €'},\n",
       " {'description': 'Autostāvvieta iekļauta cenā 8000 euro vērtībā\\r\\n\\r\\nPiedāvājumā lie',\n",
       "  'url': 'https://ss.com/msg/lv/real-estate/flats/riga/centre/elxpc.html',\n",
       "  'Iela': 'Ģertrūdes 99',\n",
       "  'Ist.': '3',\n",
       "  'm2': '57',\n",
       "  'Stāvs': '2/6',\n",
       "  'Sērija': 'Renov.',\n",
       "  'Cena, m2': '1,979 €',\n",
       "  'Cena': '112,800  €'}]"
      ]
     },
     "execution_count": 26,
     "metadata": {},
     "output_type": "execute_result"
    }
   ],
   "source": [
    "row_ads = getRows(apt_rows)\n",
    "row_ads[-3:]"
   ]
  },
  {
   "cell_type": "code",
   "execution_count": 31,
   "metadata": {},
   "outputs": [
    {
     "data": {
      "text/plain": [
       "(30, 9)"
      ]
     },
     "execution_count": 31,
     "metadata": {},
     "output_type": "execute_result"
    }
   ],
   "source": [
    "dtemp = pd.DataFrame(row_ads, columns=column_names)\n",
    "dtemp.shape"
   ]
  },
  {
   "cell_type": "code",
   "execution_count": 27,
   "metadata": {},
   "outputs": [],
   "source": [
    "def getDFfromURL(url):\n",
    "    # print(\"getting data from\", url)\n",
    "    req = requests.get(url)\n",
    "    if req.status_code != 200:\n",
    "        print(\"Request Fail with\", req.status_code)\n",
    "        return None # maybe return empty dataframe here\n",
    "    soup = BeautifulSoup(req.text, 'lxml')\n",
    "    column_names = getColList(soup)\n",
    "    rowlist = getRowList(soup)\n",
    "    rows = getRows(rowlist)\n",
    "    return pd.DataFrame(rows, columns=column_names)\n",
    "    "
   ]
  },
  {
   "cell_type": "code",
   "execution_count": 28,
   "metadata": {},
   "outputs": [],
   "source": [
    "df = getDFfromURL(centrs)"
   ]
  },
  {
   "cell_type": "code",
   "execution_count": 29,
   "metadata": {},
   "outputs": [
    {
     "data": {
      "text/plain": [
       "(30, 9)"
      ]
     },
     "execution_count": 29,
     "metadata": {},
     "output_type": "execute_result"
    }
   ],
   "source": [
    "df.shape"
   ]
  },
  {
   "cell_type": "code",
   "execution_count": 30,
   "metadata": {},
   "outputs": [
    {
     "data": {
      "text/html": [
       "<div>\n",
       "<style scoped>\n",
       "    .dataframe tbody tr th:only-of-type {\n",
       "        vertical-align: middle;\n",
       "    }\n",
       "\n",
       "    .dataframe tbody tr th {\n",
       "        vertical-align: top;\n",
       "    }\n",
       "\n",
       "    .dataframe thead th {\n",
       "        text-align: right;\n",
       "    }\n",
       "</style>\n",
       "<table border=\"1\" class=\"dataframe\">\n",
       "  <thead>\n",
       "    <tr style=\"text-align: right;\">\n",
       "      <th></th>\n",
       "      <th>description</th>\n",
       "      <th>url</th>\n",
       "      <th>Iela</th>\n",
       "      <th>Ist.</th>\n",
       "      <th>m2</th>\n",
       "      <th>Stāvs</th>\n",
       "      <th>Sērija</th>\n",
       "      <th>Cena, m2</th>\n",
       "      <th>Cena</th>\n",
       "    </tr>\n",
       "  </thead>\n",
       "  <tbody>\n",
       "    <tr>\n",
       "      <th>0</th>\n",
       "      <td>Piedāvājam iegādāties dzīvokli projektā San An...</td>\n",
       "      <td>https://ss.com/msg/lv/real-estate/flats/riga/c...</td>\n",
       "      <td>Antonijas 11</td>\n",
       "      <td>2</td>\n",
       "      <td>58</td>\n",
       "      <td>2/6</td>\n",
       "      <td>Renov.</td>\n",
       "      <td>2,586 €</td>\n",
       "      <td>150,000  €</td>\n",
       "    </tr>\n",
       "    <tr>\n",
       "      <th>1</th>\n",
       "      <td>Pārdod 2 istabu dzīvokli Zirņu ielā 6, Rīgā (b...</td>\n",
       "      <td>https://ss.com/msg/lv/real-estate/flats/riga/c...</td>\n",
       "      <td>Zirņu 6</td>\n",
       "      <td>2</td>\n",
       "      <td>44</td>\n",
       "      <td>3/6</td>\n",
       "      <td>Hrušč.</td>\n",
       "      <td>1,477 €</td>\n",
       "      <td>65,000  €</td>\n",
       "    </tr>\n",
       "    <tr>\n",
       "      <th>2</th>\n",
       "      <td>Pārdošanā 2 istabu dzīvoklis, pirmskara laika ...</td>\n",
       "      <td>https://ss.com/msg/lv/real-estate/flats/riga/c...</td>\n",
       "      <td>Tomsona 22</td>\n",
       "      <td>2</td>\n",
       "      <td>59</td>\n",
       "      <td>3/5</td>\n",
       "      <td>P. kara</td>\n",
       "      <td>1,441 €</td>\n",
       "      <td>85,000  €</td>\n",
       "    </tr>\n",
       "    <tr>\n",
       "      <th>3</th>\n",
       "      <td>Autostāvvieta iekļauta cenā ( 8000€ vērtībā)\\r...</td>\n",
       "      <td>https://ss.com/msg/lv/real-estate/flats/riga/c...</td>\n",
       "      <td>Ģertrūdes 99</td>\n",
       "      <td>3</td>\n",
       "      <td>67</td>\n",
       "      <td>4/6</td>\n",
       "      <td>P. kara</td>\n",
       "      <td>1,684 €</td>\n",
       "      <td>112,800  €</td>\n",
       "    </tr>\n",
       "    <tr>\n",
       "      <th>4</th>\n",
       "      <td>Ģimene pārdod mājīgu un gaišu 3 istabu dzīvokl...</td>\n",
       "      <td>https://ss.com/msg/lv/real-estate/flats/riga/c...</td>\n",
       "      <td>Ģertrūdes 135</td>\n",
       "      <td>3</td>\n",
       "      <td>70</td>\n",
       "      <td>5/5</td>\n",
       "      <td>P. kara</td>\n",
       "      <td>907 €</td>\n",
       "      <td>63,500  €</td>\n",
       "    </tr>\n",
       "  </tbody>\n",
       "</table>\n",
       "</div>"
      ],
      "text/plain": [
       "                                         description  \\\n",
       "0  Piedāvājam iegādāties dzīvokli projektā San An...   \n",
       "1  Pārdod 2 istabu dzīvokli Zirņu ielā 6, Rīgā (b...   \n",
       "2  Pārdošanā 2 istabu dzīvoklis, pirmskara laika ...   \n",
       "3  Autostāvvieta iekļauta cenā ( 8000€ vērtībā)\\r...   \n",
       "4  Ģimene pārdod mājīgu un gaišu 3 istabu dzīvokl...   \n",
       "\n",
       "                                                 url           Iela Ist.  m2  \\\n",
       "0  https://ss.com/msg/lv/real-estate/flats/riga/c...   Antonijas 11    2  58   \n",
       "1  https://ss.com/msg/lv/real-estate/flats/riga/c...        Zirņu 6    2  44   \n",
       "2  https://ss.com/msg/lv/real-estate/flats/riga/c...     Tomsona 22    2  59   \n",
       "3  https://ss.com/msg/lv/real-estate/flats/riga/c...   Ģertrūdes 99    3  67   \n",
       "4  https://ss.com/msg/lv/real-estate/flats/riga/c...  Ģertrūdes 135    3  70   \n",
       "\n",
       "  Stāvs   Sērija Cena, m2        Cena  \n",
       "0   2/6   Renov.  2,586 €  150,000  €  \n",
       "1   3/6   Hrušč.  1,477 €   65,000  €  \n",
       "2   3/5  P. kara  1,441 €   85,000  €  \n",
       "3   4/6  P. kara  1,684 €  112,800  €  \n",
       "4   5/5  P. kara    907 €   63,500  €  "
      ]
     },
     "execution_count": 30,
     "metadata": {},
     "output_type": "execute_result"
    }
   ],
   "source": [
    "df.head()"
   ]
  },
  {
   "cell_type": "code",
   "execution_count": 32,
   "metadata": {},
   "outputs": [
    {
     "data": {
      "text/plain": [
       "98"
      ]
     },
     "execution_count": 32,
     "metadata": {},
     "output_type": "execute_result"
    }
   ],
   "source": [
    "\n",
    "# https://developer.mozilla.org/en-US/docs/Web/HTML/Element/a\n",
    "anchors = soup.find_all(\"a\")\n",
    "len(anchors)"
   ]
  },
  {
   "cell_type": "code",
   "execution_count": 33,
   "metadata": {},
   "outputs": [
    {
     "data": {
      "text/plain": [
       "[<a href=\"/\" title=\"Sludinājumi\"><img alt=\"Sludinājumi\" border=\"0\" class=\"page_header_logo\" src=\"https://i.ss.com/img/p.gif\"/></a>,\n",
       " <a class=\"a_menu\" href=\"/lv/real-estate/flats/new/\" title=\"Iesniegt Sludinājumu\">Iesniegt Sludinājumu</a>,\n",
       " <a class=\"a_menu\" href=\"/lv/login/\" title=\"Mani Sludinājumi\">Mani Sludinājumi</a>,\n",
       " <a class=\"a_menu\" href=\"/lv/real-estate/flats/riga/centre/search/\" title=\"Meklēt sludinājumus\">Meklēšana</a>,\n",
       " <a class=\"a_menu\" href=\"/lv/favorites/\" title=\"Memo\">Memo</a>]"
      ]
     },
     "execution_count": 33,
     "metadata": {},
     "output_type": "execute_result"
    }
   ],
   "source": [
    "anchors[:5]"
   ]
  },
  {
   "cell_type": "code",
   "execution_count": 34,
   "metadata": {},
   "outputs": [
    {
     "data": {
      "text/plain": [
       "10"
      ]
     },
     "execution_count": 34,
     "metadata": {},
     "output_type": "execute_result"
    }
   ],
   "source": [
    "navs = [anchor for anchor in anchors if anchor.get(\"name\") == \"nav_id\"] # get will get us None if no \"name\" exists\n",
    "len(navs)"
   ]
  },
  {
   "cell_type": "code",
   "execution_count": 37,
   "metadata": {},
   "outputs": [
    {
     "data": {
      "text/plain": [
       "<a class=\"navi\" href=\"/lv/real-estate/flats/riga/centre/sell/page27.html\" name=\"nav_id\" rel=\"prev\"><img border=\"0\" height=\"5\" src=\"https://i.ss.com/img/s_left.png\" style=\"padding-bottom:2px;\" width=\"9\"/> Iepriekšējie</a>"
      ]
     },
     "execution_count": 37,
     "metadata": {},
     "output_type": "execute_result"
    }
   ],
   "source": [
    "navs[0]"
   ]
  },
  {
   "cell_type": "code",
   "execution_count": 38,
   "metadata": {},
   "outputs": [
    {
     "data": {
      "text/plain": [
       "{'name': 'nav_id',\n",
       " 'rel': ['prev'],\n",
       " 'class': ['navi'],\n",
       " 'href': '/lv/real-estate/flats/riga/centre/sell/page27.html'}"
      ]
     },
     "execution_count": 38,
     "metadata": {},
     "output_type": "execute_result"
    }
   ],
   "source": [
    "navs[0].attrs"
   ]
  },
  {
   "cell_type": "code",
   "execution_count": 39,
   "metadata": {},
   "outputs": [
    {
     "data": {
      "text/plain": [
       "'/lv/real-estate/flats/riga/centre/sell/page27.html'"
      ]
     },
     "execution_count": 39,
     "metadata": {},
     "output_type": "execute_result"
    }
   ],
   "source": [
    "navs[0]['href']"
   ]
  },
  {
   "cell_type": "code",
   "execution_count": 40,
   "metadata": {},
   "outputs": [
    {
     "data": {
      "text/plain": [
       "'27.html'"
      ]
     },
     "execution_count": 40,
     "metadata": {},
     "output_type": "execute_result"
    }
   ],
   "source": [
    "# could use regular expression here but we can use split \n",
    "afterpage = navs[0]['href'].split(\"/page\")[1]\n",
    "afterpage"
   ]
  },
  {
   "cell_type": "code",
   "execution_count": 41,
   "metadata": {},
   "outputs": [
    {
     "data": {
      "text/plain": [
       "'27'"
      ]
     },
     "execution_count": 41,
     "metadata": {},
     "output_type": "execute_result"
    }
   ],
   "source": [
    "beforedot = afterpage.split(\".html\")[0]\n",
    "beforedot"
   ]
  },
  {
   "cell_type": "code",
   "execution_count": 42,
   "metadata": {},
   "outputs": [
    {
     "data": {
      "text/plain": [
       "27"
      ]
     },
     "execution_count": 42,
     "metadata": {},
     "output_type": "execute_result"
    }
   ],
   "source": [
    "lastpage = int(beforedot)\n",
    "lastpage"
   ]
  },
  {
   "cell_type": "code",
   "execution_count": 45,
   "metadata": {},
   "outputs": [],
   "source": [
    "def getAllLocalUrls(url):\n",
    "    \"\"\"Get a list of all urls including paginated pages\"\"\"\n",
    "    results = [url] # default is just the url if no extra pages found\n",
    "    req = requests.get(url)\n",
    "    if req.status_code != 200:\n",
    "        print(f\"Bad response! {req.status_code}\")\n",
    "        return []\n",
    "    soup = BeautifulSoup(req.text, 'lxml')\n",
    "    # we just need a one element\n",
    "    prevanchor = soup.find('a', {\"rel\":\"prev\"})\n",
    "    if prevanchor == None:\n",
    "        return results\n",
    "    href = prevanchor.attrs.get('href')\n",
    "    lastPageNum = int(href.split('page')[-1].split('.')[0])\n",
    "    print(\"Last page is\",lastPageNum)\n",
    "    nurls = [f\"{url}page{n}.html\" for n in range(2,lastPageNum+1)]\n",
    "    results += nurls\n",
    "    return results"
   ]
  },
  {
   "cell_type": "code",
   "execution_count": 46,
   "metadata": {},
   "outputs": [
    {
     "name": "stdout",
     "output_type": "stream",
     "text": [
      "Last page is 27\n"
     ]
    },
    {
     "data": {
      "text/plain": [
       "(27,\n",
       " ['https://www.ss.com/lv/real-estate/flats/riga/centre/sell/',\n",
       "  'https://www.ss.com/lv/real-estate/flats/riga/centre/sell/page2.html',\n",
       "  'https://www.ss.com/lv/real-estate/flats/riga/centre/sell/page3.html'],\n",
       " 'https://www.ss.com/lv/real-estate/flats/riga/centre/sell/page27.html')"
      ]
     },
     "execution_count": 46,
     "metadata": {},
     "output_type": "execute_result"
    }
   ],
   "source": [
    "local_urls = getAllLocalUrls(centrs)\n",
    "len(local_urls),local_urls[:3],local_urls[-1]"
   ]
  },
  {
   "cell_type": "code",
   "execution_count": 47,
   "metadata": {},
   "outputs": [
    {
     "data": {
      "text/plain": [
       "(7, 9)"
      ]
     },
     "execution_count": 47,
     "metadata": {},
     "output_type": "execute_result"
    }
   ],
   "source": [
    "dlast = getDFfromURL(local_urls[-1])\n",
    "dlast.shape"
   ]
  },
  {
   "cell_type": "code",
   "execution_count": 48,
   "metadata": {
    "scrolled": true
   },
   "outputs": [
    {
     "data": {
      "text/html": [
       "<div>\n",
       "<style scoped>\n",
       "    .dataframe tbody tr th:only-of-type {\n",
       "        vertical-align: middle;\n",
       "    }\n",
       "\n",
       "    .dataframe tbody tr th {\n",
       "        vertical-align: top;\n",
       "    }\n",
       "\n",
       "    .dataframe thead th {\n",
       "        text-align: right;\n",
       "    }\n",
       "</style>\n",
       "<table border=\"1\" class=\"dataframe\">\n",
       "  <thead>\n",
       "    <tr style=\"text-align: right;\">\n",
       "      <th></th>\n",
       "      <th>description</th>\n",
       "      <th>url</th>\n",
       "      <th>Iela</th>\n",
       "      <th>Ist.</th>\n",
       "      <th>m2</th>\n",
       "      <th>Stāvs</th>\n",
       "      <th>Sērija</th>\n",
       "      <th>Cena, m2</th>\n",
       "      <th>Cena</th>\n",
       "    </tr>\n",
       "  </thead>\n",
       "  <tbody>\n",
       "    <tr>\n",
       "      <th>0</th>\n",
       "      <td>Īpašnieks pārdod 1-istabas dzīvokli renovētā p...</td>\n",
       "      <td>https://ss.com/msg/lv/real-estate/flats/riga/c...</td>\n",
       "      <td>Miera 5</td>\n",
       "      <td>1</td>\n",
       "      <td>35</td>\n",
       "      <td>1/7</td>\n",
       "      <td>Renov.</td>\n",
       "      <td>1,500 €</td>\n",
       "      <td>52,500  €</td>\n",
       "    </tr>\n",
       "    <tr>\n",
       "      <th>1</th>\n",
       "      <td>Pārdod remontējamu dzīvokli. Dzīvoklis sastāv ...</td>\n",
       "      <td>https://ss.com/msg/lv/real-estate/flats/riga/c...</td>\n",
       "      <td>Ieroču 10</td>\n",
       "      <td>3</td>\n",
       "      <td>57</td>\n",
       "      <td>5/6</td>\n",
       "      <td>P. kara</td>\n",
       "      <td>930 €</td>\n",
       "      <td>53,000  €</td>\n",
       "    </tr>\n",
       "    <tr>\n",
       "      <th>2</th>\n",
       "      <td>Продаёт владелец. Апартаменты для настоящих лю...</td>\n",
       "      <td>https://ss.com/msg/lv/real-estate/flats/riga/c...</td>\n",
       "      <td>Skolas 20</td>\n",
       "      <td>3</td>\n",
       "      <td>110</td>\n",
       "      <td>2/6</td>\n",
       "      <td>Jaun.</td>\n",
       "      <td>2,909 €</td>\n",
       "      <td>320,000  €</td>\n",
       "    </tr>\n",
       "    <tr>\n",
       "      <th>3</th>\n",
       "      <td>Skaists un gaumīgs 3-istabu dzīvoklis renovētā...</td>\n",
       "      <td>https://ss.com/msg/lv/real-estate/flats/riga/c...</td>\n",
       "      <td>Klusā 11</td>\n",
       "      <td>3</td>\n",
       "      <td>66</td>\n",
       "      <td>2/5</td>\n",
       "      <td>Renov.</td>\n",
       "      <td>2,210 €</td>\n",
       "      <td>145,860  €</td>\n",
       "    </tr>\n",
       "    <tr>\n",
       "      <th>4</th>\n",
       "      <td>Стильная и комфортная квартира в современном п...</td>\n",
       "      <td>https://ss.com/msg/lv/real-estate/flats/riga/c...</td>\n",
       "      <td>Vesetas 15</td>\n",
       "      <td>3</td>\n",
       "      <td>109</td>\n",
       "      <td>3/5</td>\n",
       "      <td>Jaun.</td>\n",
       "      <td>3,028 €</td>\n",
       "      <td>330,000  €</td>\n",
       "    </tr>\n",
       "  </tbody>\n",
       "</table>\n",
       "</div>"
      ],
      "text/plain": [
       "                                         description  \\\n",
       "0  Īpašnieks pārdod 1-istabas dzīvokli renovētā p...   \n",
       "1  Pārdod remontējamu dzīvokli. Dzīvoklis sastāv ...   \n",
       "2  Продаёт владелец. Апартаменты для настоящих лю...   \n",
       "3  Skaists un gaumīgs 3-istabu dzīvoklis renovētā...   \n",
       "4  Стильная и комфортная квартира в современном п...   \n",
       "\n",
       "                                                 url        Iela Ist.   m2  \\\n",
       "0  https://ss.com/msg/lv/real-estate/flats/riga/c...     Miera 5    1   35   \n",
       "1  https://ss.com/msg/lv/real-estate/flats/riga/c...   Ieroču 10    3   57   \n",
       "2  https://ss.com/msg/lv/real-estate/flats/riga/c...   Skolas 20    3  110   \n",
       "3  https://ss.com/msg/lv/real-estate/flats/riga/c...    Klusā 11    3   66   \n",
       "4  https://ss.com/msg/lv/real-estate/flats/riga/c...  Vesetas 15    3  109   \n",
       "\n",
       "  Stāvs   Sērija Cena, m2        Cena  \n",
       "0   1/7   Renov.  1,500 €   52,500  €  \n",
       "1   5/6  P. kara    930 €   53,000  €  \n",
       "2   2/6    Jaun.  2,909 €  320,000  €  \n",
       "3   2/5   Renov.  2,210 €  145,860  €  \n",
       "4   3/5    Jaun.  3,028 €  330,000  €  "
      ]
     },
     "execution_count": 48,
     "metadata": {},
     "output_type": "execute_result"
    }
   ],
   "source": [
    "dlast.head()"
   ]
  },
  {
   "cell_type": "code",
   "execution_count": 49,
   "metadata": {},
   "outputs": [],
   "source": [
    "def get_all_ads_df(start_url, save_excel_path=None):\n",
    "    df_list=[]\n",
    "    local_urls = getAllLocalUrls(start_url)\n",
    "    for url in local_urls:\n",
    "        print(f\"Gathering data from {url}\")\n",
    "        df_list.append(getDFfromURL(url))\n",
    "        time.sleep(0.3) # we need this to play nice!\n",
    "    # https://pandas.pydata.org/pandas-docs/stable/reference/api/pandas.concat.html\n",
    "    big_df = pd.concat(df_list)\n",
    "    if save_excel_path:\n",
    "        big_df.to_excel(save_excel_path)\n",
    "    return big_df\n",
    "    "
   ]
  },
  {
   "cell_type": "code",
   "execution_count": 50,
   "metadata": {},
   "outputs": [
    {
     "data": {
      "text/plain": [
       "'https://www.ss.com/lv/real-estate/flats/riga/centre/sell/'"
      ]
     },
     "execution_count": 50,
     "metadata": {},
     "output_type": "execute_result"
    }
   ],
   "source": [
    "centrs"
   ]
  },
  {
   "cell_type": "code",
   "execution_count": 51,
   "metadata": {},
   "outputs": [
    {
     "name": "stdout",
     "output_type": "stream",
     "text": [
      "Last page is 27\n",
      "Gathering data from https://www.ss.com/lv/real-estate/flats/riga/centre/sell/\n",
      "Gathering data from https://www.ss.com/lv/real-estate/flats/riga/centre/sell/page2.html\n",
      "Gathering data from https://www.ss.com/lv/real-estate/flats/riga/centre/sell/page3.html\n",
      "Gathering data from https://www.ss.com/lv/real-estate/flats/riga/centre/sell/page4.html\n",
      "Gathering data from https://www.ss.com/lv/real-estate/flats/riga/centre/sell/page5.html\n",
      "Gathering data from https://www.ss.com/lv/real-estate/flats/riga/centre/sell/page6.html\n",
      "Gathering data from https://www.ss.com/lv/real-estate/flats/riga/centre/sell/page7.html\n",
      "Gathering data from https://www.ss.com/lv/real-estate/flats/riga/centre/sell/page8.html\n",
      "Gathering data from https://www.ss.com/lv/real-estate/flats/riga/centre/sell/page9.html\n",
      "Gathering data from https://www.ss.com/lv/real-estate/flats/riga/centre/sell/page10.html\n",
      "Gathering data from https://www.ss.com/lv/real-estate/flats/riga/centre/sell/page11.html\n",
      "Gathering data from https://www.ss.com/lv/real-estate/flats/riga/centre/sell/page12.html\n",
      "Gathering data from https://www.ss.com/lv/real-estate/flats/riga/centre/sell/page13.html\n",
      "Gathering data from https://www.ss.com/lv/real-estate/flats/riga/centre/sell/page14.html\n",
      "Gathering data from https://www.ss.com/lv/real-estate/flats/riga/centre/sell/page15.html\n",
      "Gathering data from https://www.ss.com/lv/real-estate/flats/riga/centre/sell/page16.html\n",
      "Gathering data from https://www.ss.com/lv/real-estate/flats/riga/centre/sell/page17.html\n",
      "Gathering data from https://www.ss.com/lv/real-estate/flats/riga/centre/sell/page18.html\n",
      "Gathering data from https://www.ss.com/lv/real-estate/flats/riga/centre/sell/page19.html\n",
      "Gathering data from https://www.ss.com/lv/real-estate/flats/riga/centre/sell/page20.html\n",
      "Gathering data from https://www.ss.com/lv/real-estate/flats/riga/centre/sell/page21.html\n",
      "Gathering data from https://www.ss.com/lv/real-estate/flats/riga/centre/sell/page22.html\n",
      "Gathering data from https://www.ss.com/lv/real-estate/flats/riga/centre/sell/page23.html\n",
      "Gathering data from https://www.ss.com/lv/real-estate/flats/riga/centre/sell/page24.html\n",
      "Gathering data from https://www.ss.com/lv/real-estate/flats/riga/centre/sell/page25.html\n",
      "Gathering data from https://www.ss.com/lv/real-estate/flats/riga/centre/sell/page26.html\n",
      "Gathering data from https://www.ss.com/lv/real-estate/flats/riga/centre/sell/page27.html\n"
     ]
    }
   ],
   "source": [
    "d = get_all_ads_df(centrs, \"centrs.xlsx\")"
   ]
  },
  {
   "cell_type": "code",
   "execution_count": 52,
   "metadata": {},
   "outputs": [
    {
     "data": {
      "text/plain": [
       "(787, 9)"
      ]
     },
     "execution_count": 52,
     "metadata": {},
     "output_type": "execute_result"
    }
   ],
   "source": [
    "d.shape"
   ]
  },
  {
   "cell_type": "code",
   "execution_count": 53,
   "metadata": {},
   "outputs": [
    {
     "data": {
      "text/html": [
       "<div>\n",
       "<style scoped>\n",
       "    .dataframe tbody tr th:only-of-type {\n",
       "        vertical-align: middle;\n",
       "    }\n",
       "\n",
       "    .dataframe tbody tr th {\n",
       "        vertical-align: top;\n",
       "    }\n",
       "\n",
       "    .dataframe thead th {\n",
       "        text-align: right;\n",
       "    }\n",
       "</style>\n",
       "<table border=\"1\" class=\"dataframe\">\n",
       "  <thead>\n",
       "    <tr style=\"text-align: right;\">\n",
       "      <th></th>\n",
       "      <th>description</th>\n",
       "      <th>url</th>\n",
       "      <th>Iela</th>\n",
       "      <th>Ist.</th>\n",
       "      <th>m2</th>\n",
       "      <th>Stāvs</th>\n",
       "      <th>Sērija</th>\n",
       "      <th>Cena, m2</th>\n",
       "      <th>Cena</th>\n",
       "    </tr>\n",
       "  </thead>\n",
       "  <tbody>\n",
       "    <tr>\n",
       "      <th>0</th>\n",
       "      <td>Piedāvājam iegādāties dzīvokli projektā San An...</td>\n",
       "      <td>https://ss.com/msg/lv/real-estate/flats/riga/c...</td>\n",
       "      <td>Antonijas 11</td>\n",
       "      <td>2</td>\n",
       "      <td>58</td>\n",
       "      <td>2/6</td>\n",
       "      <td>Renov.</td>\n",
       "      <td>2,586 €</td>\n",
       "      <td>150,000  €</td>\n",
       "    </tr>\n",
       "    <tr>\n",
       "      <th>1</th>\n",
       "      <td>Pārdod 2 istabu dzīvokli Zirņu ielā 6, Rīgā (b...</td>\n",
       "      <td>https://ss.com/msg/lv/real-estate/flats/riga/c...</td>\n",
       "      <td>Zirņu 6</td>\n",
       "      <td>2</td>\n",
       "      <td>44</td>\n",
       "      <td>3/6</td>\n",
       "      <td>Hrušč.</td>\n",
       "      <td>1,477 €</td>\n",
       "      <td>65,000  €</td>\n",
       "    </tr>\n",
       "    <tr>\n",
       "      <th>2</th>\n",
       "      <td>Pārdošanā 2 istabu dzīvoklis, pirmskara laika ...</td>\n",
       "      <td>https://ss.com/msg/lv/real-estate/flats/riga/c...</td>\n",
       "      <td>Tomsona 22</td>\n",
       "      <td>2</td>\n",
       "      <td>59</td>\n",
       "      <td>3/5</td>\n",
       "      <td>P. kara</td>\n",
       "      <td>1,441 €</td>\n",
       "      <td>85,000  €</td>\n",
       "    </tr>\n",
       "    <tr>\n",
       "      <th>3</th>\n",
       "      <td>Autostāvvieta iekļauta cenā ( 8000€ vērtībā)\\r...</td>\n",
       "      <td>https://ss.com/msg/lv/real-estate/flats/riga/c...</td>\n",
       "      <td>Ģertrūdes 99</td>\n",
       "      <td>3</td>\n",
       "      <td>67</td>\n",
       "      <td>4/6</td>\n",
       "      <td>P. kara</td>\n",
       "      <td>1,684 €</td>\n",
       "      <td>112,800  €</td>\n",
       "    </tr>\n",
       "    <tr>\n",
       "      <th>4</th>\n",
       "      <td>Ģimene pārdod mājīgu un gaišu 3 istabu dzīvokl...</td>\n",
       "      <td>https://ss.com/msg/lv/real-estate/flats/riga/c...</td>\n",
       "      <td>Ģertrūdes 135</td>\n",
       "      <td>3</td>\n",
       "      <td>70</td>\n",
       "      <td>5/5</td>\n",
       "      <td>P. kara</td>\n",
       "      <td>907 €</td>\n",
       "      <td>63,500  €</td>\n",
       "    </tr>\n",
       "  </tbody>\n",
       "</table>\n",
       "</div>"
      ],
      "text/plain": [
       "                                         description  \\\n",
       "0  Piedāvājam iegādāties dzīvokli projektā San An...   \n",
       "1  Pārdod 2 istabu dzīvokli Zirņu ielā 6, Rīgā (b...   \n",
       "2  Pārdošanā 2 istabu dzīvoklis, pirmskara laika ...   \n",
       "3  Autostāvvieta iekļauta cenā ( 8000€ vērtībā)\\r...   \n",
       "4  Ģimene pārdod mājīgu un gaišu 3 istabu dzīvokl...   \n",
       "\n",
       "                                                 url           Iela Ist.  m2  \\\n",
       "0  https://ss.com/msg/lv/real-estate/flats/riga/c...   Antonijas 11    2  58   \n",
       "1  https://ss.com/msg/lv/real-estate/flats/riga/c...        Zirņu 6    2  44   \n",
       "2  https://ss.com/msg/lv/real-estate/flats/riga/c...     Tomsona 22    2  59   \n",
       "3  https://ss.com/msg/lv/real-estate/flats/riga/c...   Ģertrūdes 99    3  67   \n",
       "4  https://ss.com/msg/lv/real-estate/flats/riga/c...  Ģertrūdes 135    3  70   \n",
       "\n",
       "  Stāvs   Sērija Cena, m2        Cena  \n",
       "0   2/6   Renov.  2,586 €  150,000  €  \n",
       "1   3/6   Hrušč.  1,477 €   65,000  €  \n",
       "2   3/5  P. kara  1,441 €   85,000  €  \n",
       "3   4/6  P. kara  1,684 €  112,800  €  \n",
       "4   5/5  P. kara    907 €   63,500  €  "
      ]
     },
     "execution_count": 53,
     "metadata": {},
     "output_type": "execute_result"
    }
   ],
   "source": [
    "d.head()"
   ]
  },
  {
   "cell_type": "code",
   "execution_count": 54,
   "metadata": {},
   "outputs": [
    {
     "data": {
      "text/html": [
       "<div>\n",
       "<style scoped>\n",
       "    .dataframe tbody tr th:only-of-type {\n",
       "        vertical-align: middle;\n",
       "    }\n",
       "\n",
       "    .dataframe tbody tr th {\n",
       "        vertical-align: top;\n",
       "    }\n",
       "\n",
       "    .dataframe thead th {\n",
       "        text-align: right;\n",
       "    }\n",
       "</style>\n",
       "<table border=\"1\" class=\"dataframe\">\n",
       "  <thead>\n",
       "    <tr style=\"text-align: right;\">\n",
       "      <th></th>\n",
       "      <th>description</th>\n",
       "      <th>url</th>\n",
       "      <th>Iela</th>\n",
       "      <th>Ist.</th>\n",
       "      <th>m2</th>\n",
       "      <th>Stāvs</th>\n",
       "      <th>Sērija</th>\n",
       "      <th>Cena, m2</th>\n",
       "      <th>Cena</th>\n",
       "    </tr>\n",
       "  </thead>\n",
       "  <tbody>\n",
       "    <tr>\n",
       "      <th>2</th>\n",
       "      <td>Продаёт владелец. Апартаменты для настоящих лю...</td>\n",
       "      <td>https://ss.com/msg/lv/real-estate/flats/riga/c...</td>\n",
       "      <td>Skolas 20</td>\n",
       "      <td>3</td>\n",
       "      <td>110</td>\n",
       "      <td>2/6</td>\n",
       "      <td>Jaun.</td>\n",
       "      <td>2,909 €</td>\n",
       "      <td>320,000  €</td>\n",
       "    </tr>\n",
       "    <tr>\n",
       "      <th>3</th>\n",
       "      <td>Skaists un gaumīgs 3-istabu dzīvoklis renovētā...</td>\n",
       "      <td>https://ss.com/msg/lv/real-estate/flats/riga/c...</td>\n",
       "      <td>Klusā 11</td>\n",
       "      <td>3</td>\n",
       "      <td>66</td>\n",
       "      <td>2/5</td>\n",
       "      <td>Renov.</td>\n",
       "      <td>2,210 €</td>\n",
       "      <td>145,860  €</td>\n",
       "    </tr>\n",
       "    <tr>\n",
       "      <th>4</th>\n",
       "      <td>Стильная и комфортная квартира в современном п...</td>\n",
       "      <td>https://ss.com/msg/lv/real-estate/flats/riga/c...</td>\n",
       "      <td>Vesetas 15</td>\n",
       "      <td>3</td>\n",
       "      <td>109</td>\n",
       "      <td>3/5</td>\n",
       "      <td>Jaun.</td>\n",
       "      <td>3,028 €</td>\n",
       "      <td>330,000  €</td>\n",
       "    </tr>\n",
       "    <tr>\n",
       "      <th>5</th>\n",
       "      <td>Projekta Parker's attīstītājs pārdod trīs ista...</td>\n",
       "      <td>https://ss.com/msg/lv/real-estate/flats/riga/c...</td>\n",
       "      <td>Valdemāra 41</td>\n",
       "      <td>3</td>\n",
       "      <td>80</td>\n",
       "      <td>1/7</td>\n",
       "      <td>Jaun.</td>\n",
       "      <td>3,328 €</td>\n",
       "      <td>266,200  €</td>\n",
       "    </tr>\n",
       "    <tr>\n",
       "      <th>6</th>\n",
       "      <td>Piedāvājumā 4 istabu dzīvoklis vēsturiskā namā...</td>\n",
       "      <td>https://ss.com/msg/lv/real-estate/flats/riga/c...</td>\n",
       "      <td>Čaka 36</td>\n",
       "      <td>4</td>\n",
       "      <td>84</td>\n",
       "      <td>3/5</td>\n",
       "      <td>P. kara</td>\n",
       "      <td>1,821 €</td>\n",
       "      <td>152,935  €</td>\n",
       "    </tr>\n",
       "  </tbody>\n",
       "</table>\n",
       "</div>"
      ],
      "text/plain": [
       "                                         description  \\\n",
       "2  Продаёт владелец. Апартаменты для настоящих лю...   \n",
       "3  Skaists un gaumīgs 3-istabu dzīvoklis renovētā...   \n",
       "4  Стильная и комфортная квартира в современном п...   \n",
       "5  Projekta Parker's attīstītājs pārdod trīs ista...   \n",
       "6  Piedāvājumā 4 istabu dzīvoklis vēsturiskā namā...   \n",
       "\n",
       "                                                 url          Iela Ist.   m2  \\\n",
       "2  https://ss.com/msg/lv/real-estate/flats/riga/c...     Skolas 20    3  110   \n",
       "3  https://ss.com/msg/lv/real-estate/flats/riga/c...      Klusā 11    3   66   \n",
       "4  https://ss.com/msg/lv/real-estate/flats/riga/c...    Vesetas 15    3  109   \n",
       "5  https://ss.com/msg/lv/real-estate/flats/riga/c...  Valdemāra 41    3   80   \n",
       "6  https://ss.com/msg/lv/real-estate/flats/riga/c...       Čaka 36    4   84   \n",
       "\n",
       "  Stāvs   Sērija Cena, m2        Cena  \n",
       "2   2/6    Jaun.  2,909 €  320,000  €  \n",
       "3   2/5   Renov.  2,210 €  145,860  €  \n",
       "4   3/5    Jaun.  3,028 €  330,000  €  \n",
       "5   1/7    Jaun.  3,328 €  266,200  €  \n",
       "6   3/5  P. kara  1,821 €  152,935  €  "
      ]
     },
     "execution_count": 54,
     "metadata": {},
     "output_type": "execute_result"
    }
   ],
   "source": [
    "d.tail()"
   ]
  },
  {
   "cell_type": "markdown",
   "metadata": {},
   "source": [
    "# TODO \n",
    "# Try with different starting address not only centrs\n",
    "## Maybe combine regions\n",
    "## See how it would work with maybe cars\n",
    "## Data engineering make new columns based on existing ones, clean some columns\n",
    "### Changing floors 2/6 to columns 2 and 6, clean up Euro signs\n",
    "## Sorting, Describing, Grouping by regions etc"
   ]
  }
 ],
 "metadata": {
  "kernelspec": {
   "display_name": "Python 3",
   "language": "python",
   "name": "python3"
  },
  "language_info": {
   "codemirror_mode": {
    "name": "ipython",
    "version": 3
   },
   "file_extension": ".py",
   "mimetype": "text/x-python",
   "name": "python",
   "nbconvert_exporter": "python",
   "pygments_lexer": "ipython3",
   "version": "3.8.3"
  }
 },
 "nbformat": 4,
 "nbformat_minor": 4
}
