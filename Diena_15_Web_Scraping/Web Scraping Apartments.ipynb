{
 "cells": [
  {
   "cell_type": "code",
   "execution_count": 1,
   "metadata": {},
   "outputs": [],
   "source": [
    "# Requests for handling HTTP get and other requests\n",
    "import requests\n",
    "import time # import for playing nice and not getting blocked\n",
    "import pandas as pd\n",
    "# from BeautifulSoup4 import BeatifulSoup if installed through pip install BeautifulSoup4\n",
    "# \n",
    "from bs4 import BeautifulSoup"
   ]
  },
  {
   "cell_type": "code",
   "execution_count": null,
   "metadata": {},
   "outputs": [],
   "source": [
    "# if bs4 not found install it with\n",
    "#  !pip install beatifulsoup4\n",
    "# https://www.crummy.com/software/BeautifulSoup/"
   ]
  },
  {
   "cell_type": "code",
   "execution_count": 2,
   "metadata": {},
   "outputs": [],
   "source": [
    "centrs = \"https://www.ss.com/lv/real-estate/flats/riga/centre/sell/\""
   ]
  },
  {
   "cell_type": "code",
   "execution_count": 3,
   "metadata": {},
   "outputs": [
    {
     "data": {
      "text/plain": [
       "200"
      ]
     },
     "execution_count": 3,
     "metadata": {},
     "output_type": "execute_result"
    }
   ],
   "source": [
    "req = requests.get(centrs)\n",
    "req.status_code"
   ]
  },
  {
   "cell_type": "code",
   "execution_count": 4,
   "metadata": {},
   "outputs": [
    {
     "data": {
      "text/plain": [
       "'<!DOCTYPE html>\\r\\n<HTML><HEAD>\\r\\n<title>SS.COM Dzīvokļi - Rīga - Centrs, Cenas, Pārdod - Sludinājumi</title>\\r\\n<meta http-equiv=\"Content-Type\" CONTENT=\"text/html; charset=UTF-8\">\\r\\n<meta name=\"viewport\" c'"
      ]
     },
     "execution_count": 4,
     "metadata": {},
     "output_type": "execute_result"
    }
   ],
   "source": [
    "req.text[:200]"
   ]
  },
  {
   "cell_type": "code",
   "execution_count": 5,
   "metadata": {},
   "outputs": [
    {
     "data": {
      "text/plain": [
       "<title>SS.COM Dzīvokļi - Rīga - Centrs, Cenas, Pārdod - Sludinājumi</title>"
      ]
     },
     "execution_count": 5,
     "metadata": {},
     "output_type": "execute_result"
    }
   ],
   "source": [
    "soup = BeautifulSoup(req.text, 'lxml') # lxml is improved parser, a little bit more lenient\n",
    "soup.title"
   ]
  },
  {
   "cell_type": "code",
   "execution_count": 6,
   "metadata": {},
   "outputs": [
    {
     "data": {
      "text/plain": [
       "bs4.BeautifulSoup"
      ]
     },
     "execution_count": 6,
     "metadata": {},
     "output_type": "execute_result"
    }
   ],
   "source": [
    "type(soup)"
   ]
  },
  {
   "cell_type": "code",
   "execution_count": 7,
   "metadata": {},
   "outputs": [
    {
     "data": {
      "text/plain": [
       "7"
      ]
     },
     "execution_count": 7,
     "metadata": {},
     "output_type": "execute_result"
    }
   ],
   "source": [
    "# https://www.crummy.com/software/BeautifulSoup/bs4/doc/#find-all\n",
    "tables = soup.find_all(\"table\") # finds ALL elements matching our filter\n",
    "len(tables) "
   ]
  },
  {
   "cell_type": "code",
   "execution_count": 8,
   "metadata": {},
   "outputs": [
    {
     "data": {
      "text/plain": [
       "<tr id=\"head_line\">\n",
       "<td class=\"msg_column\" colspan=\"3\" width=\"70%\">\n",
       "<span style=\"float:left;\"> Sludinājumi\n",
       "</span>\n",
       "<span align=\"right\" class=\"msg_column\" style=\"float:right;text-align:right;padding-right:3px;\">\n",
       "<noindex>\n",
       "<a class=\"a19\" href=\"/lv/real-estate/flats/riga/centre/sell/fDgSeF4S.html\" rel=\"nofollow\">datums</a></noindex></span>\n",
       "</td>\n",
       "<td class=\"msg_column_td\" nowrap=\"\"><noindex><a class=\"a18\" href=\"/lv/real-estate/flats/riga/centre/sell/fDgSeF4SFDwT.html\" rel=\"nofollow\" title=\"\">Iela</a></noindex></td><td class=\"msg_column_td\" nowrap=\"\"><noindex><a class=\"a18\" href=\"/lv/real-estate/flats/riga/centre/sell/fDgSeF4SelM=.html\" rel=\"nofollow\" title=\"\">Ist.</a></noindex></td><td class=\"msg_column_td\" nowrap=\"\"><noindex><a class=\"a18\" href=\"/lv/real-estate/flats/riga/centre/sell/fDgSeF4QelM=.html\" rel=\"nofollow\" title=\"\">m2</a></noindex></td><td class=\"msg_column_td\" nowrap=\"\"><noindex><a class=\"a18\" href=\"/lv/real-estate/flats/riga/centre/sell/fDgSeF4XelM=.html\" rel=\"nofollow\" title=\"\">Stāvs</a></noindex></td><td class=\"msg_column_td\" nowrap=\"\"><noindex><a class=\"a18\" href=\"/lv/real-estate/flats/riga/centre/sell/fDgSeF4VelM=.html\" rel=\"nofollow\" title=\"\">Sērija</a></noindex></td><td background=\"https://i.ss.com/img/pl.gif\" class=\"msg_column\" nowrap=\"\" style=\"border-left:1px #FFFFFF solid;\"><noindex><a class=\"a18\" href=\"/lv/real-estate/flats/riga/centre/sell/fDgSeF4bRDwT.html\" rel=\"nofollow\">Cena, m2</a></noindex></td><td class=\"msg_column_td\" nowrap=\"\"><noindex><a class=\"a18\" href=\"/lv/real-estate/flats/riga/centre/sell/fDgSeF4belM=.html\" rel=\"nofollow\" title=\"\">Cena</a></noindex></td></tr>"
      ]
     },
     "execution_count": 8,
     "metadata": {},
     "output_type": "execute_result"
    }
   ],
   "source": [
    "# find finds just one match\n",
    "headline = soup.find(\"tr\", {\"id\":\"head_line\"}) # this is a shorter way of finding by tr AND this element having particular id\n",
    "headline"
   ]
  },
  {
   "cell_type": "code",
   "execution_count": 9,
   "metadata": {},
   "outputs": [
    {
     "data": {
      "text/plain": [
       "bs4.element.Tag"
      ]
     },
     "execution_count": 9,
     "metadata": {},
     "output_type": "execute_result"
    }
   ],
   "source": [
    "type(headline)"
   ]
  },
  {
   "cell_type": "code",
   "execution_count": 10,
   "metadata": {},
   "outputs": [
    {
     "data": {
      "text/plain": [
       "[<td class=\"msg_column\" colspan=\"3\" width=\"70%\">\n",
       " <span style=\"float:left;\"> Sludinājumi\n",
       " </span>\n",
       " <span align=\"right\" class=\"msg_column\" style=\"float:right;text-align:right;padding-right:3px;\">\n",
       " <noindex>\n",
       " <a class=\"a19\" href=\"/lv/real-estate/flats/riga/centre/sell/fDgSeF4S.html\" rel=\"nofollow\">datums</a></noindex></span>\n",
       " </td>,\n",
       " <td class=\"msg_column_td\" nowrap=\"\"><noindex><a class=\"a18\" href=\"/lv/real-estate/flats/riga/centre/sell/fDgSeF4SFDwT.html\" rel=\"nofollow\" title=\"\">Iela</a></noindex></td>,\n",
       " <td class=\"msg_column_td\" nowrap=\"\"><noindex><a class=\"a18\" href=\"/lv/real-estate/flats/riga/centre/sell/fDgSeF4SelM=.html\" rel=\"nofollow\" title=\"\">Ist.</a></noindex></td>,\n",
       " <td class=\"msg_column_td\" nowrap=\"\"><noindex><a class=\"a18\" href=\"/lv/real-estate/flats/riga/centre/sell/fDgSeF4QelM=.html\" rel=\"nofollow\" title=\"\">m2</a></noindex></td>,\n",
       " <td class=\"msg_column_td\" nowrap=\"\"><noindex><a class=\"a18\" href=\"/lv/real-estate/flats/riga/centre/sell/fDgSeF4XelM=.html\" rel=\"nofollow\" title=\"\">Stāvs</a></noindex></td>,\n",
       " <td class=\"msg_column_td\" nowrap=\"\"><noindex><a class=\"a18\" href=\"/lv/real-estate/flats/riga/centre/sell/fDgSeF4VelM=.html\" rel=\"nofollow\" title=\"\">Sērija</a></noindex></td>,\n",
       " <td background=\"https://i.ss.com/img/pl.gif\" class=\"msg_column\" nowrap=\"\" style=\"border-left:1px #FFFFFF solid;\"><noindex><a class=\"a18\" href=\"/lv/real-estate/flats/riga/centre/sell/fDgSeF4bRDwT.html\" rel=\"nofollow\">Cena, m2</a></noindex></td>,\n",
       " <td class=\"msg_column_td\" nowrap=\"\"><noindex><a class=\"a18\" href=\"/lv/real-estate/flats/riga/centre/sell/fDgSeF4belM=.html\" rel=\"nofollow\" title=\"\">Cena</a></noindex></td>]"
      ]
     },
     "execution_count": 10,
     "metadata": {},
     "output_type": "execute_result"
    }
   ],
   "source": [
    "headtds = headline.find_all(\"td\")\n",
    "# https://developer.mozilla.org/en-US/docs/Web/HTML/Element/td\n",
    "headtds"
   ]
  },
  {
   "cell_type": "code",
   "execution_count": 12,
   "metadata": {},
   "outputs": [
    {
     "data": {
      "text/plain": [
       "8"
      ]
     },
     "execution_count": 12,
     "metadata": {},
     "output_type": "execute_result"
    }
   ],
   "source": [
    "len(headtds)"
   ]
  },
  {
   "cell_type": "code",
   "execution_count": 14,
   "metadata": {},
   "outputs": [
    {
     "data": {
      "text/plain": [
       "'\\n\\n\\xa0Sludinājumi\\r\\n\\n\\n\\ndatums\\n\\nIelaIst.m2StāvsSērijaCena, m2Cena'"
      ]
     },
     "execution_count": 14,
     "metadata": {},
     "output_type": "execute_result"
    }
   ],
   "source": [
    "headline.text"
   ]
  },
  {
   "cell_type": "code",
   "execution_count": 13,
   "metadata": {},
   "outputs": [
    {
     "data": {
      "text/plain": [
       "['Iela', 'Ist.', 'm2', 'Stāvs', 'Sērija', 'Cena, m2', 'Cena']"
      ]
     },
     "execution_count": 13,
     "metadata": {},
     "output_type": "execute_result"
    }
   ],
   "source": [
    "headcolumns = [el.text for el in headtds[1:]] #.text gets us content even from children and grandchildren\n",
    "headcolumns"
   ]
  },
  {
   "cell_type": "code",
   "execution_count": 15,
   "metadata": {},
   "outputs": [],
   "source": [
    "# lets combine the above cells into a function which will always get us columns\n",
    "def getColList(soup):\n",
    "    column_list = [\"description\",\"url\"] # we decided to that we need these two column names no matter the html\n",
    "    headline = soup.find(\"tr\", {\"id\":\"head_line\"})\n",
    "    headtds = headline.find_all(\"td\")\n",
    "    headcolumns = [el.text for el in headtds[1:]] # this will get all column names starting with 2nd in HTML\n",
    "    column_list += headcolumns\n",
    "    return column_list"
   ]
  },
  {
   "cell_type": "code",
   "execution_count": 16,
   "metadata": {},
   "outputs": [
    {
     "data": {
      "text/plain": [
       "['description',\n",
       " 'url',\n",
       " 'Iela',\n",
       " 'Ist.',\n",
       " 'm2',\n",
       " 'Stāvs',\n",
       " 'Sērija',\n",
       " 'Cena, m2',\n",
       " 'Cena']"
      ]
     },
     "execution_count": 16,
     "metadata": {},
     "output_type": "execute_result"
    }
   ],
   "source": [
    "column_names = getColList(soup)\n",
    "column_names"
   ]
  },
  {
   "cell_type": "code",
   "execution_count": 17,
   "metadata": {},
   "outputs": [
    {
     "data": {
      "text/plain": [
       "39"
      ]
     },
     "execution_count": 17,
     "metadata": {},
     "output_type": "execute_result"
    }
   ],
   "source": [
    "trows = soup.find_all('tr')\n",
    "len(trows)\n"
   ]
  },
  {
   "cell_type": "code",
   "execution_count": 18,
   "metadata": {},
   "outputs": [
    {
     "data": {
      "text/plain": [
       "30"
      ]
     },
     "execution_count": 18,
     "metadata": {},
     "output_type": "execute_result"
    }
   ],
   "source": [
    "# hardest part in this \n",
    "# how to filter only specific rows\n",
    "# we need to find something that is unique to our apartment rows but not to the extra rows\n",
    "# remember we id is not guaranteed\n",
    "apt_rows = [row for row in trows if row.get('id',\"\").startswith(\"tr_\") and not row.get('id',\"\").startswith(\"tr_bnr\") ]\n",
    "len(apt_rows)"
   ]
  },
  {
   "cell_type": "code",
   "execution_count": 19,
   "metadata": {},
   "outputs": [
    {
     "data": {
      "text/plain": [
       "<tr id=\"tr_47253842\"><td class=\"msga2 pp0\"><input id=\"c47253842\" name=\"mid[]\" type=\"checkbox\" value=\"47253842_1106_0\"/></td><td class=\"msga2\"><a href=\"/msg/lv/real-estate/flats/riga/centre/bxbeg.html\" id=\"im47253842\"><img alt=\"\" class=\"isfoto foto_list\" src=\"https://i.ss.com/gallery/4/613/153165/30632889.th2.jpg\"/></a></td><td class=\"msg2\"><div class=\"d1\"><a class=\"am\" data=\"JTk3JTg5JThDaCU5QSVBNCVFMiU4NSU4RWclOTglQTQlOUUlODclOEFvJTk4JUEwJTlCJTg3JTkxaA==|fTY7gm\" href=\"/msg/lv/real-estate/flats/riga/centre/bxbeg.html\" id=\"dm_47253842\">Cenā autostāvvieta, mēbelēts. \n",
       "Saulains dzīvoklis rekonstruētā </a></div></td><td c=\"1\" class=\"msga2-o pp6\" nowrap=\"\">Valdemāra 37</td><td c=\"1\" class=\"msga2-o pp6\" nowrap=\"\">3</td><td c=\"1\" class=\"msga2-o pp6\" nowrap=\"\">75</td><td c=\"1\" class=\"msga2-o pp6\" nowrap=\"\">5/6</td><td c=\"1\" class=\"msga2-o pp6\" nowrap=\"\">Renov.</td><td c=\"1\" class=\"msga2-o pp6\" nowrap=\"\">2,396 €</td><td c=\"1\" class=\"msga2-o pp6\" nowrap=\"\">179,700  €</td></tr>"
      ]
     },
     "execution_count": 19,
     "metadata": {},
     "output_type": "execute_result"
    }
   ],
   "source": [
    "apt_rows[-1]"
   ]
  },
  {
   "cell_type": "code",
   "execution_count": 20,
   "metadata": {},
   "outputs": [],
   "source": [
    "# lets make a function from the above doodle and make it work on most pages on SS\n",
    "def getRowList(soup):\n",
    "    trows = soup.find_all('tr')\n",
    "    aprows = [row for row in trows if row.get('id',\"\").startswith(\"tr_\") and not row.get('id',\"\").startswith(\"tr_bnr\") ]\n",
    "    return aprows"
   ]
  },
  {
   "cell_type": "code",
   "execution_count": 21,
   "metadata": {},
   "outputs": [
    {
     "data": {
      "text/plain": [
       "10"
      ]
     },
     "execution_count": 21,
     "metadata": {},
     "output_type": "execute_result"
    }
   ],
   "source": [
    "row_tds = apt_rows[0].find_all('td')\n",
    "len(row_tds)"
   ]
  },
  {
   "cell_type": "code",
   "execution_count": 22,
   "metadata": {},
   "outputs": [
    {
     "data": {
      "text/plain": [
       "[<td class=\"msga2 pp0\"><input id=\"c47931160\" name=\"mid[]\" type=\"checkbox\" value=\"47931160_1106_0\"/></td>,\n",
       " <td class=\"msga2\"><a href=\"/msg/lv/real-estate/flats/riga/centre/boejl.html\" id=\"im47931160\"><img alt=\"\" class=\"isfoto foto_list\" src=\"https://i.ss.com/gallery/4/662/165490/33097893.th2.jpg\"/></a></td>,\n",
       " <td class=\"msg2\"><div class=\"d1\"><a class=\"am\" data=\"dyVBMSU5Q2V6JTg4JUMxZSU5Q3clOUQlOUZpeiU4QXZrJTk5eSU5QiU5OGlxJTg0dQ==|Ahh3ATE4g\" href=\"/msg/lv/real-estate/flats/riga/centre/boejl.html\" id=\"dm_47931160\"><b>В самом сердце Риги продаётся квартира\n",
       " \n",
       " Квартира после капитал</b></a></div></td>,\n",
       " <td c=\"1\" class=\"msga2-o pp6\" nowrap=\"\"><b>Kalniņa 1</b></td>,\n",
       " <td c=\"1\" class=\"msga2-o pp6\" nowrap=\"\"><b>1</b></td>,\n",
       " <td c=\"1\" class=\"msga2-o pp6\" nowrap=\"\"><b>26</b></td>,\n",
       " <td c=\"1\" class=\"msga2-o pp6\" nowrap=\"\"><b>4/5</b></td>,\n",
       " <td c=\"1\" class=\"msga2-o pp6\" nowrap=\"\"><b>Renov.</b></td>,\n",
       " <td c=\"1\" class=\"msga2-o pp6\" nowrap=\"\"><b>3,038</b> €</td>,\n",
       " <td c=\"1\" class=\"msga2-o pp6\" nowrap=\"\"><b>79,000</b>  €</td>]"
      ]
     },
     "execution_count": 22,
     "metadata": {},
     "output_type": "execute_result"
    }
   ],
   "source": [
    "row_tds"
   ]
  },
  {
   "cell_type": "code",
   "execution_count": 23,
   "metadata": {},
   "outputs": [
    {
     "data": {
      "text/plain": [
       "''"
      ]
     },
     "execution_count": 23,
     "metadata": {},
     "output_type": "execute_result"
    }
   ],
   "source": [
    "row_tds[0].text"
   ]
  },
  {
   "cell_type": "code",
   "execution_count": 24,
   "metadata": {},
   "outputs": [
    {
     "data": {
      "text/plain": [
       "''"
      ]
     },
     "execution_count": 24,
     "metadata": {},
     "output_type": "execute_result"
    }
   ],
   "source": [
    "row_tds[1].text"
   ]
  },
  {
   "cell_type": "code",
   "execution_count": 25,
   "metadata": {},
   "outputs": [
    {
     "data": {
      "text/plain": [
       "{'class': ['msga2']}"
      ]
     },
     "execution_count": 25,
     "metadata": {},
     "output_type": "execute_result"
    }
   ],
   "source": [
    "row_tds[1].attrs"
   ]
  },
  {
   "cell_type": "code",
   "execution_count": 26,
   "metadata": {},
   "outputs": [
    {
     "data": {
      "text/plain": [
       "<img alt=\"\" class=\"isfoto foto_list\" src=\"https://i.ss.com/gallery/4/662/165490/33097893.th2.jpg\"/>"
      ]
     },
     "execution_count": 26,
     "metadata": {},
     "output_type": "execute_result"
    }
   ],
   "source": [
    "img = row_tds[1].find(\"img\")\n",
    "img"
   ]
  },
  {
   "cell_type": "code",
   "execution_count": 27,
   "metadata": {},
   "outputs": [
    {
     "data": {
      "text/plain": [
       "'https://i.ss.com/gallery/4/662/165490/33097893.th2.jpg'"
      ]
     },
     "execution_count": 27,
     "metadata": {},
     "output_type": "execute_result"
    }
   ],
   "source": [
    "img.get(\"src\")"
   ]
  },
  {
   "cell_type": "code",
   "execution_count": 28,
   "metadata": {},
   "outputs": [
    {
     "data": {
      "text/plain": [
       "'В самом сердце Риги продаётся квартира\\r\\n\\r\\nКвартира после капитал'"
      ]
     },
     "execution_count": 28,
     "metadata": {},
     "output_type": "execute_result"
    }
   ],
   "source": [
    "row_tds[2].text"
   ]
  },
  {
   "cell_type": "code",
   "execution_count": 29,
   "metadata": {},
   "outputs": [
    {
     "data": {
      "text/plain": [
       "'79,000  €'"
      ]
     },
     "execution_count": 29,
     "metadata": {},
     "output_type": "execute_result"
    }
   ],
   "source": [
    "row_tds[-1].text"
   ]
  },
  {
   "cell_type": "code",
   "execution_count": 30,
   "metadata": {},
   "outputs": [
    {
     "data": {
      "text/plain": [
       "<a href=\"/msg/lv/real-estate/flats/riga/centre/boejl.html\" id=\"im47931160\"><img alt=\"\" class=\"isfoto foto_list\" src=\"https://i.ss.com/gallery/4/662/165490/33097893.th2.jpg\"/></a>"
      ]
     },
     "execution_count": 30,
     "metadata": {},
     "output_type": "execute_result"
    }
   ],
   "source": [
    "a = row_tds[1].find('a')\n",
    "a"
   ]
  },
  {
   "cell_type": "code",
   "execution_count": null,
   "metadata": {},
   "outputs": [],
   "source": [
    "a.attrs"
   ]
  },
  {
   "cell_type": "code",
   "execution_count": 31,
   "metadata": {},
   "outputs": [
    {
     "data": {
      "text/plain": [
       "'/msg/lv/real-estate/flats/riga/centre/boejl.html'"
      ]
     },
     "execution_count": 31,
     "metadata": {},
     "output_type": "execute_result"
    }
   ],
   "source": [
    "a.get('href')"
   ]
  },
  {
   "cell_type": "code",
   "execution_count": 32,
   "metadata": {},
   "outputs": [],
   "source": [
    "def getRow(row,colist=column_names):\n",
    "    row_tds = row.find_all('td')\n",
    "    rowDict = {}\n",
    "    if len(row_tds) <3: # a little sanity check\n",
    "        print(\"Hmm bad row\")\n",
    "        return rowDict\n",
    "    \n",
    "    rowDict[colist[0]] = row_tds[2].text # so the big assumption is that we always get description in 3rd column\n",
    "    rowDict[colist[1]] = \"https://ss.com\" + row_tds[1].find('a').get('href')\n",
    "    for td,key in zip(row_tds[3:],colist[2:]): \n",
    "        rowDict[key] = td.text\n",
    "    return rowDict"
   ]
  },
  {
   "cell_type": "code",
   "execution_count": 33,
   "metadata": {},
   "outputs": [
    {
     "data": {
      "text/plain": [
       "{'description': 'В самом сердце Риги продаётся квартира\\r\\n\\r\\nКвартира после капитал',\n",
       " 'url': 'https://ss.com/msg/lv/real-estate/flats/riga/centre/boejl.html',\n",
       " 'Iela': 'Kalniņa 1',\n",
       " 'Ist.': '1',\n",
       " 'm2': '26',\n",
       " 'Stāvs': '4/5',\n",
       " 'Sērija': 'Renov.',\n",
       " 'Cena, m2': '3,038 €',\n",
       " 'Cena': '79,000  €'}"
      ]
     },
     "execution_count": 33,
     "metadata": {},
     "output_type": "execute_result"
    }
   ],
   "source": [
    "getRow(apt_rows[0])"
   ]
  },
  {
   "cell_type": "code",
   "execution_count": 34,
   "metadata": {},
   "outputs": [],
   "source": [
    "def getRows(rowlist,colist=column_names):\n",
    "    return [getRow(row) for row in rowlist]\n"
   ]
  },
  {
   "cell_type": "code",
   "execution_count": 35,
   "metadata": {},
   "outputs": [
    {
     "data": {
      "text/plain": [
       "[{'description': 'Īpašnieks piedāvā 4-istabu dzīvokli 1912. gadā celtā renovācijas',\n",
       "  'url': 'https://ss.com/msg/lv/real-estate/flats/riga/centre/bcnjdn.html',\n",
       "  'Iela': 'Alūksnes 1',\n",
       "  'Ist.': '4',\n",
       "  'm2': '97',\n",
       "  'Stāvs': '3/5',\n",
       "  'Sērija': 'Renov.',\n",
       "  'Cena, m2': '1,254 €',\n",
       "  'Cena': '121,625  €'},\n",
       " {'description': 'Šobrīd tiek sakopta un sakārtota 1912. gadā celta ēka Alūksnes i',\n",
       "  'url': 'https://ss.com/msg/lv/real-estate/flats/riga/centre/ageik.html',\n",
       "  'Iela': 'Alūksnes 1',\n",
       "  'Ist.': '1',\n",
       "  'm2': '24',\n",
       "  'Stāvs': '2/6',\n",
       "  'Sērija': 'Renov.',\n",
       "  'Cena, m2': '1,371 €',\n",
       "  'Cena': '32,900  €'},\n",
       " {'description': 'Cenā autostāvvieta, mēbelēts. \\r\\nSaulains dzīvoklis rekonstruētā ',\n",
       "  'url': 'https://ss.com/msg/lv/real-estate/flats/riga/centre/bxbeg.html',\n",
       "  'Iela': 'Valdemāra 37',\n",
       "  'Ist.': '3',\n",
       "  'm2': '75',\n",
       "  'Stāvs': '5/6',\n",
       "  'Sērija': 'Renov.',\n",
       "  'Cena, m2': '2,396 €',\n",
       "  'Cena': '179,700  €'}]"
      ]
     },
     "execution_count": 35,
     "metadata": {},
     "output_type": "execute_result"
    }
   ],
   "source": [
    "row_ads = getRows(apt_rows)\n",
    "row_ads[-3:]"
   ]
  },
  {
   "cell_type": "code",
   "execution_count": 36,
   "metadata": {},
   "outputs": [
    {
     "data": {
      "text/plain": [
       "(30, 9)"
      ]
     },
     "execution_count": 36,
     "metadata": {},
     "output_type": "execute_result"
    }
   ],
   "source": [
    "dtemp = pd.DataFrame(row_ads, columns=column_names)\n",
    "dtemp.shape"
   ]
  },
  {
   "cell_type": "code",
   "execution_count": 37,
   "metadata": {},
   "outputs": [
    {
     "data": {
      "text/html": [
       "<div>\n",
       "<style scoped>\n",
       "    .dataframe tbody tr th:only-of-type {\n",
       "        vertical-align: middle;\n",
       "    }\n",
       "\n",
       "    .dataframe tbody tr th {\n",
       "        vertical-align: top;\n",
       "    }\n",
       "\n",
       "    .dataframe thead th {\n",
       "        text-align: right;\n",
       "    }\n",
       "</style>\n",
       "<table border=\"1\" class=\"dataframe\">\n",
       "  <thead>\n",
       "    <tr style=\"text-align: right;\">\n",
       "      <th></th>\n",
       "      <th>description</th>\n",
       "      <th>url</th>\n",
       "      <th>Iela</th>\n",
       "      <th>Ist.</th>\n",
       "      <th>m2</th>\n",
       "      <th>Stāvs</th>\n",
       "      <th>Sērija</th>\n",
       "      <th>Cena, m2</th>\n",
       "      <th>Cena</th>\n",
       "    </tr>\n",
       "  </thead>\n",
       "  <tbody>\n",
       "    <tr>\n",
       "      <th>0</th>\n",
       "      <td>В самом сердце Риги продаётся квартира\\r\\n\\r\\n...</td>\n",
       "      <td>https://ss.com/msg/lv/real-estate/flats/riga/c...</td>\n",
       "      <td>Kalniņa 1</td>\n",
       "      <td>1</td>\n",
       "      <td>26</td>\n",
       "      <td>4/5</td>\n",
       "      <td>Renov.</td>\n",
       "      <td>3,038 €</td>\n",
       "      <td>79,000  €</td>\n",
       "    </tr>\n",
       "    <tr>\n",
       "      <th>1</th>\n",
       "      <td>Kрасивая квартира в самом центре Риги, по адре...</td>\n",
       "      <td>https://ss.com/msg/lv/real-estate/flats/riga/c...</td>\n",
       "      <td>Merķeļa 17</td>\n",
       "      <td>2</td>\n",
       "      <td>60</td>\n",
       "      <td>2/4</td>\n",
       "      <td>P. kara</td>\n",
       "      <td>2,667 €</td>\n",
       "      <td>160,000  €</td>\n",
       "    </tr>\n",
       "    <tr>\n",
       "      <th>2</th>\n",
       "      <td>Pārdodam elegantu 5 istabu dzīvokli pilsētas c...</td>\n",
       "      <td>https://ss.com/msg/lv/real-estate/flats/riga/c...</td>\n",
       "      <td>Marijas 16</td>\n",
       "      <td>5</td>\n",
       "      <td>172</td>\n",
       "      <td>1/7</td>\n",
       "      <td>P. kara</td>\n",
       "      <td>1,599 €</td>\n",
       "      <td>275,000  €</td>\n",
       "    </tr>\n",
       "    <tr>\n",
       "      <th>3</th>\n",
       "      <td>Gaumīgs, mēbelēts divstāvu dzīvoklis ar balkon...</td>\n",
       "      <td>https://ss.com/msg/lv/real-estate/flats/riga/c...</td>\n",
       "      <td>Pulkv. Brieža 7</td>\n",
       "      <td>3</td>\n",
       "      <td>104</td>\n",
       "      <td>6/7</td>\n",
       "      <td>Renov.</td>\n",
       "      <td>2,423 €</td>\n",
       "      <td>252,000  €</td>\n",
       "    </tr>\n",
       "    <tr>\n",
       "      <th>4</th>\n",
       "      <td>Īpašnieks pārdod dzīvokli ar pēlēko apdari jau...</td>\n",
       "      <td>https://ss.com/msg/lv/real-estate/flats/riga/c...</td>\n",
       "      <td>Kungu 25</td>\n",
       "      <td>1</td>\n",
       "      <td>24</td>\n",
       "      <td>5/6</td>\n",
       "      <td>Jaun.</td>\n",
       "      <td>2,083 €</td>\n",
       "      <td>49,990  €</td>\n",
       "    </tr>\n",
       "  </tbody>\n",
       "</table>\n",
       "</div>"
      ],
      "text/plain": [
       "                                         description  \\\n",
       "0  В самом сердце Риги продаётся квартира\\r\\n\\r\\n...   \n",
       "1  Kрасивая квартира в самом центре Риги, по адре...   \n",
       "2  Pārdodam elegantu 5 istabu dzīvokli pilsētas c...   \n",
       "3  Gaumīgs, mēbelēts divstāvu dzīvoklis ar balkon...   \n",
       "4  Īpašnieks pārdod dzīvokli ar pēlēko apdari jau...   \n",
       "\n",
       "                                                 url             Iela Ist.  \\\n",
       "0  https://ss.com/msg/lv/real-estate/flats/riga/c...        Kalniņa 1    1   \n",
       "1  https://ss.com/msg/lv/real-estate/flats/riga/c...       Merķeļa 17    2   \n",
       "2  https://ss.com/msg/lv/real-estate/flats/riga/c...       Marijas 16    5   \n",
       "3  https://ss.com/msg/lv/real-estate/flats/riga/c...  Pulkv. Brieža 7    3   \n",
       "4  https://ss.com/msg/lv/real-estate/flats/riga/c...         Kungu 25    1   \n",
       "\n",
       "    m2 Stāvs   Sērija Cena, m2        Cena  \n",
       "0   26   4/5   Renov.  3,038 €   79,000  €  \n",
       "1   60   2/4  P. kara  2,667 €  160,000  €  \n",
       "2  172   1/7  P. kara  1,599 €  275,000  €  \n",
       "3  104   6/7   Renov.  2,423 €  252,000  €  \n",
       "4   24   5/6    Jaun.  2,083 €   49,990  €  "
      ]
     },
     "execution_count": 37,
     "metadata": {},
     "output_type": "execute_result"
    }
   ],
   "source": [
    "dtemp.head()"
   ]
  },
  {
   "cell_type": "code",
   "execution_count": 38,
   "metadata": {},
   "outputs": [],
   "source": [
    "def getDFfromURL(url):\n",
    "    # print(\"getting data from\", url)\n",
    "    req = requests.get(url)\n",
    "    if req.status_code != 200:\n",
    "        print(\"Request Fail with\", req.status_code)\n",
    "        return None # maybe return empty dataframe here\n",
    "    soup = BeautifulSoup(req.text, 'lxml')\n",
    "    column_names = getColList(soup)\n",
    "    rowlist = getRowList(soup)\n",
    "    rows = getRows(rowlist)\n",
    "    return pd.DataFrame(rows, columns=column_names)\n",
    "    "
   ]
  },
  {
   "cell_type": "code",
   "execution_count": 39,
   "metadata": {},
   "outputs": [],
   "source": [
    "df = getDFfromURL(centrs)"
   ]
  },
  {
   "cell_type": "code",
   "execution_count": 40,
   "metadata": {},
   "outputs": [
    {
     "data": {
      "text/plain": [
       "(30, 9)"
      ]
     },
     "execution_count": 40,
     "metadata": {},
     "output_type": "execute_result"
    }
   ],
   "source": [
    "df.shape"
   ]
  },
  {
   "cell_type": "code",
   "execution_count": 41,
   "metadata": {},
   "outputs": [
    {
     "data": {
      "text/html": [
       "<div>\n",
       "<style scoped>\n",
       "    .dataframe tbody tr th:only-of-type {\n",
       "        vertical-align: middle;\n",
       "    }\n",
       "\n",
       "    .dataframe tbody tr th {\n",
       "        vertical-align: top;\n",
       "    }\n",
       "\n",
       "    .dataframe thead th {\n",
       "        text-align: right;\n",
       "    }\n",
       "</style>\n",
       "<table border=\"1\" class=\"dataframe\">\n",
       "  <thead>\n",
       "    <tr style=\"text-align: right;\">\n",
       "      <th></th>\n",
       "      <th>description</th>\n",
       "      <th>url</th>\n",
       "      <th>Iela</th>\n",
       "      <th>Ist.</th>\n",
       "      <th>m2</th>\n",
       "      <th>Stāvs</th>\n",
       "      <th>Sērija</th>\n",
       "      <th>Cena, m2</th>\n",
       "      <th>Cena</th>\n",
       "    </tr>\n",
       "  </thead>\n",
       "  <tbody>\n",
       "    <tr>\n",
       "      <th>0</th>\n",
       "      <td>В самом сердце Риги продаётся квартира\\r\\n\\r\\n...</td>\n",
       "      <td>https://ss.com/msg/lv/real-estate/flats/riga/c...</td>\n",
       "      <td>Kalniņa 1</td>\n",
       "      <td>1</td>\n",
       "      <td>26</td>\n",
       "      <td>4/5</td>\n",
       "      <td>Renov.</td>\n",
       "      <td>3,038 €</td>\n",
       "      <td>79,000  €</td>\n",
       "    </tr>\n",
       "    <tr>\n",
       "      <th>1</th>\n",
       "      <td>Kрасивая квартира в самом центре Риги, по адре...</td>\n",
       "      <td>https://ss.com/msg/lv/real-estate/flats/riga/c...</td>\n",
       "      <td>Merķeļa 17</td>\n",
       "      <td>2</td>\n",
       "      <td>60</td>\n",
       "      <td>2/4</td>\n",
       "      <td>P. kara</td>\n",
       "      <td>2,667 €</td>\n",
       "      <td>160,000  €</td>\n",
       "    </tr>\n",
       "    <tr>\n",
       "      <th>2</th>\n",
       "      <td>Pārdodam elegantu 5 istabu dzīvokli pilsētas c...</td>\n",
       "      <td>https://ss.com/msg/lv/real-estate/flats/riga/c...</td>\n",
       "      <td>Marijas 16</td>\n",
       "      <td>5</td>\n",
       "      <td>172</td>\n",
       "      <td>1/7</td>\n",
       "      <td>P. kara</td>\n",
       "      <td>1,599 €</td>\n",
       "      <td>275,000  €</td>\n",
       "    </tr>\n",
       "    <tr>\n",
       "      <th>3</th>\n",
       "      <td>Gaumīgs, mēbelēts divstāvu dzīvoklis ar balkon...</td>\n",
       "      <td>https://ss.com/msg/lv/real-estate/flats/riga/c...</td>\n",
       "      <td>Pulkv. Brieža 7</td>\n",
       "      <td>3</td>\n",
       "      <td>104</td>\n",
       "      <td>6/7</td>\n",
       "      <td>Renov.</td>\n",
       "      <td>2,423 €</td>\n",
       "      <td>252,000  €</td>\n",
       "    </tr>\n",
       "    <tr>\n",
       "      <th>4</th>\n",
       "      <td>Īpašnieks pārdod dzīvokli ar pēlēko apdari jau...</td>\n",
       "      <td>https://ss.com/msg/lv/real-estate/flats/riga/c...</td>\n",
       "      <td>Kungu 25</td>\n",
       "      <td>1</td>\n",
       "      <td>24</td>\n",
       "      <td>5/6</td>\n",
       "      <td>Jaun.</td>\n",
       "      <td>2,083 €</td>\n",
       "      <td>49,990  €</td>\n",
       "    </tr>\n",
       "  </tbody>\n",
       "</table>\n",
       "</div>"
      ],
      "text/plain": [
       "                                         description  \\\n",
       "0  В самом сердце Риги продаётся квартира\\r\\n\\r\\n...   \n",
       "1  Kрасивая квартира в самом центре Риги, по адре...   \n",
       "2  Pārdodam elegantu 5 istabu dzīvokli pilsētas c...   \n",
       "3  Gaumīgs, mēbelēts divstāvu dzīvoklis ar balkon...   \n",
       "4  Īpašnieks pārdod dzīvokli ar pēlēko apdari jau...   \n",
       "\n",
       "                                                 url             Iela Ist.  \\\n",
       "0  https://ss.com/msg/lv/real-estate/flats/riga/c...        Kalniņa 1    1   \n",
       "1  https://ss.com/msg/lv/real-estate/flats/riga/c...       Merķeļa 17    2   \n",
       "2  https://ss.com/msg/lv/real-estate/flats/riga/c...       Marijas 16    5   \n",
       "3  https://ss.com/msg/lv/real-estate/flats/riga/c...  Pulkv. Brieža 7    3   \n",
       "4  https://ss.com/msg/lv/real-estate/flats/riga/c...         Kungu 25    1   \n",
       "\n",
       "    m2 Stāvs   Sērija Cena, m2        Cena  \n",
       "0   26   4/5   Renov.  3,038 €   79,000  €  \n",
       "1   60   2/4  P. kara  2,667 €  160,000  €  \n",
       "2  172   1/7  P. kara  1,599 €  275,000  €  \n",
       "3  104   6/7   Renov.  2,423 €  252,000  €  \n",
       "4   24   5/6    Jaun.  2,083 €   49,990  €  "
      ]
     },
     "execution_count": 41,
     "metadata": {},
     "output_type": "execute_result"
    }
   ],
   "source": [
    "df.head()"
   ]
  },
  {
   "cell_type": "code",
   "execution_count": 42,
   "metadata": {},
   "outputs": [
    {
     "data": {
      "text/plain": [
       "98"
      ]
     },
     "execution_count": 42,
     "metadata": {},
     "output_type": "execute_result"
    }
   ],
   "source": [
    "\n",
    "# https://developer.mozilla.org/en-US/docs/Web/HTML/Element/a\n",
    "anchors = soup.find_all(\"a\")\n",
    "len(anchors)"
   ]
  },
  {
   "cell_type": "code",
   "execution_count": 43,
   "metadata": {},
   "outputs": [
    {
     "data": {
      "text/plain": [
       "[<a href=\"/\" title=\"Sludinājumi\"><img alt=\"Sludinājumi\" border=\"0\" class=\"page_header_logo\" src=\"https://i.ss.com/img/p.gif\"/></a>,\n",
       " <a class=\"a_menu\" href=\"/lv/real-estate/flats/new/\" title=\"Iesniegt Sludinājumu\">Iesniegt Sludinājumu</a>,\n",
       " <a class=\"a_menu\" href=\"/lv/login/\" title=\"Mani Sludinājumi\">Mani Sludinājumi</a>,\n",
       " <a class=\"a_menu\" href=\"/lv/real-estate/flats/riga/centre/search/\" title=\"Meklēt sludinājumus\">Meklēšana</a>,\n",
       " <a class=\"a_menu\" href=\"/lv/favorites/\" title=\"Memo\">Memo</a>]"
      ]
     },
     "execution_count": 43,
     "metadata": {},
     "output_type": "execute_result"
    }
   ],
   "source": [
    "anchors[:5]"
   ]
  },
  {
   "cell_type": "code",
   "execution_count": 44,
   "metadata": {},
   "outputs": [
    {
     "data": {
      "text/plain": [
       "10"
      ]
     },
     "execution_count": 44,
     "metadata": {},
     "output_type": "execute_result"
    }
   ],
   "source": [
    "navs = [anchor for anchor in anchors if anchor.get(\"name\") == \"nav_id\"] # get will get us None if no \"name\" exists\n",
    "len(navs)"
   ]
  },
  {
   "cell_type": "code",
   "execution_count": 45,
   "metadata": {},
   "outputs": [
    {
     "data": {
      "text/plain": [
       "<a class=\"navi\" href=\"/lv/real-estate/flats/riga/centre/sell/page26.html\" name=\"nav_id\" rel=\"prev\"><img border=\"0\" height=\"5\" src=\"https://i.ss.com/img/s_left.png\" style=\"padding-bottom:2px;\" width=\"9\"/> Iepriekšējie</a>"
      ]
     },
     "execution_count": 45,
     "metadata": {},
     "output_type": "execute_result"
    }
   ],
   "source": [
    "navs[0]"
   ]
  },
  {
   "cell_type": "code",
   "execution_count": 46,
   "metadata": {},
   "outputs": [
    {
     "data": {
      "text/plain": [
       "{'name': 'nav_id',\n",
       " 'rel': ['prev'],\n",
       " 'class': ['navi'],\n",
       " 'href': '/lv/real-estate/flats/riga/centre/sell/page26.html'}"
      ]
     },
     "execution_count": 46,
     "metadata": {},
     "output_type": "execute_result"
    }
   ],
   "source": [
    "navs[0].attrs"
   ]
  },
  {
   "cell_type": "code",
   "execution_count": 47,
   "metadata": {},
   "outputs": [
    {
     "data": {
      "text/plain": [
       "'/lv/real-estate/flats/riga/centre/sell/page26.html'"
      ]
     },
     "execution_count": 47,
     "metadata": {},
     "output_type": "execute_result"
    }
   ],
   "source": [
    "navs[0]['href']"
   ]
  },
  {
   "cell_type": "code",
   "execution_count": 49,
   "metadata": {},
   "outputs": [
    {
     "data": {
      "text/plain": [
       "'26.html'"
      ]
     },
     "execution_count": 49,
     "metadata": {},
     "output_type": "execute_result"
    }
   ],
   "source": [
    "# could use regular expression here but we can use split \n",
    "afterpage = navs[0]['href'].split(\"/page\")[-1] # -1 might be safer than 1 in case there is region with name page\n",
    "afterpage"
   ]
  },
  {
   "cell_type": "code",
   "execution_count": 50,
   "metadata": {},
   "outputs": [
    {
     "data": {
      "text/plain": [
       "'26'"
      ]
     },
     "execution_count": 50,
     "metadata": {},
     "output_type": "execute_result"
    }
   ],
   "source": [
    "beforedot = afterpage.split(\".html\")[0]\n",
    "beforedot"
   ]
  },
  {
   "cell_type": "code",
   "execution_count": 51,
   "metadata": {},
   "outputs": [
    {
     "data": {
      "text/plain": [
       "26"
      ]
     },
     "execution_count": 51,
     "metadata": {},
     "output_type": "execute_result"
    }
   ],
   "source": [
    "lastpage = int(beforedot)\n",
    "lastpage"
   ]
  },
  {
   "cell_type": "code",
   "execution_count": 52,
   "metadata": {},
   "outputs": [],
   "source": [
    "def getAllLocalUrls(url):\n",
    "    \"\"\"Get a list of all urls including paginated pages\"\"\"\n",
    "    results = [url] # default is just the url if no extra pages found\n",
    "    req = requests.get(url)\n",
    "    if req.status_code != 200:\n",
    "        print(f\"Bad response! {req.status_code}\")\n",
    "        return []\n",
    "    soup = BeautifulSoup(req.text, 'lxml')\n",
    "    # we just need a one element\n",
    "    prevanchor = soup.find('a', {\"rel\":\"prev\"})\n",
    "    if prevanchor == None:\n",
    "        return results\n",
    "    href = prevanchor.attrs.get('href')\n",
    "    lastPageNum = int(href.split('page')[-1].split('.')[0])\n",
    "    print(\"Last page is\",lastPageNum)\n",
    "    nurls = [f\"{url}page{n}.html\" for n in range(2,lastPageNum+1)]\n",
    "    results += nurls\n",
    "    return results"
   ]
  },
  {
   "cell_type": "code",
   "execution_count": 53,
   "metadata": {},
   "outputs": [
    {
     "data": {
      "text/plain": [
       "'https://www.ss.com/lv/real-estate/flats/riga/centre/sell/'"
      ]
     },
     "execution_count": 53,
     "metadata": {},
     "output_type": "execute_result"
    }
   ],
   "source": [
    "centrs"
   ]
  },
  {
   "cell_type": "code",
   "execution_count": 54,
   "metadata": {},
   "outputs": [
    {
     "name": "stdout",
     "output_type": "stream",
     "text": [
      "Last page is 26\n"
     ]
    },
    {
     "data": {
      "text/plain": [
       "(26,\n",
       " ['https://www.ss.com/lv/real-estate/flats/riga/centre/sell/',\n",
       "  'https://www.ss.com/lv/real-estate/flats/riga/centre/sell/page2.html',\n",
       "  'https://www.ss.com/lv/real-estate/flats/riga/centre/sell/page3.html'],\n",
       " 'https://www.ss.com/lv/real-estate/flats/riga/centre/sell/page26.html')"
      ]
     },
     "execution_count": 54,
     "metadata": {},
     "output_type": "execute_result"
    }
   ],
   "source": [
    "local_urls = getAllLocalUrls(centrs)\n",
    "len(local_urls),local_urls[:3],local_urls[-1]"
   ]
  },
  {
   "cell_type": "code",
   "execution_count": 55,
   "metadata": {},
   "outputs": [
    {
     "data": {
      "text/plain": [
       "(21, 9)"
      ]
     },
     "execution_count": 55,
     "metadata": {},
     "output_type": "execute_result"
    }
   ],
   "source": [
    "dlast = getDFfromURL(local_urls[-1])\n",
    "dlast.shape"
   ]
  },
  {
   "cell_type": "code",
   "execution_count": 56,
   "metadata": {
    "scrolled": true
   },
   "outputs": [
    {
     "data": {
      "text/html": [
       "<div>\n",
       "<style scoped>\n",
       "    .dataframe tbody tr th:only-of-type {\n",
       "        vertical-align: middle;\n",
       "    }\n",
       "\n",
       "    .dataframe tbody tr th {\n",
       "        vertical-align: top;\n",
       "    }\n",
       "\n",
       "    .dataframe thead th {\n",
       "        text-align: right;\n",
       "    }\n",
       "</style>\n",
       "<table border=\"1\" class=\"dataframe\">\n",
       "  <thead>\n",
       "    <tr style=\"text-align: right;\">\n",
       "      <th></th>\n",
       "      <th>description</th>\n",
       "      <th>url</th>\n",
       "      <th>Iela</th>\n",
       "      <th>Ist.</th>\n",
       "      <th>m2</th>\n",
       "      <th>Stāvs</th>\n",
       "      <th>Sērija</th>\n",
       "      <th>Cena, m2</th>\n",
       "      <th>Cena</th>\n",
       "    </tr>\n",
       "  </thead>\n",
       "  <tbody>\n",
       "    <tr>\n",
       "      <th>0</th>\n",
       "      <td>Māja nodota ekspluatācijā 2020.gada aprīlī. Pā...</td>\n",
       "      <td>https://ss.com/msg/lv/real-estate/flats/riga/c...</td>\n",
       "      <td>Klijānu 16</td>\n",
       "      <td>3</td>\n",
       "      <td>43</td>\n",
       "      <td>3/9</td>\n",
       "      <td>Jaun.</td>\n",
       "      <td>1,558 €</td>\n",
       "      <td>67,000  €</td>\n",
       "    </tr>\n",
       "    <tr>\n",
       "      <th>1</th>\n",
       "      <td>Kičīgs divlīmeņu mansarda dzīvoklis ar balkonu...</td>\n",
       "      <td>https://ss.com/msg/lv/real-estate/flats/riga/c...</td>\n",
       "      <td>Klusā 11</td>\n",
       "      <td>3</td>\n",
       "      <td>68</td>\n",
       "      <td>5/5</td>\n",
       "      <td>Renov.</td>\n",
       "      <td>2,187 €</td>\n",
       "      <td>148,720  €</td>\n",
       "    </tr>\n",
       "    <tr>\n",
       "      <th>2</th>\n",
       "      <td>Īpašnieks pārdod 2 istabu dzīvokli ar atsevišķ...</td>\n",
       "      <td>https://ss.com/msg/lv/real-estate/flats/riga/c...</td>\n",
       "      <td>Brīvības 147</td>\n",
       "      <td>2</td>\n",
       "      <td>60</td>\n",
       "      <td>4/7</td>\n",
       "      <td>P. kara</td>\n",
       "      <td>1,067 €</td>\n",
       "      <td>64,000  €</td>\n",
       "    </tr>\n",
       "    <tr>\n",
       "      <th>3</th>\n",
       "      <td>Pārdodu 1 istabas dzīvokli klusā vietā, tuvu p...</td>\n",
       "      <td>https://ss.com/msg/lv/real-estate/flats/riga/c...</td>\n",
       "      <td>Duntes 24a</td>\n",
       "      <td>1</td>\n",
       "      <td>24</td>\n",
       "      <td>2/2</td>\n",
       "      <td>P. kara</td>\n",
       "      <td>370 €</td>\n",
       "      <td>8,890  €</td>\n",
       "    </tr>\n",
       "    <tr>\n",
       "      <th>4</th>\n",
       "      <td>Piedāvājam iegādāties 3. istabu dzīvokli rekon...</td>\n",
       "      <td>https://ss.com/msg/lv/real-estate/flats/riga/c...</td>\n",
       "      <td>Miera 105</td>\n",
       "      <td>3</td>\n",
       "      <td>71</td>\n",
       "      <td>6/6</td>\n",
       "      <td>Renov.</td>\n",
       "      <td>1,756 €</td>\n",
       "      <td>124,700  €</td>\n",
       "    </tr>\n",
       "    <tr>\n",
       "      <th>5</th>\n",
       "      <td>3D tūre, izstaigā dzīvokli, esot mājās. Links ...</td>\n",
       "      <td>https://ss.com/msg/lv/real-estate/flats/riga/c...</td>\n",
       "      <td>Krasta 11</td>\n",
       "      <td>3</td>\n",
       "      <td>67</td>\n",
       "      <td>6/6</td>\n",
       "      <td>Renov.</td>\n",
       "      <td>1,537 €</td>\n",
       "      <td>103,000  €</td>\n",
       "    </tr>\n",
       "    <tr>\n",
       "      <th>6</th>\n",
       "      <td>Izolētas istabas - 25, 20 un 12 kv. m. \\r\\nLie...</td>\n",
       "      <td>https://ss.com/msg/lv/real-estate/flats/riga/c...</td>\n",
       "      <td>Artilērijas 1</td>\n",
       "      <td>3</td>\n",
       "      <td>96</td>\n",
       "      <td>3/6</td>\n",
       "      <td>P. kara</td>\n",
       "      <td>917 €</td>\n",
       "      <td>88,000  €</td>\n",
       "    </tr>\n",
       "    <tr>\n",
       "      <th>7</th>\n",
       "      <td>Elegants dzīvoklis projektā Parker's. \\r\\n\\r\\n...</td>\n",
       "      <td>https://ss.com/msg/lv/real-estate/flats/riga/c...</td>\n",
       "      <td>Melngaiļa 8</td>\n",
       "      <td>2</td>\n",
       "      <td>43</td>\n",
       "      <td>3/7</td>\n",
       "      <td>Jaun.</td>\n",
       "      <td>3,263 €</td>\n",
       "      <td>140,300  €</td>\n",
       "    </tr>\n",
       "    <tr>\n",
       "      <th>8</th>\n",
       "      <td>Elegants dzīvokļu ēku projekts Parker's. \\r\\n\\...</td>\n",
       "      <td>https://ss.com/msg/lv/real-estate/flats/riga/c...</td>\n",
       "      <td>Valdemāra 41</td>\n",
       "      <td>5</td>\n",
       "      <td>153</td>\n",
       "      <td>4/7</td>\n",
       "      <td>Jaun.</td>\n",
       "      <td>3,570 €</td>\n",
       "      <td>546,200  €</td>\n",
       "    </tr>\n",
       "    <tr>\n",
       "      <th>9</th>\n",
       "      <td>Kompakts, daļēji labiekārtots 3 istabu dzīvokl...</td>\n",
       "      <td>https://ss.com/msg/lv/real-estate/flats/riga/c...</td>\n",
       "      <td>Blaumaņa 12</td>\n",
       "      <td>3</td>\n",
       "      <td>62</td>\n",
       "      <td>3/6</td>\n",
       "      <td>Renov.</td>\n",
       "      <td>2,613 €</td>\n",
       "      <td>161,980  €</td>\n",
       "    </tr>\n",
       "    <tr>\n",
       "      <th>10</th>\n",
       "      <td>3-istabu dzīvoklis renovētā ēkā, Miera ielā 5....</td>\n",
       "      <td>https://ss.com/msg/lv/real-estate/flats/riga/c...</td>\n",
       "      <td>Miera 5</td>\n",
       "      <td>3</td>\n",
       "      <td>68</td>\n",
       "      <td>2/6</td>\n",
       "      <td>Renov.</td>\n",
       "      <td>1,575 €</td>\n",
       "      <td>107,105  €</td>\n",
       "    </tr>\n",
       "    <tr>\n",
       "      <th>11</th>\n",
       "      <td>Rīgas vēsturiskajā centrā “Koka Rīga” tiek pār...</td>\n",
       "      <td>https://ss.com/msg/lv/real-estate/flats/riga/c...</td>\n",
       "      <td>Matīsa 82</td>\n",
       "      <td>1</td>\n",
       "      <td>18</td>\n",
       "      <td>2/2</td>\n",
       "      <td>P. kara</td>\n",
       "      <td>400 €</td>\n",
       "      <td>7,200  €</td>\n",
       "    </tr>\n",
       "    <tr>\n",
       "      <th>12</th>\n",
       "      <td>Pārdošanai piedāvā brīnišķīgu, mūsdienīgu trīs...</td>\n",
       "      <td>https://ss.com/msg/lv/real-estate/flats/riga/c...</td>\n",
       "      <td>Šarlotes 7</td>\n",
       "      <td>3</td>\n",
       "      <td>87</td>\n",
       "      <td>5/6</td>\n",
       "      <td>Jaun.</td>\n",
       "      <td>2,241 €</td>\n",
       "      <td>195,000  €</td>\n",
       "    </tr>\n",
       "    <tr>\n",
       "      <th>13</th>\n",
       "      <td>Dzīvoklis prestižajā projektā 'Skanstes Parks'...</td>\n",
       "      <td>https://ss.com/msg/lv/real-estate/flats/riga/c...</td>\n",
       "      <td>J. Dikmaņa 4</td>\n",
       "      <td>3</td>\n",
       "      <td>104</td>\n",
       "      <td>5/6</td>\n",
       "      <td>Jaun.</td>\n",
       "      <td>2,769 €</td>\n",
       "      <td>288,000  €</td>\n",
       "    </tr>\n",
       "    <tr>\n",
       "      <th>14</th>\n",
       "      <td>Cовременная дизайнерская квартира-студия в вос...</td>\n",
       "      <td>https://ss.com/msg/lv/real-estate/flats/riga/c...</td>\n",
       "      <td>Rūpniecības 21/5</td>\n",
       "      <td>1</td>\n",
       "      <td>63</td>\n",
       "      <td>4/7</td>\n",
       "      <td>Jaun.</td>\n",
       "      <td>2,657 €</td>\n",
       "      <td>167,400  €</td>\n",
       "    </tr>\n",
       "    <tr>\n",
       "      <th>15</th>\n",
       "      <td>Предлагаем приобрести элитную 3-х(4-х) комнатн...</td>\n",
       "      <td>https://ss.com/msg/lv/real-estate/flats/riga/c...</td>\n",
       "      <td>Ausekļa 3</td>\n",
       "      <td>4</td>\n",
       "      <td>102</td>\n",
       "      <td>2/5</td>\n",
       "      <td>P. kara</td>\n",
       "      <td>2,980 €</td>\n",
       "      <td>304,000  €</td>\n",
       "    </tr>\n",
       "    <tr>\n",
       "      <th>16</th>\n",
       "      <td>В продаже двухкомнатная квартира с эксклюзивно...</td>\n",
       "      <td>https://ss.com/msg/lv/real-estate/flats/riga/c...</td>\n",
       "      <td>Klijānu 16</td>\n",
       "      <td>2</td>\n",
       "      <td>54</td>\n",
       "      <td>3/9</td>\n",
       "      <td>Jaun.</td>\n",
       "      <td>1,244 €</td>\n",
       "      <td>67,200  €</td>\n",
       "    </tr>\n",
       "    <tr>\n",
       "      <th>17</th>\n",
       "      <td>Remontējams divistabu dzīvoklis vēsturiskā ēkā...</td>\n",
       "      <td>https://ss.com/msg/lv/real-estate/flats/riga/c...</td>\n",
       "      <td>Valdemāra 69</td>\n",
       "      <td>2</td>\n",
       "      <td>37</td>\n",
       "      <td>3/6</td>\n",
       "      <td>Renov.</td>\n",
       "      <td>1,594 €</td>\n",
       "      <td>58,990  €</td>\n",
       "    </tr>\n",
       "    <tr>\n",
       "      <th>18</th>\n",
       "      <td>Продаётся солнечная четырёхкомнатная квартира ...</td>\n",
       "      <td>https://ss.com/msg/lv/real-estate/flats/riga/c...</td>\n",
       "      <td>Brīvības 114</td>\n",
       "      <td>4</td>\n",
       "      <td>124</td>\n",
       "      <td>3/6</td>\n",
       "      <td>P. kara</td>\n",
       "      <td>1,293 €</td>\n",
       "      <td>160,342  €</td>\n",
       "    </tr>\n",
       "    <tr>\n",
       "      <th>19</th>\n",
       "      <td>Mēbelēts divistabu dzīvoklis renovētā vēsturis...</td>\n",
       "      <td>https://ss.com/msg/lv/real-estate/flats/riga/c...</td>\n",
       "      <td>Valdemāra 69</td>\n",
       "      <td>2</td>\n",
       "      <td>37</td>\n",
       "      <td>2/6</td>\n",
       "      <td>P. kara</td>\n",
       "      <td>2,270 €</td>\n",
       "      <td>83,990  €</td>\n",
       "    </tr>\n",
       "    <tr>\n",
       "      <th>20</th>\n",
       "      <td>Piedāvājumā 4 istabu dzīvoklis vēsturiskā namā...</td>\n",
       "      <td>https://ss.com/msg/lv/real-estate/flats/riga/c...</td>\n",
       "      <td>Čaka 36</td>\n",
       "      <td>4</td>\n",
       "      <td>84</td>\n",
       "      <td>3/5</td>\n",
       "      <td>P. kara</td>\n",
       "      <td>1,821 €</td>\n",
       "      <td>152,935  €</td>\n",
       "    </tr>\n",
       "  </tbody>\n",
       "</table>\n",
       "</div>"
      ],
      "text/plain": [
       "                                          description  \\\n",
       "0   Māja nodota ekspluatācijā 2020.gada aprīlī. Pā...   \n",
       "1   Kičīgs divlīmeņu mansarda dzīvoklis ar balkonu...   \n",
       "2   Īpašnieks pārdod 2 istabu dzīvokli ar atsevišķ...   \n",
       "3   Pārdodu 1 istabas dzīvokli klusā vietā, tuvu p...   \n",
       "4   Piedāvājam iegādāties 3. istabu dzīvokli rekon...   \n",
       "5   3D tūre, izstaigā dzīvokli, esot mājās. Links ...   \n",
       "6   Izolētas istabas - 25, 20 un 12 kv. m. \\r\\nLie...   \n",
       "7   Elegants dzīvoklis projektā Parker's. \\r\\n\\r\\n...   \n",
       "8   Elegants dzīvokļu ēku projekts Parker's. \\r\\n\\...   \n",
       "9   Kompakts, daļēji labiekārtots 3 istabu dzīvokl...   \n",
       "10  3-istabu dzīvoklis renovētā ēkā, Miera ielā 5....   \n",
       "11  Rīgas vēsturiskajā centrā “Koka Rīga” tiek pār...   \n",
       "12  Pārdošanai piedāvā brīnišķīgu, mūsdienīgu trīs...   \n",
       "13  Dzīvoklis prestižajā projektā 'Skanstes Parks'...   \n",
       "14  Cовременная дизайнерская квартира-студия в вос...   \n",
       "15  Предлагаем приобрести элитную 3-х(4-х) комнатн...   \n",
       "16  В продаже двухкомнатная квартира с эксклюзивно...   \n",
       "17  Remontējams divistabu dzīvoklis vēsturiskā ēkā...   \n",
       "18  Продаётся солнечная четырёхкомнатная квартира ...   \n",
       "19  Mēbelēts divistabu dzīvoklis renovētā vēsturis...   \n",
       "20  Piedāvājumā 4 istabu dzīvoklis vēsturiskā namā...   \n",
       "\n",
       "                                                  url              Iela Ist.  \\\n",
       "0   https://ss.com/msg/lv/real-estate/flats/riga/c...        Klijānu 16    3   \n",
       "1   https://ss.com/msg/lv/real-estate/flats/riga/c...          Klusā 11    3   \n",
       "2   https://ss.com/msg/lv/real-estate/flats/riga/c...      Brīvības 147    2   \n",
       "3   https://ss.com/msg/lv/real-estate/flats/riga/c...        Duntes 24a    1   \n",
       "4   https://ss.com/msg/lv/real-estate/flats/riga/c...         Miera 105    3   \n",
       "5   https://ss.com/msg/lv/real-estate/flats/riga/c...         Krasta 11    3   \n",
       "6   https://ss.com/msg/lv/real-estate/flats/riga/c...     Artilērijas 1    3   \n",
       "7   https://ss.com/msg/lv/real-estate/flats/riga/c...       Melngaiļa 8    2   \n",
       "8   https://ss.com/msg/lv/real-estate/flats/riga/c...      Valdemāra 41    5   \n",
       "9   https://ss.com/msg/lv/real-estate/flats/riga/c...       Blaumaņa 12    3   \n",
       "10  https://ss.com/msg/lv/real-estate/flats/riga/c...           Miera 5    3   \n",
       "11  https://ss.com/msg/lv/real-estate/flats/riga/c...         Matīsa 82    1   \n",
       "12  https://ss.com/msg/lv/real-estate/flats/riga/c...        Šarlotes 7    3   \n",
       "13  https://ss.com/msg/lv/real-estate/flats/riga/c...      J. Dikmaņa 4    3   \n",
       "14  https://ss.com/msg/lv/real-estate/flats/riga/c...  Rūpniecības 21/5    1   \n",
       "15  https://ss.com/msg/lv/real-estate/flats/riga/c...         Ausekļa 3    4   \n",
       "16  https://ss.com/msg/lv/real-estate/flats/riga/c...        Klijānu 16    2   \n",
       "17  https://ss.com/msg/lv/real-estate/flats/riga/c...      Valdemāra 69    2   \n",
       "18  https://ss.com/msg/lv/real-estate/flats/riga/c...      Brīvības 114    4   \n",
       "19  https://ss.com/msg/lv/real-estate/flats/riga/c...      Valdemāra 69    2   \n",
       "20  https://ss.com/msg/lv/real-estate/flats/riga/c...           Čaka 36    4   \n",
       "\n",
       "     m2 Stāvs   Sērija Cena, m2        Cena  \n",
       "0    43   3/9    Jaun.  1,558 €   67,000  €  \n",
       "1    68   5/5   Renov.  2,187 €  148,720  €  \n",
       "2    60   4/7  P. kara  1,067 €   64,000  €  \n",
       "3    24   2/2  P. kara    370 €    8,890  €  \n",
       "4    71   6/6   Renov.  1,756 €  124,700  €  \n",
       "5    67   6/6   Renov.  1,537 €  103,000  €  \n",
       "6    96   3/6  P. kara    917 €   88,000  €  \n",
       "7    43   3/7    Jaun.  3,263 €  140,300  €  \n",
       "8   153   4/7    Jaun.  3,570 €  546,200  €  \n",
       "9    62   3/6   Renov.  2,613 €  161,980  €  \n",
       "10   68   2/6   Renov.  1,575 €  107,105  €  \n",
       "11   18   2/2  P. kara    400 €    7,200  €  \n",
       "12   87   5/6    Jaun.  2,241 €  195,000  €  \n",
       "13  104   5/6    Jaun.  2,769 €  288,000  €  \n",
       "14   63   4/7    Jaun.  2,657 €  167,400  €  \n",
       "15  102   2/5  P. kara  2,980 €  304,000  €  \n",
       "16   54   3/9    Jaun.  1,244 €   67,200  €  \n",
       "17   37   3/6   Renov.  1,594 €   58,990  €  \n",
       "18  124   3/6  P. kara  1,293 €  160,342  €  \n",
       "19   37   2/6  P. kara  2,270 €   83,990  €  \n",
       "20   84   3/5  P. kara  1,821 €  152,935  €  "
      ]
     },
     "execution_count": 56,
     "metadata": {},
     "output_type": "execute_result"
    }
   ],
   "source": [
    "dlast"
   ]
  },
  {
   "cell_type": "code",
   "execution_count": 57,
   "metadata": {},
   "outputs": [],
   "source": [
    "def get_all_ads_df(start_url, save_excel_path=None):\n",
    "    df_list=[]\n",
    "    local_urls = getAllLocalUrls(start_url)\n",
    "    for url in local_urls:\n",
    "        print(f\"Gathering data from {url}\")\n",
    "        df_list.append(getDFfromURL(url))\n",
    "        time.sleep(0.3) # we need this to play nice!\n",
    "    # https://pandas.pydata.org/pandas-docs/stable/reference/api/pandas.concat.html\n",
    "    big_df = pd.concat(df_list)\n",
    "    if save_excel_path:\n",
    "        big_df.to_excel(save_excel_path)\n",
    "    return big_df\n",
    "    "
   ]
  },
  {
   "cell_type": "code",
   "execution_count": 58,
   "metadata": {},
   "outputs": [
    {
     "data": {
      "text/plain": [
       "'https://www.ss.com/lv/real-estate/flats/riga/centre/sell/'"
      ]
     },
     "execution_count": 58,
     "metadata": {},
     "output_type": "execute_result"
    }
   ],
   "source": [
    "centrs"
   ]
  },
  {
   "cell_type": "code",
   "execution_count": 59,
   "metadata": {},
   "outputs": [
    {
     "name": "stdout",
     "output_type": "stream",
     "text": [
      "Last page is 26\n",
      "Gathering data from https://www.ss.com/lv/real-estate/flats/riga/centre/sell/\n",
      "Gathering data from https://www.ss.com/lv/real-estate/flats/riga/centre/sell/page2.html\n",
      "Gathering data from https://www.ss.com/lv/real-estate/flats/riga/centre/sell/page3.html\n",
      "Gathering data from https://www.ss.com/lv/real-estate/flats/riga/centre/sell/page4.html\n",
      "Gathering data from https://www.ss.com/lv/real-estate/flats/riga/centre/sell/page5.html\n",
      "Gathering data from https://www.ss.com/lv/real-estate/flats/riga/centre/sell/page6.html\n",
      "Gathering data from https://www.ss.com/lv/real-estate/flats/riga/centre/sell/page7.html\n",
      "Gathering data from https://www.ss.com/lv/real-estate/flats/riga/centre/sell/page8.html\n",
      "Gathering data from https://www.ss.com/lv/real-estate/flats/riga/centre/sell/page9.html\n",
      "Gathering data from https://www.ss.com/lv/real-estate/flats/riga/centre/sell/page10.html\n",
      "Gathering data from https://www.ss.com/lv/real-estate/flats/riga/centre/sell/page11.html\n",
      "Gathering data from https://www.ss.com/lv/real-estate/flats/riga/centre/sell/page12.html\n",
      "Gathering data from https://www.ss.com/lv/real-estate/flats/riga/centre/sell/page13.html\n",
      "Gathering data from https://www.ss.com/lv/real-estate/flats/riga/centre/sell/page14.html\n",
      "Gathering data from https://www.ss.com/lv/real-estate/flats/riga/centre/sell/page15.html\n",
      "Gathering data from https://www.ss.com/lv/real-estate/flats/riga/centre/sell/page16.html\n",
      "Gathering data from https://www.ss.com/lv/real-estate/flats/riga/centre/sell/page17.html\n",
      "Gathering data from https://www.ss.com/lv/real-estate/flats/riga/centre/sell/page18.html\n",
      "Gathering data from https://www.ss.com/lv/real-estate/flats/riga/centre/sell/page19.html\n",
      "Gathering data from https://www.ss.com/lv/real-estate/flats/riga/centre/sell/page20.html\n",
      "Gathering data from https://www.ss.com/lv/real-estate/flats/riga/centre/sell/page21.html\n",
      "Gathering data from https://www.ss.com/lv/real-estate/flats/riga/centre/sell/page22.html\n",
      "Gathering data from https://www.ss.com/lv/real-estate/flats/riga/centre/sell/page23.html\n",
      "Gathering data from https://www.ss.com/lv/real-estate/flats/riga/centre/sell/page24.html\n",
      "Gathering data from https://www.ss.com/lv/real-estate/flats/riga/centre/sell/page25.html\n",
      "Gathering data from https://www.ss.com/lv/real-estate/flats/riga/centre/sell/page26.html\n"
     ]
    }
   ],
   "source": [
    "d = get_all_ads_df(centrs, \"centrs_06_10.xlsx\")"
   ]
  },
  {
   "cell_type": "code",
   "execution_count": 60,
   "metadata": {},
   "outputs": [
    {
     "data": {
      "text/plain": [
       "(771, 9)"
      ]
     },
     "execution_count": 60,
     "metadata": {},
     "output_type": "execute_result"
    }
   ],
   "source": [
    "d.shape"
   ]
  },
  {
   "cell_type": "code",
   "execution_count": 61,
   "metadata": {},
   "outputs": [
    {
     "data": {
      "text/html": [
       "<div>\n",
       "<style scoped>\n",
       "    .dataframe tbody tr th:only-of-type {\n",
       "        vertical-align: middle;\n",
       "    }\n",
       "\n",
       "    .dataframe tbody tr th {\n",
       "        vertical-align: top;\n",
       "    }\n",
       "\n",
       "    .dataframe thead th {\n",
       "        text-align: right;\n",
       "    }\n",
       "</style>\n",
       "<table border=\"1\" class=\"dataframe\">\n",
       "  <thead>\n",
       "    <tr style=\"text-align: right;\">\n",
       "      <th></th>\n",
       "      <th>description</th>\n",
       "      <th>url</th>\n",
       "      <th>Iela</th>\n",
       "      <th>Ist.</th>\n",
       "      <th>m2</th>\n",
       "      <th>Stāvs</th>\n",
       "      <th>Sērija</th>\n",
       "      <th>Cena, m2</th>\n",
       "      <th>Cena</th>\n",
       "    </tr>\n",
       "  </thead>\n",
       "  <tbody>\n",
       "    <tr>\n",
       "      <th>0</th>\n",
       "      <td>В самом сердце Риги продаётся квартира\\r\\n\\r\\n...</td>\n",
       "      <td>https://ss.com/msg/lv/real-estate/flats/riga/c...</td>\n",
       "      <td>Kalniņa 1</td>\n",
       "      <td>1</td>\n",
       "      <td>26</td>\n",
       "      <td>4/5</td>\n",
       "      <td>Renov.</td>\n",
       "      <td>3,038 €</td>\n",
       "      <td>79,000  €</td>\n",
       "    </tr>\n",
       "    <tr>\n",
       "      <th>1</th>\n",
       "      <td>Kрасивая квартира в самом центре Риги, по адре...</td>\n",
       "      <td>https://ss.com/msg/lv/real-estate/flats/riga/c...</td>\n",
       "      <td>Merķeļa 17</td>\n",
       "      <td>2</td>\n",
       "      <td>60</td>\n",
       "      <td>2/4</td>\n",
       "      <td>P. kara</td>\n",
       "      <td>2,667 €</td>\n",
       "      <td>160,000  €</td>\n",
       "    </tr>\n",
       "    <tr>\n",
       "      <th>2</th>\n",
       "      <td>Pārdodam elegantu 5 istabu dzīvokli pilsētas c...</td>\n",
       "      <td>https://ss.com/msg/lv/real-estate/flats/riga/c...</td>\n",
       "      <td>Marijas 16</td>\n",
       "      <td>5</td>\n",
       "      <td>172</td>\n",
       "      <td>1/7</td>\n",
       "      <td>P. kara</td>\n",
       "      <td>1,599 €</td>\n",
       "      <td>275,000  €</td>\n",
       "    </tr>\n",
       "    <tr>\n",
       "      <th>3</th>\n",
       "      <td>Gaumīgs, mēbelēts divstāvu dzīvoklis ar balkon...</td>\n",
       "      <td>https://ss.com/msg/lv/real-estate/flats/riga/c...</td>\n",
       "      <td>Pulkv. Brieža 7</td>\n",
       "      <td>3</td>\n",
       "      <td>104</td>\n",
       "      <td>6/7</td>\n",
       "      <td>Renov.</td>\n",
       "      <td>2,423 €</td>\n",
       "      <td>252,000  €</td>\n",
       "    </tr>\n",
       "    <tr>\n",
       "      <th>4</th>\n",
       "      <td>Īpašnieks pārdod dzīvokli ar pēlēko apdari jau...</td>\n",
       "      <td>https://ss.com/msg/lv/real-estate/flats/riga/c...</td>\n",
       "      <td>Kungu 25</td>\n",
       "      <td>1</td>\n",
       "      <td>24</td>\n",
       "      <td>5/6</td>\n",
       "      <td>Jaun.</td>\n",
       "      <td>2,083 €</td>\n",
       "      <td>49,990  €</td>\n",
       "    </tr>\n",
       "  </tbody>\n",
       "</table>\n",
       "</div>"
      ],
      "text/plain": [
       "                                         description  \\\n",
       "0  В самом сердце Риги продаётся квартира\\r\\n\\r\\n...   \n",
       "1  Kрасивая квартира в самом центре Риги, по адре...   \n",
       "2  Pārdodam elegantu 5 istabu dzīvokli pilsētas c...   \n",
       "3  Gaumīgs, mēbelēts divstāvu dzīvoklis ar balkon...   \n",
       "4  Īpašnieks pārdod dzīvokli ar pēlēko apdari jau...   \n",
       "\n",
       "                                                 url             Iela Ist.  \\\n",
       "0  https://ss.com/msg/lv/real-estate/flats/riga/c...        Kalniņa 1    1   \n",
       "1  https://ss.com/msg/lv/real-estate/flats/riga/c...       Merķeļa 17    2   \n",
       "2  https://ss.com/msg/lv/real-estate/flats/riga/c...       Marijas 16    5   \n",
       "3  https://ss.com/msg/lv/real-estate/flats/riga/c...  Pulkv. Brieža 7    3   \n",
       "4  https://ss.com/msg/lv/real-estate/flats/riga/c...         Kungu 25    1   \n",
       "\n",
       "    m2 Stāvs   Sērija Cena, m2        Cena  \n",
       "0   26   4/5   Renov.  3,038 €   79,000  €  \n",
       "1   60   2/4  P. kara  2,667 €  160,000  €  \n",
       "2  172   1/7  P. kara  1,599 €  275,000  €  \n",
       "3  104   6/7   Renov.  2,423 €  252,000  €  \n",
       "4   24   5/6    Jaun.  2,083 €   49,990  €  "
      ]
     },
     "execution_count": 61,
     "metadata": {},
     "output_type": "execute_result"
    }
   ],
   "source": [
    "d.head()"
   ]
  },
  {
   "cell_type": "code",
   "execution_count": 62,
   "metadata": {},
   "outputs": [
    {
     "data": {
      "text/html": [
       "<div>\n",
       "<style scoped>\n",
       "    .dataframe tbody tr th:only-of-type {\n",
       "        vertical-align: middle;\n",
       "    }\n",
       "\n",
       "    .dataframe tbody tr th {\n",
       "        vertical-align: top;\n",
       "    }\n",
       "\n",
       "    .dataframe thead th {\n",
       "        text-align: right;\n",
       "    }\n",
       "</style>\n",
       "<table border=\"1\" class=\"dataframe\">\n",
       "  <thead>\n",
       "    <tr style=\"text-align: right;\">\n",
       "      <th></th>\n",
       "      <th>description</th>\n",
       "      <th>url</th>\n",
       "      <th>Iela</th>\n",
       "      <th>Ist.</th>\n",
       "      <th>m2</th>\n",
       "      <th>Stāvs</th>\n",
       "      <th>Sērija</th>\n",
       "      <th>Cena, m2</th>\n",
       "      <th>Cena</th>\n",
       "    </tr>\n",
       "  </thead>\n",
       "  <tbody>\n",
       "    <tr>\n",
       "      <th>16</th>\n",
       "      <td>В продаже двухкомнатная квартира с эксклюзивно...</td>\n",
       "      <td>https://ss.com/msg/lv/real-estate/flats/riga/c...</td>\n",
       "      <td>Klijānu 16</td>\n",
       "      <td>2</td>\n",
       "      <td>54</td>\n",
       "      <td>3/9</td>\n",
       "      <td>Jaun.</td>\n",
       "      <td>1,244 €</td>\n",
       "      <td>67,200  €</td>\n",
       "    </tr>\n",
       "    <tr>\n",
       "      <th>17</th>\n",
       "      <td>Remontējams divistabu dzīvoklis vēsturiskā ēkā...</td>\n",
       "      <td>https://ss.com/msg/lv/real-estate/flats/riga/c...</td>\n",
       "      <td>Valdemāra 69</td>\n",
       "      <td>2</td>\n",
       "      <td>37</td>\n",
       "      <td>3/6</td>\n",
       "      <td>Renov.</td>\n",
       "      <td>1,594 €</td>\n",
       "      <td>58,990  €</td>\n",
       "    </tr>\n",
       "    <tr>\n",
       "      <th>18</th>\n",
       "      <td>Продаётся солнечная четырёхкомнатная квартира ...</td>\n",
       "      <td>https://ss.com/msg/lv/real-estate/flats/riga/c...</td>\n",
       "      <td>Brīvības 114</td>\n",
       "      <td>4</td>\n",
       "      <td>124</td>\n",
       "      <td>3/6</td>\n",
       "      <td>P. kara</td>\n",
       "      <td>1,293 €</td>\n",
       "      <td>160,342  €</td>\n",
       "    </tr>\n",
       "    <tr>\n",
       "      <th>19</th>\n",
       "      <td>Mēbelēts divistabu dzīvoklis renovētā vēsturis...</td>\n",
       "      <td>https://ss.com/msg/lv/real-estate/flats/riga/c...</td>\n",
       "      <td>Valdemāra 69</td>\n",
       "      <td>2</td>\n",
       "      <td>37</td>\n",
       "      <td>2/6</td>\n",
       "      <td>P. kara</td>\n",
       "      <td>2,270 €</td>\n",
       "      <td>83,990  €</td>\n",
       "    </tr>\n",
       "    <tr>\n",
       "      <th>20</th>\n",
       "      <td>Piedāvājumā 4 istabu dzīvoklis vēsturiskā namā...</td>\n",
       "      <td>https://ss.com/msg/lv/real-estate/flats/riga/c...</td>\n",
       "      <td>Čaka 36</td>\n",
       "      <td>4</td>\n",
       "      <td>84</td>\n",
       "      <td>3/5</td>\n",
       "      <td>P. kara</td>\n",
       "      <td>1,821 €</td>\n",
       "      <td>152,935  €</td>\n",
       "    </tr>\n",
       "  </tbody>\n",
       "</table>\n",
       "</div>"
      ],
      "text/plain": [
       "                                          description  \\\n",
       "16  В продаже двухкомнатная квартира с эксклюзивно...   \n",
       "17  Remontējams divistabu dzīvoklis vēsturiskā ēkā...   \n",
       "18  Продаётся солнечная четырёхкомнатная квартира ...   \n",
       "19  Mēbelēts divistabu dzīvoklis renovētā vēsturis...   \n",
       "20  Piedāvājumā 4 istabu dzīvoklis vēsturiskā namā...   \n",
       "\n",
       "                                                  url          Iela Ist.   m2  \\\n",
       "16  https://ss.com/msg/lv/real-estate/flats/riga/c...    Klijānu 16    2   54   \n",
       "17  https://ss.com/msg/lv/real-estate/flats/riga/c...  Valdemāra 69    2   37   \n",
       "18  https://ss.com/msg/lv/real-estate/flats/riga/c...  Brīvības 114    4  124   \n",
       "19  https://ss.com/msg/lv/real-estate/flats/riga/c...  Valdemāra 69    2   37   \n",
       "20  https://ss.com/msg/lv/real-estate/flats/riga/c...       Čaka 36    4   84   \n",
       "\n",
       "   Stāvs   Sērija Cena, m2        Cena  \n",
       "16   3/9    Jaun.  1,244 €   67,200  €  \n",
       "17   3/6   Renov.  1,594 €   58,990  €  \n",
       "18   3/6  P. kara  1,293 €  160,342  €  \n",
       "19   2/6  P. kara  2,270 €   83,990  €  \n",
       "20   3/5  P. kara  1,821 €  152,935  €  "
      ]
     },
     "execution_count": 62,
     "metadata": {},
     "output_type": "execute_result"
    }
   ],
   "source": [
    "d.tail()"
   ]
  },
  {
   "cell_type": "code",
   "execution_count": 63,
   "metadata": {},
   "outputs": [
    {
     "data": {
      "text/plain": [
       "(771, 9)"
      ]
     },
     "execution_count": 63,
     "metadata": {},
     "output_type": "execute_result"
    }
   ],
   "source": [
    "d.shape"
   ]
  },
  {
   "cell_type": "code",
   "execution_count": 64,
   "metadata": {},
   "outputs": [
    {
     "data": {
      "text/html": [
       "<div>\n",
       "<style scoped>\n",
       "    .dataframe tbody tr th:only-of-type {\n",
       "        vertical-align: middle;\n",
       "    }\n",
       "\n",
       "    .dataframe tbody tr th {\n",
       "        vertical-align: top;\n",
       "    }\n",
       "\n",
       "    .dataframe thead th {\n",
       "        text-align: right;\n",
       "    }\n",
       "</style>\n",
       "<table border=\"1\" class=\"dataframe\">\n",
       "  <thead>\n",
       "    <tr style=\"text-align: right;\">\n",
       "      <th></th>\n",
       "      <th>description</th>\n",
       "      <th>url</th>\n",
       "      <th>Iela</th>\n",
       "      <th>Ist.</th>\n",
       "      <th>m2</th>\n",
       "      <th>Stāvs</th>\n",
       "      <th>Sērija</th>\n",
       "      <th>Cena, m2</th>\n",
       "      <th>Cena</th>\n",
       "      <th>Floor</th>\n",
       "      <th>MaxFloor</th>\n",
       "    </tr>\n",
       "  </thead>\n",
       "  <tbody>\n",
       "    <tr>\n",
       "      <th>0</th>\n",
       "      <td>В самом сердце Риги продаётся квартира\\r\\n\\r\\n...</td>\n",
       "      <td>https://ss.com/msg/lv/real-estate/flats/riga/c...</td>\n",
       "      <td>Kalniņa 1</td>\n",
       "      <td>1</td>\n",
       "      <td>26</td>\n",
       "      <td>4/5</td>\n",
       "      <td>Renov.</td>\n",
       "      <td>3,038 €</td>\n",
       "      <td>79,000  €</td>\n",
       "      <td>4</td>\n",
       "      <td>5</td>\n",
       "    </tr>\n",
       "    <tr>\n",
       "      <th>1</th>\n",
       "      <td>Kрасивая квартира в самом центре Риги, по адре...</td>\n",
       "      <td>https://ss.com/msg/lv/real-estate/flats/riga/c...</td>\n",
       "      <td>Merķeļa 17</td>\n",
       "      <td>2</td>\n",
       "      <td>60</td>\n",
       "      <td>2/4</td>\n",
       "      <td>P. kara</td>\n",
       "      <td>2,667 €</td>\n",
       "      <td>160,000  €</td>\n",
       "      <td>2</td>\n",
       "      <td>4</td>\n",
       "    </tr>\n",
       "    <tr>\n",
       "      <th>2</th>\n",
       "      <td>Pārdodam elegantu 5 istabu dzīvokli pilsētas c...</td>\n",
       "      <td>https://ss.com/msg/lv/real-estate/flats/riga/c...</td>\n",
       "      <td>Marijas 16</td>\n",
       "      <td>5</td>\n",
       "      <td>172</td>\n",
       "      <td>1/7</td>\n",
       "      <td>P. kara</td>\n",
       "      <td>1,599 €</td>\n",
       "      <td>275,000  €</td>\n",
       "      <td>1</td>\n",
       "      <td>7</td>\n",
       "    </tr>\n",
       "    <tr>\n",
       "      <th>3</th>\n",
       "      <td>Gaumīgs, mēbelēts divstāvu dzīvoklis ar balkon...</td>\n",
       "      <td>https://ss.com/msg/lv/real-estate/flats/riga/c...</td>\n",
       "      <td>Pulkv. Brieža 7</td>\n",
       "      <td>3</td>\n",
       "      <td>104</td>\n",
       "      <td>6/7</td>\n",
       "      <td>Renov.</td>\n",
       "      <td>2,423 €</td>\n",
       "      <td>252,000  €</td>\n",
       "      <td>6</td>\n",
       "      <td>7</td>\n",
       "    </tr>\n",
       "    <tr>\n",
       "      <th>4</th>\n",
       "      <td>Īpašnieks pārdod dzīvokli ar pēlēko apdari jau...</td>\n",
       "      <td>https://ss.com/msg/lv/real-estate/flats/riga/c...</td>\n",
       "      <td>Kungu 25</td>\n",
       "      <td>1</td>\n",
       "      <td>24</td>\n",
       "      <td>5/6</td>\n",
       "      <td>Jaun.</td>\n",
       "      <td>2,083 €</td>\n",
       "      <td>49,990  €</td>\n",
       "      <td>5</td>\n",
       "      <td>6</td>\n",
       "    </tr>\n",
       "  </tbody>\n",
       "</table>\n",
       "</div>"
      ],
      "text/plain": [
       "                                         description  \\\n",
       "0  В самом сердце Риги продаётся квартира\\r\\n\\r\\n...   \n",
       "1  Kрасивая квартира в самом центре Риги, по адре...   \n",
       "2  Pārdodam elegantu 5 istabu dzīvokli pilsētas c...   \n",
       "3  Gaumīgs, mēbelēts divstāvu dzīvoklis ar balkon...   \n",
       "4  Īpašnieks pārdod dzīvokli ar pēlēko apdari jau...   \n",
       "\n",
       "                                                 url             Iela Ist.  \\\n",
       "0  https://ss.com/msg/lv/real-estate/flats/riga/c...        Kalniņa 1    1   \n",
       "1  https://ss.com/msg/lv/real-estate/flats/riga/c...       Merķeļa 17    2   \n",
       "2  https://ss.com/msg/lv/real-estate/flats/riga/c...       Marijas 16    5   \n",
       "3  https://ss.com/msg/lv/real-estate/flats/riga/c...  Pulkv. Brieža 7    3   \n",
       "4  https://ss.com/msg/lv/real-estate/flats/riga/c...         Kungu 25    1   \n",
       "\n",
       "    m2 Stāvs   Sērija Cena, m2        Cena Floor MaxFloor  \n",
       "0   26   4/5   Renov.  3,038 €   79,000  €     4        5  \n",
       "1   60   2/4  P. kara  2,667 €  160,000  €     2        4  \n",
       "2  172   1/7  P. kara  1,599 €  275,000  €     1        7  \n",
       "3  104   6/7   Renov.  2,423 €  252,000  €     6        7  \n",
       "4   24   5/6    Jaun.  2,083 €   49,990  €     5        6  "
      ]
     },
     "execution_count": 64,
     "metadata": {},
     "output_type": "execute_result"
    }
   ],
   "source": [
    "d[['Floor','MaxFloor']] = d.Stāvs.str.split(\"/\",expand=True) \n",
    "d.head()"
   ]
  },
  {
   "cell_type": "code",
   "execution_count": 66,
   "metadata": {},
   "outputs": [
    {
     "data": {
      "text/html": [
       "<div>\n",
       "<style scoped>\n",
       "    .dataframe tbody tr th:only-of-type {\n",
       "        vertical-align: middle;\n",
       "    }\n",
       "\n",
       "    .dataframe tbody tr th {\n",
       "        vertical-align: top;\n",
       "    }\n",
       "\n",
       "    .dataframe thead th {\n",
       "        text-align: right;\n",
       "    }\n",
       "</style>\n",
       "<table border=\"1\" class=\"dataframe\">\n",
       "  <thead>\n",
       "    <tr style=\"text-align: right;\">\n",
       "      <th></th>\n",
       "      <th>description</th>\n",
       "      <th>url</th>\n",
       "      <th>Iela</th>\n",
       "      <th>Ist.</th>\n",
       "      <th>m2</th>\n",
       "      <th>Stāvs</th>\n",
       "      <th>Sērija</th>\n",
       "      <th>Cena, m2</th>\n",
       "      <th>Cena</th>\n",
       "      <th>Floor</th>\n",
       "      <th>MaxFloor</th>\n",
       "    </tr>\n",
       "  </thead>\n",
       "  <tbody>\n",
       "    <tr>\n",
       "      <th>0</th>\n",
       "      <td>Piedāvājam iegādāties lielisku 2 istabu dzīvok...</td>\n",
       "      <td>https://ss.com/msg/lv/real-estate/flats/riga/c...</td>\n",
       "      <td>Klusā 18</td>\n",
       "      <td>2</td>\n",
       "      <td>35</td>\n",
       "      <td>9/9</td>\n",
       "      <td>Jaun.</td>\n",
       "      <td>1,629 €</td>\n",
       "      <td>57,000  €</td>\n",
       "      <td>9</td>\n",
       "      <td>9</td>\n",
       "    </tr>\n",
       "    <tr>\n",
       "      <th>27</th>\n",
       "      <td>Предлагаем арендопокупку. \\r\\n\\r\\nПросторная и...</td>\n",
       "      <td>https://ss.com/msg/lv/real-estate/flats/riga/c...</td>\n",
       "      <td>Brīvības 230</td>\n",
       "      <td>3</td>\n",
       "      <td>74</td>\n",
       "      <td>9/10</td>\n",
       "      <td>Jaun.</td>\n",
       "      <td>1,865 €</td>\n",
       "      <td>138,000  €</td>\n",
       "      <td>9</td>\n",
       "      <td>10</td>\n",
       "    </tr>\n",
       "    <tr>\n",
       "      <th>17</th>\n",
       "      <td>Kapitālais remonts, Specprojekts, 43 m² platīb...</td>\n",
       "      <td>https://ss.com/msg/lv/real-estate/flats/riga/c...</td>\n",
       "      <td>Brīvības 162/2</td>\n",
       "      <td>2</td>\n",
       "      <td>43</td>\n",
       "      <td>8/8</td>\n",
       "      <td>Specpr.</td>\n",
       "      <td>1,395 €</td>\n",
       "      <td>60,000  €</td>\n",
       "      <td>8</td>\n",
       "      <td>8</td>\n",
       "    </tr>\n",
       "    <tr>\n",
       "      <th>12</th>\n",
       "      <td>Мансарда с верандой на крыше\\r\\n\\r\\nУникальная...</td>\n",
       "      <td>https://ss.com/msg/lv/real-estate/flats/riga/c...</td>\n",
       "      <td>Pulkv. Brieža 13</td>\n",
       "      <td>2</td>\n",
       "      <td>100</td>\n",
       "      <td>7/7</td>\n",
       "      <td>Renov.</td>\n",
       "      <td>1,950 €</td>\n",
       "      <td>195,000  €</td>\n",
       "      <td>7</td>\n",
       "      <td>7</td>\n",
       "    </tr>\n",
       "    <tr>\n",
       "      <th>26</th>\n",
       "      <td>Plaša terase un balkons. Ar pilnu apdari, indi...</td>\n",
       "      <td>https://ss.com/msg/lv/real-estate/flats/riga/c...</td>\n",
       "      <td>Stabu 100</td>\n",
       "      <td>2</td>\n",
       "      <td>122</td>\n",
       "      <td>7/7</td>\n",
       "      <td>Jaun.</td>\n",
       "      <td>1,694 €</td>\n",
       "      <td>206,700  €</td>\n",
       "      <td>7</td>\n",
       "      <td>7</td>\n",
       "    </tr>\n",
       "  </tbody>\n",
       "</table>\n",
       "</div>"
      ],
      "text/plain": [
       "                                          description  \\\n",
       "0   Piedāvājam iegādāties lielisku 2 istabu dzīvok...   \n",
       "27  Предлагаем арендопокупку. \\r\\n\\r\\nПросторная и...   \n",
       "17  Kapitālais remonts, Specprojekts, 43 m² platīb...   \n",
       "12  Мансарда с верандой на крыше\\r\\n\\r\\nУникальная...   \n",
       "26  Plaša terase un balkons. Ar pilnu apdari, indi...   \n",
       "\n",
       "                                                  url              Iela Ist.  \\\n",
       "0   https://ss.com/msg/lv/real-estate/flats/riga/c...          Klusā 18    2   \n",
       "27  https://ss.com/msg/lv/real-estate/flats/riga/c...      Brīvības 230    3   \n",
       "17  https://ss.com/msg/lv/real-estate/flats/riga/c...    Brīvības 162/2    2   \n",
       "12  https://ss.com/msg/lv/real-estate/flats/riga/c...  Pulkv. Brieža 13    2   \n",
       "26  https://ss.com/msg/lv/real-estate/flats/riga/c...         Stabu 100    2   \n",
       "\n",
       "     m2 Stāvs   Sērija Cena, m2        Cena Floor MaxFloor  \n",
       "0    35   9/9    Jaun.  1,629 €   57,000  €     9        9  \n",
       "27   74  9/10    Jaun.  1,865 €  138,000  €     9       10  \n",
       "17   43   8/8  Specpr.  1,395 €   60,000  €     8        8  \n",
       "12  100   7/7   Renov.  1,950 €  195,000  €     7        7  \n",
       "26  122   7/7    Jaun.  1,694 €  206,700  €     7        7  "
      ]
     },
     "execution_count": 66,
     "metadata": {},
     "output_type": "execute_result"
    }
   ],
   "source": [
    "d.sort_values(by=\"Floor\",ascending=False).head()"
   ]
  },
  {
   "cell_type": "markdown",
   "metadata": {},
   "source": [
    "# TODO \n",
    "# Try with different starting address not only centrs\n",
    "## Maybe combine regions\n",
    "## See how it would work with maybe cars\n",
    "## Data engineering make new columns based on existing ones, clean some columns\n",
    "### Changing floors 2/6 to columns 2 and 6, clean up Euro signs\n",
    "## Sorting, Describing, Grouping by regions etc"
   ]
  }
 ],
 "metadata": {
  "kernelspec": {
   "display_name": "Python 3",
   "language": "python",
   "name": "python3"
  },
  "language_info": {
   "codemirror_mode": {
    "name": "ipython",
    "version": 3
   },
   "file_extension": ".py",
   "mimetype": "text/x-python",
   "name": "python",
   "nbconvert_exporter": "python",
   "pygments_lexer": "ipython3",
   "version": "3.8.3"
  }
 },
 "nbformat": 4,
 "nbformat_minor": 4
}
