{
 "cells": [
  {
   "cell_type": "code",
   "execution_count": 1,
   "metadata": {},
   "outputs": [],
   "source": [
    "# Requests for handling HTTP get and other requests\n",
    "import requests\n",
    "import time # import for playing nice and not getting blocked\n",
    "import pandas as pd\n",
    "# from BeautifulSoup4 import BeatifulSoup if installed through pip install BeautifulSoup4\n",
    "# \n",
    "from bs4 import BeautifulSoup"
   ]
  },
  {
   "cell_type": "code",
   "execution_count": null,
   "metadata": {},
   "outputs": [],
   "source": [
    "# if bs4 not found install it with\n",
    "#  !pip install beatifulsoup4\n",
    "# https://www.crummy.com/software/BeautifulSoup/"
   ]
  },
  {
   "cell_type": "code",
   "execution_count": 2,
   "metadata": {},
   "outputs": [],
   "source": [
    "centrs = \"https://www.ss.com/lv/real-estate/flats/riga/centre/sell/\""
   ]
  },
  {
   "cell_type": "code",
   "execution_count": 3,
   "metadata": {},
   "outputs": [
    {
     "data": {
      "text/plain": [
       "200"
      ]
     },
     "execution_count": 3,
     "metadata": {},
     "output_type": "execute_result"
    }
   ],
   "source": [
    "req = requests.get(centrs)\n",
    "req.status_code"
   ]
  },
  {
   "cell_type": "code",
   "execution_count": 4,
   "metadata": {},
   "outputs": [
    {
     "data": {
      "text/plain": [
       "'<!DOCTYPE html>\\r\\n<HTML><HEAD>\\r\\n<title>SS.COM Dzīvokļi - Rīga - Centrs, Cenas, Pārdod - Sludinājumi</title>\\r\\n<meta http-equiv=\"Content-Type\" CONTENT=\"text/html; charset=UTF-8\">\\r\\n<meta name=\"viewport\" c'"
      ]
     },
     "execution_count": 4,
     "metadata": {},
     "output_type": "execute_result"
    }
   ],
   "source": [
    "req.text[:200]"
   ]
  },
  {
   "cell_type": "code",
   "execution_count": 5,
   "metadata": {},
   "outputs": [
    {
     "data": {
      "text/plain": [
       "<title>SS.COM Dzīvokļi - Rīga - Centrs, Cenas, Pārdod - Sludinājumi</title>"
      ]
     },
     "execution_count": 5,
     "metadata": {},
     "output_type": "execute_result"
    }
   ],
   "source": [
    "soup = BeautifulSoup(req.text, 'lxml') # lxml is improved parser, a little bit more lenient\n",
    "soup.title"
   ]
  },
  {
   "cell_type": "code",
   "execution_count": 6,
   "metadata": {},
   "outputs": [
    {
     "data": {
      "text/plain": [
       "bs4.BeautifulSoup"
      ]
     },
     "execution_count": 6,
     "metadata": {},
     "output_type": "execute_result"
    }
   ],
   "source": [
    "type(soup)"
   ]
  },
  {
   "cell_type": "code",
   "execution_count": 7,
   "metadata": {},
   "outputs": [
    {
     "data": {
      "text/plain": [
       "7"
      ]
     },
     "execution_count": 7,
     "metadata": {},
     "output_type": "execute_result"
    }
   ],
   "source": [
    "# https://www.crummy.com/software/BeautifulSoup/bs4/doc/#find-all\n",
    "tables = soup.find_all(\"table\")\n",
    "len(tables) "
   ]
  },
  {
   "cell_type": "code",
   "execution_count": 8,
   "metadata": {},
   "outputs": [
    {
     "data": {
      "text/plain": [
       "<tr id=\"head_line\">\n",
       "<td class=\"msg_column\" colspan=\"3\" width=\"70%\">\n",
       "<span style=\"float:left;\"> Sludinājumi\n",
       "</span>\n",
       "<span align=\"right\" class=\"msg_column\" style=\"float:right;text-align:right;padding-right:3px;\">\n",
       "<noindex>\n",
       "<a class=\"a19\" href=\"/lv/real-estate/flats/riga/centre/sell/fDgSeF4S.html\" rel=\"nofollow\">datums</a></noindex></span>\n",
       "</td>\n",
       "<td class=\"msg_column_td\" nowrap=\"\"><noindex><a class=\"a18\" href=\"/lv/real-estate/flats/riga/centre/sell/fDgSeF4SFDwT.html\" rel=\"nofollow\" title=\"\">Iela</a></noindex></td><td class=\"msg_column_td\" nowrap=\"\"><noindex><a class=\"a18\" href=\"/lv/real-estate/flats/riga/centre/sell/fDgSeF4SelM=.html\" rel=\"nofollow\" title=\"\">Ist.</a></noindex></td><td class=\"msg_column_td\" nowrap=\"\"><noindex><a class=\"a18\" href=\"/lv/real-estate/flats/riga/centre/sell/fDgSeF4QelM=.html\" rel=\"nofollow\" title=\"\">m2</a></noindex></td><td class=\"msg_column_td\" nowrap=\"\"><noindex><a class=\"a18\" href=\"/lv/real-estate/flats/riga/centre/sell/fDgSeF4XelM=.html\" rel=\"nofollow\" title=\"\">Stāvs</a></noindex></td><td class=\"msg_column_td\" nowrap=\"\"><noindex><a class=\"a18\" href=\"/lv/real-estate/flats/riga/centre/sell/fDgSeF4VelM=.html\" rel=\"nofollow\" title=\"\">Sērija</a></noindex></td><td background=\"https://i.ss.com/img/pl.gif\" class=\"msg_column\" nowrap=\"\" style=\"border-left:1px #FFFFFF solid;\"><noindex><a class=\"a18\" href=\"/lv/real-estate/flats/riga/centre/sell/fDgSeF4bRDwT.html\" rel=\"nofollow\">Cena, m2</a></noindex></td><td class=\"msg_column_td\" nowrap=\"\"><noindex><a class=\"a18\" href=\"/lv/real-estate/flats/riga/centre/sell/fDgSeF4belM=.html\" rel=\"nofollow\" title=\"\">Cena</a></noindex></td></tr>"
      ]
     },
     "execution_count": 8,
     "metadata": {},
     "output_type": "execute_result"
    }
   ],
   "source": [
    "\n",
    "headline = soup.find(\"tr\", {\"id\":\"head_line\"}) # this is a shorter way of finding by tr AND this element having particular id\n",
    "headline"
   ]
  },
  {
   "cell_type": "code",
   "execution_count": 9,
   "metadata": {},
   "outputs": [
    {
     "data": {
      "text/plain": [
       "bs4.element.Tag"
      ]
     },
     "execution_count": 9,
     "metadata": {},
     "output_type": "execute_result"
    }
   ],
   "source": [
    "type(headline)"
   ]
  },
  {
   "cell_type": "code",
   "execution_count": 10,
   "metadata": {},
   "outputs": [
    {
     "data": {
      "text/plain": [
       "[<td class=\"msg_column\" colspan=\"3\" width=\"70%\">\n",
       " <span style=\"float:left;\"> Sludinājumi\n",
       " </span>\n",
       " <span align=\"right\" class=\"msg_column\" style=\"float:right;text-align:right;padding-right:3px;\">\n",
       " <noindex>\n",
       " <a class=\"a19\" href=\"/lv/real-estate/flats/riga/centre/sell/fDgSeF4S.html\" rel=\"nofollow\">datums</a></noindex></span>\n",
       " </td>,\n",
       " <td class=\"msg_column_td\" nowrap=\"\"><noindex><a class=\"a18\" href=\"/lv/real-estate/flats/riga/centre/sell/fDgSeF4SFDwT.html\" rel=\"nofollow\" title=\"\">Iela</a></noindex></td>,\n",
       " <td class=\"msg_column_td\" nowrap=\"\"><noindex><a class=\"a18\" href=\"/lv/real-estate/flats/riga/centre/sell/fDgSeF4SelM=.html\" rel=\"nofollow\" title=\"\">Ist.</a></noindex></td>,\n",
       " <td class=\"msg_column_td\" nowrap=\"\"><noindex><a class=\"a18\" href=\"/lv/real-estate/flats/riga/centre/sell/fDgSeF4QelM=.html\" rel=\"nofollow\" title=\"\">m2</a></noindex></td>,\n",
       " <td class=\"msg_column_td\" nowrap=\"\"><noindex><a class=\"a18\" href=\"/lv/real-estate/flats/riga/centre/sell/fDgSeF4XelM=.html\" rel=\"nofollow\" title=\"\">Stāvs</a></noindex></td>,\n",
       " <td class=\"msg_column_td\" nowrap=\"\"><noindex><a class=\"a18\" href=\"/lv/real-estate/flats/riga/centre/sell/fDgSeF4VelM=.html\" rel=\"nofollow\" title=\"\">Sērija</a></noindex></td>,\n",
       " <td background=\"https://i.ss.com/img/pl.gif\" class=\"msg_column\" nowrap=\"\" style=\"border-left:1px #FFFFFF solid;\"><noindex><a class=\"a18\" href=\"/lv/real-estate/flats/riga/centre/sell/fDgSeF4bRDwT.html\" rel=\"nofollow\">Cena, m2</a></noindex></td>,\n",
       " <td class=\"msg_column_td\" nowrap=\"\"><noindex><a class=\"a18\" href=\"/lv/real-estate/flats/riga/centre/sell/fDgSeF4belM=.html\" rel=\"nofollow\" title=\"\">Cena</a></noindex></td>]"
      ]
     },
     "execution_count": 10,
     "metadata": {},
     "output_type": "execute_result"
    }
   ],
   "source": [
    "headtds = headline.find_all(\"td\")\n",
    "# https://developer.mozilla.org/en-US/docs/Web/HTML/Element/td\n",
    "headtds"
   ]
  },
  {
   "cell_type": "code",
   "execution_count": 11,
   "metadata": {},
   "outputs": [
    {
     "data": {
      "text/plain": [
       "['Iela', 'Ist.', 'm2', 'Stāvs', 'Sērija', 'Cena, m2', 'Cena']"
      ]
     },
     "execution_count": 11,
     "metadata": {},
     "output_type": "execute_result"
    }
   ],
   "source": [
    "headcolumns = [el.text for el in headtds[1:]] #.text gets us content even from children and grandchildren\n",
    "headcolumns"
   ]
  },
  {
   "cell_type": "code",
   "execution_count": 12,
   "metadata": {},
   "outputs": [],
   "source": [
    "# lets combine the above cells into a function which will always get us columns\n",
    "def getColList(soup):\n",
    "    column_list = [\"description\",\"url\"] # we decided to that we need these two column names no matter the html\n",
    "    headline = soup.find(\"tr\", {\"id\":\"head_line\"})\n",
    "    headtds = headline.find_all(\"td\")\n",
    "    headcolumns = [el.text for el in headtds[1:]] # this will get all column names starting with 2nd in HTML\n",
    "    column_list += headcolumns\n",
    "    return column_list"
   ]
  },
  {
   "cell_type": "code",
   "execution_count": 13,
   "metadata": {},
   "outputs": [
    {
     "data": {
      "text/plain": [
       "['description',\n",
       " 'url',\n",
       " 'Iela',\n",
       " 'Ist.',\n",
       " 'm2',\n",
       " 'Stāvs',\n",
       " 'Sērija',\n",
       " 'Cena, m2',\n",
       " 'Cena']"
      ]
     },
     "execution_count": 13,
     "metadata": {},
     "output_type": "execute_result"
    }
   ],
   "source": [
    "column_names = getColList(soup)\n",
    "column_names"
   ]
  },
  {
   "cell_type": "code",
   "execution_count": 14,
   "metadata": {},
   "outputs": [
    {
     "data": {
      "text/plain": [
       "39"
      ]
     },
     "execution_count": 14,
     "metadata": {},
     "output_type": "execute_result"
    }
   ],
   "source": [
    "trows = soup.find_all('tr')\n",
    "len(trows)\n"
   ]
  },
  {
   "cell_type": "code",
   "execution_count": 15,
   "metadata": {},
   "outputs": [
    {
     "data": {
      "text/plain": [
       "30"
      ]
     },
     "execution_count": 15,
     "metadata": {},
     "output_type": "execute_result"
    }
   ],
   "source": [
    "# hardest part in this \n",
    "# how to filter only specific rows\n",
    "# we need to find something that is unique to our apartment rows but not to the extra rows\n",
    "# remember we id is not guaranteed\n",
    "apt_rows = [row for row in trows if row.get('id',\"\").startswith(\"tr_\") and not row.get('id',\"\").startswith(\"tr_bnr\") ]\n",
    "len(apt_rows)"
   ]
  },
  {
   "cell_type": "code",
   "execution_count": 16,
   "metadata": {},
   "outputs": [
    {
     "data": {
      "text/plain": [
       "<tr id=\"tr_48605282\"><td class=\"msga2 pp0\"><input id=\"c48605282\" name=\"mid[]\" type=\"checkbox\" value=\"48605282_1106_0\"/></td><td class=\"msga2\"><a href=\"/msg/lv/real-estate/flats/riga/centre/ghepd.html\" id=\"im48605282\"><img alt=\"\" class=\"isfoto foto_list\" src=\"https://i.ss.com/gallery/4/714/178373/35674410.th2.jpg\"/></a></td><td class=\"msg2\"><div class=\"d1\"><a class=\"am\" data=\"eHVlJTk5JTg5JUNFJTdFJTdDJUE0JUExeXphJTlBJThCJThCJTdGeiVBOSVBNHM=|BB1aURMGtp\" href=\"/msg/lv/real-estate/flats/riga/centre/ghepd.html\" id=\"dm_48605282\">Предлагается к продаже просторная, светлая квартира в посольском</a></div></td><td c=\"1\" class=\"msga2-o pp6\" nowrap=\"\">Rūpniecības 7</td><td c=\"1\" class=\"msga2-o pp6\" nowrap=\"\">4</td><td c=\"1\" class=\"msga2-o pp6\" nowrap=\"\">110</td><td c=\"1\" class=\"msga2-o pp6\" nowrap=\"\">4/5</td><td c=\"1\" class=\"msga2-o pp6\" nowrap=\"\">Jaun.</td><td c=\"1\" class=\"msga2-o pp6\" nowrap=\"\">2,909 €</td><td c=\"1\" class=\"msga2-o pp6\" nowrap=\"\">320,000  €</td></tr>"
      ]
     },
     "execution_count": 16,
     "metadata": {},
     "output_type": "execute_result"
    }
   ],
   "source": [
    "apt_rows[-1]"
   ]
  },
  {
   "cell_type": "code",
   "execution_count": 17,
   "metadata": {},
   "outputs": [],
   "source": [
    "# lets make a function from the above doodle and make it work on most pages on SS\n",
    "def getRowList(soup):\n",
    "    trows = soup.find_all('tr')\n",
    "    aprows = [row for row in trows if row.get('id',\"\").startswith(\"tr_\") and not row.get('id',\"\").startswith(\"tr_bnr\") ]\n",
    "    return aprows"
   ]
  },
  {
   "cell_type": "code",
   "execution_count": 18,
   "metadata": {},
   "outputs": [
    {
     "data": {
      "text/plain": [
       "10"
      ]
     },
     "execution_count": 18,
     "metadata": {},
     "output_type": "execute_result"
    }
   ],
   "source": [
    "row_tds = apt_rows[0].find_all('td')\n",
    "len(row_tds)"
   ]
  },
  {
   "cell_type": "code",
   "execution_count": 20,
   "metadata": {},
   "outputs": [
    {
     "data": {
      "text/plain": [
       "[<td class=\"msga2 pp0\"><input id=\"c48092224\" name=\"mid[]\" type=\"checkbox\" value=\"48092224_1106_0\"/></td>,\n",
       " <td class=\"msga2\"><a href=\"/msg/lv/real-estate/flats/riga/centre/dnbbh.html\" id=\"im48092224\"><img alt=\"\" class=\"isfoto foto_list\" src=\"https://i.ss.com/gallery/4/690/172288/34457411.th2.jpg\"/></a></td>,\n",
       " <td class=\"msg2\"><div class=\"d1\"><a class=\"am\" data=\"ciU5QWhmJTdDJUJGJTdFaHN5JTk3Z2t0eSU4Mmt2cSU5Nmo=|Af55CCM3A\" href=\"/msg/lv/real-estate/flats/riga/centre/dnbbh.html\" id=\"dm_48092224\">Pārplanots un izremontēts 3.istabu dzīvoklis ķieģeļu stīprā iekš</a></div></td>,\n",
       " <td c=\"1\" class=\"msga2-o pp6\" nowrap=\"\">Pērnavas 39</td>,\n",
       " <td c=\"1\" class=\"msga2-o pp6\" nowrap=\"\">3</td>,\n",
       " <td c=\"1\" class=\"msga2-o pp6\" nowrap=\"\">64</td>,\n",
       " <td c=\"1\" class=\"msga2-o pp6\" nowrap=\"\">2/6</td>,\n",
       " <td c=\"1\" class=\"msga2-o pp6\" nowrap=\"\">P. kara</td>,\n",
       " <td c=\"1\" class=\"msga2-o pp6\" nowrap=\"\">1,406 €</td>,\n",
       " <td c=\"1\" class=\"msga2-o pp6\" nowrap=\"\">90,000  €</td>]"
      ]
     },
     "execution_count": 20,
     "metadata": {},
     "output_type": "execute_result"
    }
   ],
   "source": [
    "row_tds"
   ]
  },
  {
   "cell_type": "code",
   "execution_count": 21,
   "metadata": {},
   "outputs": [
    {
     "data": {
      "text/plain": [
       "''"
      ]
     },
     "execution_count": 21,
     "metadata": {},
     "output_type": "execute_result"
    }
   ],
   "source": [
    "row_tds[0].text"
   ]
  },
  {
   "cell_type": "code",
   "execution_count": 19,
   "metadata": {},
   "outputs": [
    {
     "data": {
      "text/plain": [
       "''"
      ]
     },
     "execution_count": 19,
     "metadata": {},
     "output_type": "execute_result"
    }
   ],
   "source": [
    "row_tds[1].text"
   ]
  },
  {
   "cell_type": "code",
   "execution_count": 22,
   "metadata": {},
   "outputs": [
    {
     "data": {
      "text/plain": [
       "{'class': ['msga2']}"
      ]
     },
     "execution_count": 22,
     "metadata": {},
     "output_type": "execute_result"
    }
   ],
   "source": [
    "row_tds[1].attrs"
   ]
  },
  {
   "cell_type": "code",
   "execution_count": 23,
   "metadata": {},
   "outputs": [
    {
     "data": {
      "text/plain": [
       "<img alt=\"\" class=\"isfoto foto_list\" src=\"https://i.ss.com/gallery/4/690/172288/34457411.th2.jpg\"/>"
      ]
     },
     "execution_count": 23,
     "metadata": {},
     "output_type": "execute_result"
    }
   ],
   "source": [
    "img = row_tds[1].find(\"img\")\n",
    "img"
   ]
  },
  {
   "cell_type": "code",
   "execution_count": 24,
   "metadata": {},
   "outputs": [
    {
     "data": {
      "text/plain": [
       "'https://i.ss.com/gallery/4/690/172288/34457411.th2.jpg'"
      ]
     },
     "execution_count": 24,
     "metadata": {},
     "output_type": "execute_result"
    }
   ],
   "source": [
    "img.get(\"src\")"
   ]
  },
  {
   "cell_type": "code",
   "execution_count": 25,
   "metadata": {},
   "outputs": [
    {
     "data": {
      "text/plain": [
       "'Pārplanots un izremontēts 3.istabu dzīvoklis ķieģeļu stīprā iekš'"
      ]
     },
     "execution_count": 25,
     "metadata": {},
     "output_type": "execute_result"
    }
   ],
   "source": [
    "row_tds[2].text"
   ]
  },
  {
   "cell_type": "code",
   "execution_count": 26,
   "metadata": {},
   "outputs": [
    {
     "data": {
      "text/plain": [
       "'90,000  €'"
      ]
     },
     "execution_count": 26,
     "metadata": {},
     "output_type": "execute_result"
    }
   ],
   "source": [
    "row_tds[-1].text"
   ]
  },
  {
   "cell_type": "code",
   "execution_count": 27,
   "metadata": {},
   "outputs": [
    {
     "data": {
      "text/plain": [
       "<a href=\"/msg/lv/real-estate/flats/riga/centre/dnbbh.html\" id=\"im48092224\"><img alt=\"\" class=\"isfoto foto_list\" src=\"https://i.ss.com/gallery/4/690/172288/34457411.th2.jpg\"/></a>"
      ]
     },
     "execution_count": 27,
     "metadata": {},
     "output_type": "execute_result"
    }
   ],
   "source": [
    "a = row_tds[1].find('a')\n",
    "a"
   ]
  },
  {
   "cell_type": "code",
   "execution_count": 28,
   "metadata": {},
   "outputs": [
    {
     "data": {
      "text/plain": [
       "{'href': '/msg/lv/real-estate/flats/riga/centre/dnbbh.html',\n",
       " 'id': 'im48092224'}"
      ]
     },
     "execution_count": 28,
     "metadata": {},
     "output_type": "execute_result"
    }
   ],
   "source": [
    "a.attrs"
   ]
  },
  {
   "cell_type": "code",
   "execution_count": 29,
   "metadata": {},
   "outputs": [
    {
     "data": {
      "text/plain": [
       "'/msg/lv/real-estate/flats/riga/centre/dnbbh.html'"
      ]
     },
     "execution_count": 29,
     "metadata": {},
     "output_type": "execute_result"
    }
   ],
   "source": [
    "a.get('href')"
   ]
  },
  {
   "cell_type": "code",
   "execution_count": 30,
   "metadata": {},
   "outputs": [],
   "source": [
    "def getRow(row,colist=column_names):\n",
    "    row_tds = row.find_all('td')\n",
    "    rowDict = {}\n",
    "    if len(row_tds) <3: # a little sanity check\n",
    "        print(\"Hmm bad row\")\n",
    "        return rowDict\n",
    "    \n",
    "    rowDict[colist[0]] = row_tds[2].text # so the big assumption is that we always get description in 3rd column\n",
    "    rowDict[colist[1]] = \"https://ss.com\" + row_tds[1].find('a').get('href')\n",
    "    for td,key in zip(row_tds[3:],colist[2:]): \n",
    "        rowDict[key] = td.text\n",
    "    return rowDict"
   ]
  },
  {
   "cell_type": "code",
   "execution_count": 31,
   "metadata": {},
   "outputs": [
    {
     "data": {
      "text/plain": [
       "{'description': 'Pārplanots un izremontēts 3.istabu dzīvoklis ķieģeļu stīprā iekš',\n",
       " 'url': 'https://ss.com/msg/lv/real-estate/flats/riga/centre/dnbbh.html',\n",
       " 'Iela': 'Pērnavas 39',\n",
       " 'Ist.': '3',\n",
       " 'm2': '64',\n",
       " 'Stāvs': '2/6',\n",
       " 'Sērija': 'P. kara',\n",
       " 'Cena, m2': '1,406 €',\n",
       " 'Cena': '90,000  €'}"
      ]
     },
     "execution_count": 31,
     "metadata": {},
     "output_type": "execute_result"
    }
   ],
   "source": [
    "getRow(apt_rows[0])"
   ]
  },
  {
   "cell_type": "code",
   "execution_count": 32,
   "metadata": {},
   "outputs": [],
   "source": [
    "def getRows(rowlist,colist=column_names):\n",
    "    return [getRow(row) for row in rowlist]\n"
   ]
  },
  {
   "cell_type": "code",
   "execution_count": 33,
   "metadata": {},
   "outputs": [
    {
     "data": {
      "text/plain": [
       "[{'description': 'Сниженная цена. Тихий дом, памятник архитектуры, в ближайшее вре',\n",
       "  'url': 'https://ss.com/msg/lv/real-estate/flats/riga/centre/gkbpx.html',\n",
       "  'Iela': 'Antonijas 15',\n",
       "  'Ist.': '2',\n",
       "  'm2': '39',\n",
       "  'Stāvs': '5/5',\n",
       "  'Sērija': 'P. kara',\n",
       "  'Cena, m2': '2,307 €',\n",
       "  'Cena': '89,990  €'},\n",
       " {'description': 'Pārdod modernu 3 istabu dzīvokli jaunā dzīvojamo māju kvartālā P',\n",
       "  'url': 'https://ss.com/msg/lv/real-estate/flats/riga/centre/bexxic.html',\n",
       "  'Iela': 'Pulkv. Brieža 35',\n",
       "  'Ist.': '3',\n",
       "  'm2': '73',\n",
       "  'Stāvs': '4/7',\n",
       "  'Sērija': 'Jaun.',\n",
       "  'Cena, m2': '2,425 €',\n",
       "  'Cena': '177,000  €'},\n",
       " {'description': 'Предлагается к продаже просторная, светлая квартира в посольском',\n",
       "  'url': 'https://ss.com/msg/lv/real-estate/flats/riga/centre/ghepd.html',\n",
       "  'Iela': 'Rūpniecības 7',\n",
       "  'Ist.': '4',\n",
       "  'm2': '110',\n",
       "  'Stāvs': '4/5',\n",
       "  'Sērija': 'Jaun.',\n",
       "  'Cena, m2': '2,909 €',\n",
       "  'Cena': '320,000  €'}]"
      ]
     },
     "execution_count": 33,
     "metadata": {},
     "output_type": "execute_result"
    }
   ],
   "source": [
    "row_ads = getRows(apt_rows)\n",
    "row_ads[-3:]"
   ]
  },
  {
   "cell_type": "code",
   "execution_count": 34,
   "metadata": {},
   "outputs": [
    {
     "data": {
      "text/plain": [
       "(30, 9)"
      ]
     },
     "execution_count": 34,
     "metadata": {},
     "output_type": "execute_result"
    }
   ],
   "source": [
    "dtemp = pd.DataFrame(row_ads, columns=column_names)\n",
    "dtemp.shape"
   ]
  },
  {
   "cell_type": "code",
   "execution_count": 35,
   "metadata": {},
   "outputs": [
    {
     "data": {
      "text/html": [
       "<div>\n",
       "<style scoped>\n",
       "    .dataframe tbody tr th:only-of-type {\n",
       "        vertical-align: middle;\n",
       "    }\n",
       "\n",
       "    .dataframe tbody tr th {\n",
       "        vertical-align: top;\n",
       "    }\n",
       "\n",
       "    .dataframe thead th {\n",
       "        text-align: right;\n",
       "    }\n",
       "</style>\n",
       "<table border=\"1\" class=\"dataframe\">\n",
       "  <thead>\n",
       "    <tr style=\"text-align: right;\">\n",
       "      <th></th>\n",
       "      <th>description</th>\n",
       "      <th>url</th>\n",
       "      <th>Iela</th>\n",
       "      <th>Ist.</th>\n",
       "      <th>m2</th>\n",
       "      <th>Stāvs</th>\n",
       "      <th>Sērija</th>\n",
       "      <th>Cena, m2</th>\n",
       "      <th>Cena</th>\n",
       "    </tr>\n",
       "  </thead>\n",
       "  <tbody>\n",
       "    <tr>\n",
       "      <th>0</th>\n",
       "      <td>Pārplanots un izremontēts 3.istabu dzīvoklis ķ...</td>\n",
       "      <td>https://ss.com/msg/lv/real-estate/flats/riga/c...</td>\n",
       "      <td>Pērnavas 39</td>\n",
       "      <td>3</td>\n",
       "      <td>64</td>\n",
       "      <td>2/6</td>\n",
       "      <td>P. kara</td>\n",
       "      <td>1,406 €</td>\n",
       "      <td>90,000  €</td>\n",
       "    </tr>\n",
       "    <tr>\n",
       "      <th>1</th>\n",
       "      <td>Skaists divlīmeņu Town House dzīvoklis \"Grīziņ...</td>\n",
       "      <td>https://ss.com/msg/lv/real-estate/flats/riga/c...</td>\n",
       "      <td>Asara 12</td>\n",
       "      <td>4</td>\n",
       "      <td>142</td>\n",
       "      <td>1/2</td>\n",
       "      <td>Renov.</td>\n",
       "      <td>1,620 €</td>\n",
       "      <td>230,000  €</td>\n",
       "    </tr>\n",
       "    <tr>\n",
       "      <th>2</th>\n",
       "      <td>Skaists divlīmeņu Town House dzīvoklis \"Grīziņ...</td>\n",
       "      <td>https://ss.com/msg/lv/real-estate/flats/riga/c...</td>\n",
       "      <td>Asara 12</td>\n",
       "      <td>4</td>\n",
       "      <td>134</td>\n",
       "      <td>1/2</td>\n",
       "      <td>Renov.</td>\n",
       "      <td>1,493 €</td>\n",
       "      <td>200,000  €</td>\n",
       "    </tr>\n",
       "    <tr>\n",
       "      <th>3</th>\n",
       "      <td>Продаем квартиру в доме 1955 года на на улице ...</td>\n",
       "      <td>https://ss.com/msg/lv/real-estate/flats/riga/c...</td>\n",
       "      <td>Puškina 19</td>\n",
       "      <td>3</td>\n",
       "      <td>110</td>\n",
       "      <td>2/6</td>\n",
       "      <td>Staļina</td>\n",
       "      <td>1,000 €</td>\n",
       "      <td>110,000  €</td>\n",
       "    </tr>\n",
       "    <tr>\n",
       "      <th>4</th>\n",
       "      <td>Mājīgs, vienistabas dzīvoklis specprojekta pie...</td>\n",
       "      <td>https://ss.com/msg/lv/real-estate/flats/riga/c...</td>\n",
       "      <td>Indrānu 2</td>\n",
       "      <td>1</td>\n",
       "      <td>33</td>\n",
       "      <td>5/5</td>\n",
       "      <td>Specpr.</td>\n",
       "      <td>1,270 €</td>\n",
       "      <td>41,900  €</td>\n",
       "    </tr>\n",
       "  </tbody>\n",
       "</table>\n",
       "</div>"
      ],
      "text/plain": [
       "                                         description  \\\n",
       "0  Pārplanots un izremontēts 3.istabu dzīvoklis ķ...   \n",
       "1  Skaists divlīmeņu Town House dzīvoklis \"Grīziņ...   \n",
       "2  Skaists divlīmeņu Town House dzīvoklis \"Grīziņ...   \n",
       "3  Продаем квартиру в доме 1955 года на на улице ...   \n",
       "4  Mājīgs, vienistabas dzīvoklis specprojekta pie...   \n",
       "\n",
       "                                                 url         Iela Ist.   m2  \\\n",
       "0  https://ss.com/msg/lv/real-estate/flats/riga/c...  Pērnavas 39    3   64   \n",
       "1  https://ss.com/msg/lv/real-estate/flats/riga/c...     Asara 12    4  142   \n",
       "2  https://ss.com/msg/lv/real-estate/flats/riga/c...     Asara 12    4  134   \n",
       "3  https://ss.com/msg/lv/real-estate/flats/riga/c...   Puškina 19    3  110   \n",
       "4  https://ss.com/msg/lv/real-estate/flats/riga/c...    Indrānu 2    1   33   \n",
       "\n",
       "  Stāvs   Sērija Cena, m2        Cena  \n",
       "0   2/6  P. kara  1,406 €   90,000  €  \n",
       "1   1/2   Renov.  1,620 €  230,000  €  \n",
       "2   1/2   Renov.  1,493 €  200,000  €  \n",
       "3   2/6  Staļina  1,000 €  110,000  €  \n",
       "4   5/5  Specpr.  1,270 €   41,900  €  "
      ]
     },
     "execution_count": 35,
     "metadata": {},
     "output_type": "execute_result"
    }
   ],
   "source": [
    "dtemp.head()"
   ]
  },
  {
   "cell_type": "code",
   "execution_count": 36,
   "metadata": {},
   "outputs": [],
   "source": [
    "def getDFfromURL(url):\n",
    "    # print(\"getting data from\", url)\n",
    "    req = requests.get(url)\n",
    "    if req.status_code != 200:\n",
    "        print(\"Request Fail with\", req.status_code)\n",
    "        return None # maybe return empty dataframe here\n",
    "    soup = BeautifulSoup(req.text, 'lxml')\n",
    "    column_names = getColList(soup)\n",
    "    rowlist = getRowList(soup)\n",
    "    rows = getRows(rowlist)\n",
    "    return pd.DataFrame(rows, columns=column_names)\n",
    "    "
   ]
  },
  {
   "cell_type": "code",
   "execution_count": 37,
   "metadata": {},
   "outputs": [],
   "source": [
    "df = getDFfromURL(centrs)"
   ]
  },
  {
   "cell_type": "code",
   "execution_count": 38,
   "metadata": {},
   "outputs": [
    {
     "data": {
      "text/plain": [
       "(30, 9)"
      ]
     },
     "execution_count": 38,
     "metadata": {},
     "output_type": "execute_result"
    }
   ],
   "source": [
    "df.shape"
   ]
  },
  {
   "cell_type": "code",
   "execution_count": 39,
   "metadata": {},
   "outputs": [
    {
     "data": {
      "text/html": [
       "<div>\n",
       "<style scoped>\n",
       "    .dataframe tbody tr th:only-of-type {\n",
       "        vertical-align: middle;\n",
       "    }\n",
       "\n",
       "    .dataframe tbody tr th {\n",
       "        vertical-align: top;\n",
       "    }\n",
       "\n",
       "    .dataframe thead th {\n",
       "        text-align: right;\n",
       "    }\n",
       "</style>\n",
       "<table border=\"1\" class=\"dataframe\">\n",
       "  <thead>\n",
       "    <tr style=\"text-align: right;\">\n",
       "      <th></th>\n",
       "      <th>description</th>\n",
       "      <th>url</th>\n",
       "      <th>Iela</th>\n",
       "      <th>Ist.</th>\n",
       "      <th>m2</th>\n",
       "      <th>Stāvs</th>\n",
       "      <th>Sērija</th>\n",
       "      <th>Cena, m2</th>\n",
       "      <th>Cena</th>\n",
       "    </tr>\n",
       "  </thead>\n",
       "  <tbody>\n",
       "    <tr>\n",
       "      <th>0</th>\n",
       "      <td>Virtuve iekļauta cenā \\r\\n\\r\\nTikko pēc remont...</td>\n",
       "      <td>https://ss.com/msg/lv/real-estate/flats/riga/c...</td>\n",
       "      <td>Ģertrūdes 99</td>\n",
       "      <td>2</td>\n",
       "      <td>43</td>\n",
       "      <td>3/6</td>\n",
       "      <td>Renov.</td>\n",
       "      <td>2,034 €</td>\n",
       "      <td>87,450  €</td>\n",
       "    </tr>\n",
       "    <tr>\n",
       "      <th>1</th>\n",
       "      <td>Liels vienistabas dzīvoklis, ko var pārbūvēt p...</td>\n",
       "      <td>https://ss.com/msg/lv/real-estate/flats/riga/c...</td>\n",
       "      <td>Tomsona 19</td>\n",
       "      <td>1</td>\n",
       "      <td>40</td>\n",
       "      <td>1/5</td>\n",
       "      <td>Hrušč.</td>\n",
       "      <td>1,100 €</td>\n",
       "      <td>44,000  €</td>\n",
       "    </tr>\n",
       "    <tr>\n",
       "      <th>2</th>\n",
       "      <td>Pārplanots un izremontēts 3.istabu dzīvoklis ķ...</td>\n",
       "      <td>https://ss.com/msg/lv/real-estate/flats/riga/c...</td>\n",
       "      <td>Pērnavas 39</td>\n",
       "      <td>3</td>\n",
       "      <td>64</td>\n",
       "      <td>2/6</td>\n",
       "      <td>P. kara</td>\n",
       "      <td>1,406 €</td>\n",
       "      <td>90,000  €</td>\n",
       "    </tr>\n",
       "    <tr>\n",
       "      <th>3</th>\n",
       "      <td>Skaists divlīmeņu Town House dzīvoklis \"Grīziņ...</td>\n",
       "      <td>https://ss.com/msg/lv/real-estate/flats/riga/c...</td>\n",
       "      <td>Asara 12</td>\n",
       "      <td>4</td>\n",
       "      <td>142</td>\n",
       "      <td>1/2</td>\n",
       "      <td>Renov.</td>\n",
       "      <td>1,620 €</td>\n",
       "      <td>230,000  €</td>\n",
       "    </tr>\n",
       "    <tr>\n",
       "      <th>4</th>\n",
       "      <td>Skaists divlīmeņu Town House dzīvoklis \"Grīziņ...</td>\n",
       "      <td>https://ss.com/msg/lv/real-estate/flats/riga/c...</td>\n",
       "      <td>Asara 12</td>\n",
       "      <td>4</td>\n",
       "      <td>134</td>\n",
       "      <td>1/2</td>\n",
       "      <td>Renov.</td>\n",
       "      <td>1,493 €</td>\n",
       "      <td>200,000  €</td>\n",
       "    </tr>\n",
       "  </tbody>\n",
       "</table>\n",
       "</div>"
      ],
      "text/plain": [
       "                                         description  \\\n",
       "0  Virtuve iekļauta cenā \\r\\n\\r\\nTikko pēc remont...   \n",
       "1  Liels vienistabas dzīvoklis, ko var pārbūvēt p...   \n",
       "2  Pārplanots un izremontēts 3.istabu dzīvoklis ķ...   \n",
       "3  Skaists divlīmeņu Town House dzīvoklis \"Grīziņ...   \n",
       "4  Skaists divlīmeņu Town House dzīvoklis \"Grīziņ...   \n",
       "\n",
       "                                                 url          Iela Ist.   m2  \\\n",
       "0  https://ss.com/msg/lv/real-estate/flats/riga/c...  Ģertrūdes 99    2   43   \n",
       "1  https://ss.com/msg/lv/real-estate/flats/riga/c...    Tomsona 19    1   40   \n",
       "2  https://ss.com/msg/lv/real-estate/flats/riga/c...   Pērnavas 39    3   64   \n",
       "3  https://ss.com/msg/lv/real-estate/flats/riga/c...      Asara 12    4  142   \n",
       "4  https://ss.com/msg/lv/real-estate/flats/riga/c...      Asara 12    4  134   \n",
       "\n",
       "  Stāvs   Sērija Cena, m2        Cena  \n",
       "0   3/6   Renov.  2,034 €   87,450  €  \n",
       "1   1/5   Hrušč.  1,100 €   44,000  €  \n",
       "2   2/6  P. kara  1,406 €   90,000  €  \n",
       "3   1/2   Renov.  1,620 €  230,000  €  \n",
       "4   1/2   Renov.  1,493 €  200,000  €  "
      ]
     },
     "execution_count": 39,
     "metadata": {},
     "output_type": "execute_result"
    }
   ],
   "source": [
    "df.head()"
   ]
  },
  {
   "cell_type": "code",
   "execution_count": 40,
   "metadata": {},
   "outputs": [
    {
     "data": {
      "text/plain": [
       "98"
      ]
     },
     "execution_count": 40,
     "metadata": {},
     "output_type": "execute_result"
    }
   ],
   "source": [
    "\n",
    "# https://developer.mozilla.org/en-US/docs/Web/HTML/Element/a\n",
    "anchors = soup.find_all(\"a\")\n",
    "len(anchors)"
   ]
  },
  {
   "cell_type": "code",
   "execution_count": 41,
   "metadata": {},
   "outputs": [
    {
     "data": {
      "text/plain": [
       "[<a href=\"/\" title=\"Sludinājumi\"><img alt=\"Sludinājumi\" border=\"0\" class=\"page_header_logo\" src=\"https://i.ss.com/img/p.gif\"/></a>,\n",
       " <a class=\"a_menu\" href=\"/lv/real-estate/flats/new/\" title=\"Iesniegt Sludinājumu\">Iesniegt Sludinājumu</a>,\n",
       " <a class=\"a_menu\" href=\"/lv/login/\" title=\"Mani Sludinājumi\">Mani Sludinājumi</a>,\n",
       " <a class=\"a_menu\" href=\"/lv/real-estate/flats/riga/centre/search/\" title=\"Meklēt sludinājumus\">Meklēšana</a>,\n",
       " <a class=\"a_menu\" href=\"/lv/favorites/\" title=\"Memo\">Memo</a>]"
      ]
     },
     "execution_count": 41,
     "metadata": {},
     "output_type": "execute_result"
    }
   ],
   "source": [
    "anchors[:5]"
   ]
  },
  {
   "cell_type": "code",
   "execution_count": 42,
   "metadata": {},
   "outputs": [
    {
     "data": {
      "text/plain": [
       "10"
      ]
     },
     "execution_count": 42,
     "metadata": {},
     "output_type": "execute_result"
    }
   ],
   "source": [
    "navs = [anchor for anchor in anchors if anchor.get(\"name\") == \"nav_id\"] # get will get us None if no \"name\" exists\n",
    "len(navs)"
   ]
  },
  {
   "cell_type": "code",
   "execution_count": 43,
   "metadata": {},
   "outputs": [
    {
     "data": {
      "text/plain": [
       "<a class=\"navi\" href=\"/lv/real-estate/flats/riga/centre/sell/page27.html\" name=\"nav_id\" rel=\"prev\"><img border=\"0\" height=\"5\" src=\"https://i.ss.com/img/s_left.png\" style=\"padding-bottom:2px;\" width=\"9\"/> Iepriekšējie</a>"
      ]
     },
     "execution_count": 43,
     "metadata": {},
     "output_type": "execute_result"
    }
   ],
   "source": [
    "navs[0]"
   ]
  },
  {
   "cell_type": "code",
   "execution_count": 44,
   "metadata": {},
   "outputs": [
    {
     "data": {
      "text/plain": [
       "{'name': 'nav_id',\n",
       " 'rel': ['prev'],\n",
       " 'class': ['navi'],\n",
       " 'href': '/lv/real-estate/flats/riga/centre/sell/page27.html'}"
      ]
     },
     "execution_count": 44,
     "metadata": {},
     "output_type": "execute_result"
    }
   ],
   "source": [
    "navs[0].attrs"
   ]
  },
  {
   "cell_type": "code",
   "execution_count": 45,
   "metadata": {},
   "outputs": [
    {
     "data": {
      "text/plain": [
       "'/lv/real-estate/flats/riga/centre/sell/page27.html'"
      ]
     },
     "execution_count": 45,
     "metadata": {},
     "output_type": "execute_result"
    }
   ],
   "source": [
    "navs[0]['href']"
   ]
  },
  {
   "cell_type": "code",
   "execution_count": 46,
   "metadata": {},
   "outputs": [
    {
     "data": {
      "text/plain": [
       "'27.html'"
      ]
     },
     "execution_count": 46,
     "metadata": {},
     "output_type": "execute_result"
    }
   ],
   "source": [
    "# could use regular expression here but we can use split \n",
    "afterpage = navs[0]['href'].split(\"/page\")[1]\n",
    "afterpage"
   ]
  },
  {
   "cell_type": "code",
   "execution_count": 47,
   "metadata": {},
   "outputs": [
    {
     "data": {
      "text/plain": [
       "'27'"
      ]
     },
     "execution_count": 47,
     "metadata": {},
     "output_type": "execute_result"
    }
   ],
   "source": [
    "beforedot = afterpage.split(\".html\")[0]\n",
    "beforedot"
   ]
  },
  {
   "cell_type": "code",
   "execution_count": 48,
   "metadata": {},
   "outputs": [
    {
     "data": {
      "text/plain": [
       "27"
      ]
     },
     "execution_count": 48,
     "metadata": {},
     "output_type": "execute_result"
    }
   ],
   "source": [
    "lastpage = int(beforedot)\n",
    "lastpage"
   ]
  },
  {
   "cell_type": "code",
   "execution_count": 49,
   "metadata": {},
   "outputs": [],
   "source": [
    "def getAllLocalUrls(url):\n",
    "    \"\"\"Get a list of all urls including paginated pages\"\"\"\n",
    "    results = [url] # default is just the url if no extra pages found\n",
    "    req = requests.get(url)\n",
    "    if req.status_code != 200:\n",
    "        print(f\"Bad response! {req.status_code}\")\n",
    "        return []\n",
    "    soup = BeautifulSoup(req.text, 'lxml')\n",
    "    # we just need a one element\n",
    "    prevanchor = soup.find('a', {\"rel\":\"prev\"})\n",
    "    if prevanchor == None:\n",
    "        return results\n",
    "    href = prevanchor.attrs.get('href')\n",
    "    lastPageNum = int(href.split('page')[-1].split('.')[0])\n",
    "    print(\"Last page is\",lastPageNum)\n",
    "    nurls = [f\"{url}page{n}.html\" for n in range(2,lastPageNum+1)]\n",
    "    results += nurls\n",
    "    return results"
   ]
  },
  {
   "cell_type": "code",
   "execution_count": 51,
   "metadata": {},
   "outputs": [
    {
     "data": {
      "text/plain": [
       "'https://www.ss.com/lv/real-estate/flats/riga/centre/sell/'"
      ]
     },
     "execution_count": 51,
     "metadata": {},
     "output_type": "execute_result"
    }
   ],
   "source": [
    "centrs"
   ]
  },
  {
   "cell_type": "code",
   "execution_count": 52,
   "metadata": {},
   "outputs": [
    {
     "name": "stdout",
     "output_type": "stream",
     "text": [
      "Last page is 27\n"
     ]
    },
    {
     "data": {
      "text/plain": [
       "(27,\n",
       " ['https://www.ss.com/lv/real-estate/flats/riga/centre/sell/',\n",
       "  'https://www.ss.com/lv/real-estate/flats/riga/centre/sell/page2.html',\n",
       "  'https://www.ss.com/lv/real-estate/flats/riga/centre/sell/page3.html'],\n",
       " 'https://www.ss.com/lv/real-estate/flats/riga/centre/sell/page27.html')"
      ]
     },
     "execution_count": 52,
     "metadata": {},
     "output_type": "execute_result"
    }
   ],
   "source": [
    "local_urls = getAllLocalUrls(centrs)\n",
    "len(local_urls),local_urls[:3],local_urls[-1]"
   ]
  },
  {
   "cell_type": "code",
   "execution_count": 53,
   "metadata": {},
   "outputs": [
    {
     "data": {
      "text/plain": [
       "(8, 9)"
      ]
     },
     "execution_count": 53,
     "metadata": {},
     "output_type": "execute_result"
    }
   ],
   "source": [
    "dlast = getDFfromURL(local_urls[-1])\n",
    "dlast.shape"
   ]
  },
  {
   "cell_type": "code",
   "execution_count": 55,
   "metadata": {
    "scrolled": true
   },
   "outputs": [
    {
     "data": {
      "text/html": [
       "<div>\n",
       "<style scoped>\n",
       "    .dataframe tbody tr th:only-of-type {\n",
       "        vertical-align: middle;\n",
       "    }\n",
       "\n",
       "    .dataframe tbody tr th {\n",
       "        vertical-align: top;\n",
       "    }\n",
       "\n",
       "    .dataframe thead th {\n",
       "        text-align: right;\n",
       "    }\n",
       "</style>\n",
       "<table border=\"1\" class=\"dataframe\">\n",
       "  <thead>\n",
       "    <tr style=\"text-align: right;\">\n",
       "      <th></th>\n",
       "      <th>description</th>\n",
       "      <th>url</th>\n",
       "      <th>Iela</th>\n",
       "      <th>Ist.</th>\n",
       "      <th>m2</th>\n",
       "      <th>Stāvs</th>\n",
       "      <th>Sērija</th>\n",
       "      <th>Cena, m2</th>\n",
       "      <th>Cena</th>\n",
       "    </tr>\n",
       "  </thead>\n",
       "  <tbody>\n",
       "    <tr>\n",
       "      <th>0</th>\n",
       "      <td>Dzīvoklis atrodas pirmskara mājā ar jaunu lift...</td>\n",
       "      <td>https://ss.com/msg/lv/real-estate/flats/riga/c...</td>\n",
       "      <td>Brīvības 142</td>\n",
       "      <td>2</td>\n",
       "      <td>48</td>\n",
       "      <td>5/6</td>\n",
       "      <td>P. kara</td>\n",
       "      <td>2,083 €</td>\n",
       "      <td>100,000  €</td>\n",
       "    </tr>\n",
       "    <tr>\n",
       "      <th>1</th>\n",
       "      <td>Dzīvoklis atrodas pirmskara mājā ar jaunu lift...</td>\n",
       "      <td>https://ss.com/msg/lv/real-estate/flats/riga/c...</td>\n",
       "      <td>Brīvības 142</td>\n",
       "      <td>2</td>\n",
       "      <td>49</td>\n",
       "      <td>4/6</td>\n",
       "      <td>P. kara</td>\n",
       "      <td>2,041 €</td>\n",
       "      <td>100,000  €</td>\n",
       "    </tr>\n",
       "    <tr>\n",
       "      <th>2</th>\n",
       "      <td>Продается полуподвальное помещение (с окном и ...</td>\n",
       "      <td>https://ss.com/msg/lv/real-estate/flats/riga/c...</td>\n",
       "      <td>Baznīcas 13</td>\n",
       "      <td>1</td>\n",
       "      <td>28</td>\n",
       "      <td>1/4</td>\n",
       "      <td>P. kara</td>\n",
       "      <td>1,321 €</td>\n",
       "      <td>37,000  €</td>\n",
       "    </tr>\n",
       "    <tr>\n",
       "      <th>3</th>\n",
       "      <td>Pārdodam 3 ist. dzīvokli ar mēbelēm, pazemes a...</td>\n",
       "      <td>https://ss.com/msg/lv/real-estate/flats/riga/c...</td>\n",
       "      <td>J. Daliņa 8</td>\n",
       "      <td>3</td>\n",
       "      <td>108</td>\n",
       "      <td>12/24</td>\n",
       "      <td>Jaun.</td>\n",
       "      <td>2,083 €</td>\n",
       "      <td>225,000  €</td>\n",
       "    </tr>\n",
       "    <tr>\n",
       "      <th>4</th>\n",
       "      <td>Pārdodu labiekārtotu un mēbelētu 3 istabu dzīv...</td>\n",
       "      <td>https://ss.com/msg/lv/real-estate/flats/riga/c...</td>\n",
       "      <td>J. Daliņa 8</td>\n",
       "      <td>3</td>\n",
       "      <td>109</td>\n",
       "      <td>13/24</td>\n",
       "      <td>Jaun.</td>\n",
       "      <td>2,064 €</td>\n",
       "      <td>225,000  €</td>\n",
       "    </tr>\n",
       "    <tr>\n",
       "      <th>5</th>\n",
       "      <td>Отделка Премиум класса \\r\\n\\r\\nПолная реноваци...</td>\n",
       "      <td>https://ss.com/msg/lv/real-estate/flats/riga/c...</td>\n",
       "      <td>Ģertrūdes 23</td>\n",
       "      <td>3</td>\n",
       "      <td>62</td>\n",
       "      <td>2/6</td>\n",
       "      <td>Jaun.</td>\n",
       "      <td>2,677 €</td>\n",
       "      <td>166,000  €</td>\n",
       "    </tr>\n",
       "    <tr>\n",
       "      <th>6</th>\n",
       "      <td>Pārdod 3 istabu dzīvokli Brīvības ielā 39a. \\r...</td>\n",
       "      <td>https://ss.com/msg/lv/real-estate/flats/riga/c...</td>\n",
       "      <td>Brīvības 39a</td>\n",
       "      <td>2</td>\n",
       "      <td>100</td>\n",
       "      <td>3/6</td>\n",
       "      <td>P. kara</td>\n",
       "      <td>1,590 €</td>\n",
       "      <td>159,000  €</td>\n",
       "    </tr>\n",
       "    <tr>\n",
       "      <th>7</th>\n",
       "      <td>Piedāvājumā 4 istabu dzīvoklis vēsturiskā namā...</td>\n",
       "      <td>https://ss.com/msg/lv/real-estate/flats/riga/c...</td>\n",
       "      <td>Čaka 36</td>\n",
       "      <td>4</td>\n",
       "      <td>84</td>\n",
       "      <td>3/5</td>\n",
       "      <td>P. kara</td>\n",
       "      <td>1,821 €</td>\n",
       "      <td>152,935  €</td>\n",
       "    </tr>\n",
       "  </tbody>\n",
       "</table>\n",
       "</div>"
      ],
      "text/plain": [
       "                                         description  \\\n",
       "0  Dzīvoklis atrodas pirmskara mājā ar jaunu lift...   \n",
       "1  Dzīvoklis atrodas pirmskara mājā ar jaunu lift...   \n",
       "2  Продается полуподвальное помещение (с окном и ...   \n",
       "3  Pārdodam 3 ist. dzīvokli ar mēbelēm, pazemes a...   \n",
       "4  Pārdodu labiekārtotu un mēbelētu 3 istabu dzīv...   \n",
       "5  Отделка Премиум класса \\r\\n\\r\\nПолная реноваци...   \n",
       "6  Pārdod 3 istabu dzīvokli Brīvības ielā 39a. \\r...   \n",
       "7  Piedāvājumā 4 istabu dzīvoklis vēsturiskā namā...   \n",
       "\n",
       "                                                 url          Iela Ist.   m2  \\\n",
       "0  https://ss.com/msg/lv/real-estate/flats/riga/c...  Brīvības 142    2   48   \n",
       "1  https://ss.com/msg/lv/real-estate/flats/riga/c...  Brīvības 142    2   49   \n",
       "2  https://ss.com/msg/lv/real-estate/flats/riga/c...   Baznīcas 13    1   28   \n",
       "3  https://ss.com/msg/lv/real-estate/flats/riga/c...   J. Daliņa 8    3  108   \n",
       "4  https://ss.com/msg/lv/real-estate/flats/riga/c...   J. Daliņa 8    3  109   \n",
       "5  https://ss.com/msg/lv/real-estate/flats/riga/c...  Ģertrūdes 23    3   62   \n",
       "6  https://ss.com/msg/lv/real-estate/flats/riga/c...  Brīvības 39a    2  100   \n",
       "7  https://ss.com/msg/lv/real-estate/flats/riga/c...       Čaka 36    4   84   \n",
       "\n",
       "   Stāvs   Sērija Cena, m2        Cena  \n",
       "0    5/6  P. kara  2,083 €  100,000  €  \n",
       "1    4/6  P. kara  2,041 €  100,000  €  \n",
       "2    1/4  P. kara  1,321 €   37,000  €  \n",
       "3  12/24    Jaun.  2,083 €  225,000  €  \n",
       "4  13/24    Jaun.  2,064 €  225,000  €  \n",
       "5    2/6    Jaun.  2,677 €  166,000  €  \n",
       "6    3/6  P. kara  1,590 €  159,000  €  \n",
       "7    3/5  P. kara  1,821 €  152,935  €  "
      ]
     },
     "execution_count": 55,
     "metadata": {},
     "output_type": "execute_result"
    }
   ],
   "source": [
    "dlast"
   ]
  },
  {
   "cell_type": "code",
   "execution_count": 56,
   "metadata": {},
   "outputs": [],
   "source": [
    "def get_all_ads_df(start_url, save_excel_path=None):\n",
    "    df_list=[]\n",
    "    local_urls = getAllLocalUrls(start_url)\n",
    "    for url in local_urls:\n",
    "        print(f\"Gathering data from {url}\")\n",
    "        df_list.append(getDFfromURL(url))\n",
    "        time.sleep(0.3) # we need this to play nice!\n",
    "    # https://pandas.pydata.org/pandas-docs/stable/reference/api/pandas.concat.html\n",
    "    big_df = pd.concat(df_list)\n",
    "    if save_excel_path:\n",
    "        big_df.to_excel(save_excel_path)\n",
    "    return big_df\n",
    "    "
   ]
  },
  {
   "cell_type": "code",
   "execution_count": 57,
   "metadata": {},
   "outputs": [
    {
     "data": {
      "text/plain": [
       "'https://www.ss.com/lv/real-estate/flats/riga/centre/sell/'"
      ]
     },
     "execution_count": 57,
     "metadata": {},
     "output_type": "execute_result"
    }
   ],
   "source": [
    "centrs"
   ]
  },
  {
   "cell_type": "code",
   "execution_count": 58,
   "metadata": {},
   "outputs": [
    {
     "name": "stdout",
     "output_type": "stream",
     "text": [
      "Last page is 27\n",
      "Gathering data from https://www.ss.com/lv/real-estate/flats/riga/centre/sell/\n",
      "Gathering data from https://www.ss.com/lv/real-estate/flats/riga/centre/sell/page2.html\n",
      "Gathering data from https://www.ss.com/lv/real-estate/flats/riga/centre/sell/page3.html\n",
      "Gathering data from https://www.ss.com/lv/real-estate/flats/riga/centre/sell/page4.html\n",
      "Gathering data from https://www.ss.com/lv/real-estate/flats/riga/centre/sell/page5.html\n",
      "Gathering data from https://www.ss.com/lv/real-estate/flats/riga/centre/sell/page6.html\n",
      "Gathering data from https://www.ss.com/lv/real-estate/flats/riga/centre/sell/page7.html\n",
      "Gathering data from https://www.ss.com/lv/real-estate/flats/riga/centre/sell/page8.html\n",
      "Gathering data from https://www.ss.com/lv/real-estate/flats/riga/centre/sell/page9.html\n",
      "Gathering data from https://www.ss.com/lv/real-estate/flats/riga/centre/sell/page10.html\n",
      "Gathering data from https://www.ss.com/lv/real-estate/flats/riga/centre/sell/page11.html\n",
      "Gathering data from https://www.ss.com/lv/real-estate/flats/riga/centre/sell/page12.html\n",
      "Gathering data from https://www.ss.com/lv/real-estate/flats/riga/centre/sell/page13.html\n",
      "Gathering data from https://www.ss.com/lv/real-estate/flats/riga/centre/sell/page14.html\n",
      "Gathering data from https://www.ss.com/lv/real-estate/flats/riga/centre/sell/page15.html\n",
      "Gathering data from https://www.ss.com/lv/real-estate/flats/riga/centre/sell/page16.html\n",
      "Gathering data from https://www.ss.com/lv/real-estate/flats/riga/centre/sell/page17.html\n",
      "Gathering data from https://www.ss.com/lv/real-estate/flats/riga/centre/sell/page18.html\n",
      "Gathering data from https://www.ss.com/lv/real-estate/flats/riga/centre/sell/page19.html\n",
      "Gathering data from https://www.ss.com/lv/real-estate/flats/riga/centre/sell/page20.html\n",
      "Gathering data from https://www.ss.com/lv/real-estate/flats/riga/centre/sell/page21.html\n",
      "Gathering data from https://www.ss.com/lv/real-estate/flats/riga/centre/sell/page22.html\n",
      "Gathering data from https://www.ss.com/lv/real-estate/flats/riga/centre/sell/page23.html\n",
      "Gathering data from https://www.ss.com/lv/real-estate/flats/riga/centre/sell/page24.html\n",
      "Gathering data from https://www.ss.com/lv/real-estate/flats/riga/centre/sell/page25.html\n",
      "Gathering data from https://www.ss.com/lv/real-estate/flats/riga/centre/sell/page26.html\n",
      "Gathering data from https://www.ss.com/lv/real-estate/flats/riga/centre/sell/page27.html\n"
     ]
    }
   ],
   "source": [
    "d = get_all_ads_df(centrs, \"centrs.xlsx\")"
   ]
  },
  {
   "cell_type": "code",
   "execution_count": 59,
   "metadata": {},
   "outputs": [
    {
     "data": {
      "text/plain": [
       "(788, 9)"
      ]
     },
     "execution_count": 59,
     "metadata": {},
     "output_type": "execute_result"
    }
   ],
   "source": [
    "d.shape"
   ]
  },
  {
   "cell_type": "code",
   "execution_count": 60,
   "metadata": {},
   "outputs": [
    {
     "data": {
      "text/html": [
       "<div>\n",
       "<style scoped>\n",
       "    .dataframe tbody tr th:only-of-type {\n",
       "        vertical-align: middle;\n",
       "    }\n",
       "\n",
       "    .dataframe tbody tr th {\n",
       "        vertical-align: top;\n",
       "    }\n",
       "\n",
       "    .dataframe thead th {\n",
       "        text-align: right;\n",
       "    }\n",
       "</style>\n",
       "<table border=\"1\" class=\"dataframe\">\n",
       "  <thead>\n",
       "    <tr style=\"text-align: right;\">\n",
       "      <th></th>\n",
       "      <th>description</th>\n",
       "      <th>url</th>\n",
       "      <th>Iela</th>\n",
       "      <th>Ist.</th>\n",
       "      <th>m2</th>\n",
       "      <th>Stāvs</th>\n",
       "      <th>Sērija</th>\n",
       "      <th>Cena, m2</th>\n",
       "      <th>Cena</th>\n",
       "    </tr>\n",
       "  </thead>\n",
       "  <tbody>\n",
       "    <tr>\n",
       "      <th>0</th>\n",
       "      <td>Virtuve iekļauta cenā \\r\\n\\r\\nTikko pēc remont...</td>\n",
       "      <td>https://ss.com/msg/lv/real-estate/flats/riga/c...</td>\n",
       "      <td>Ģertrūdes 99</td>\n",
       "      <td>2</td>\n",
       "      <td>43</td>\n",
       "      <td>3/6</td>\n",
       "      <td>Renov.</td>\n",
       "      <td>2,034 €</td>\n",
       "      <td>87,450  €</td>\n",
       "    </tr>\n",
       "    <tr>\n",
       "      <th>1</th>\n",
       "      <td>Liels vienistabas dzīvoklis, ko var pārbūvēt p...</td>\n",
       "      <td>https://ss.com/msg/lv/real-estate/flats/riga/c...</td>\n",
       "      <td>Tomsona 19</td>\n",
       "      <td>1</td>\n",
       "      <td>40</td>\n",
       "      <td>1/5</td>\n",
       "      <td>Hrušč.</td>\n",
       "      <td>1,100 €</td>\n",
       "      <td>44,000  €</td>\n",
       "    </tr>\n",
       "    <tr>\n",
       "      <th>2</th>\n",
       "      <td>Pārplanots un izremontēts 3.istabu dzīvoklis ķ...</td>\n",
       "      <td>https://ss.com/msg/lv/real-estate/flats/riga/c...</td>\n",
       "      <td>Pērnavas 39</td>\n",
       "      <td>3</td>\n",
       "      <td>64</td>\n",
       "      <td>2/6</td>\n",
       "      <td>P. kara</td>\n",
       "      <td>1,406 €</td>\n",
       "      <td>90,000  €</td>\n",
       "    </tr>\n",
       "    <tr>\n",
       "      <th>3</th>\n",
       "      <td>Skaists divlīmeņu Town House dzīvoklis \"Grīziņ...</td>\n",
       "      <td>https://ss.com/msg/lv/real-estate/flats/riga/c...</td>\n",
       "      <td>Asara 12</td>\n",
       "      <td>4</td>\n",
       "      <td>142</td>\n",
       "      <td>1/2</td>\n",
       "      <td>Renov.</td>\n",
       "      <td>1,620 €</td>\n",
       "      <td>230,000  €</td>\n",
       "    </tr>\n",
       "    <tr>\n",
       "      <th>4</th>\n",
       "      <td>Skaists divlīmeņu Town House dzīvoklis \"Grīziņ...</td>\n",
       "      <td>https://ss.com/msg/lv/real-estate/flats/riga/c...</td>\n",
       "      <td>Asara 12</td>\n",
       "      <td>4</td>\n",
       "      <td>134</td>\n",
       "      <td>1/2</td>\n",
       "      <td>Renov.</td>\n",
       "      <td>1,493 €</td>\n",
       "      <td>200,000  €</td>\n",
       "    </tr>\n",
       "  </tbody>\n",
       "</table>\n",
       "</div>"
      ],
      "text/plain": [
       "                                         description  \\\n",
       "0  Virtuve iekļauta cenā \\r\\n\\r\\nTikko pēc remont...   \n",
       "1  Liels vienistabas dzīvoklis, ko var pārbūvēt p...   \n",
       "2  Pārplanots un izremontēts 3.istabu dzīvoklis ķ...   \n",
       "3  Skaists divlīmeņu Town House dzīvoklis \"Grīziņ...   \n",
       "4  Skaists divlīmeņu Town House dzīvoklis \"Grīziņ...   \n",
       "\n",
       "                                                 url          Iela Ist.   m2  \\\n",
       "0  https://ss.com/msg/lv/real-estate/flats/riga/c...  Ģertrūdes 99    2   43   \n",
       "1  https://ss.com/msg/lv/real-estate/flats/riga/c...    Tomsona 19    1   40   \n",
       "2  https://ss.com/msg/lv/real-estate/flats/riga/c...   Pērnavas 39    3   64   \n",
       "3  https://ss.com/msg/lv/real-estate/flats/riga/c...      Asara 12    4  142   \n",
       "4  https://ss.com/msg/lv/real-estate/flats/riga/c...      Asara 12    4  134   \n",
       "\n",
       "  Stāvs   Sērija Cena, m2        Cena  \n",
       "0   3/6   Renov.  2,034 €   87,450  €  \n",
       "1   1/5   Hrušč.  1,100 €   44,000  €  \n",
       "2   2/6  P. kara  1,406 €   90,000  €  \n",
       "3   1/2   Renov.  1,620 €  230,000  €  \n",
       "4   1/2   Renov.  1,493 €  200,000  €  "
      ]
     },
     "execution_count": 60,
     "metadata": {},
     "output_type": "execute_result"
    }
   ],
   "source": [
    "d.head()"
   ]
  },
  {
   "cell_type": "code",
   "execution_count": 61,
   "metadata": {},
   "outputs": [
    {
     "data": {
      "text/html": [
       "<div>\n",
       "<style scoped>\n",
       "    .dataframe tbody tr th:only-of-type {\n",
       "        vertical-align: middle;\n",
       "    }\n",
       "\n",
       "    .dataframe tbody tr th {\n",
       "        vertical-align: top;\n",
       "    }\n",
       "\n",
       "    .dataframe thead th {\n",
       "        text-align: right;\n",
       "    }\n",
       "</style>\n",
       "<table border=\"1\" class=\"dataframe\">\n",
       "  <thead>\n",
       "    <tr style=\"text-align: right;\">\n",
       "      <th></th>\n",
       "      <th>description</th>\n",
       "      <th>url</th>\n",
       "      <th>Iela</th>\n",
       "      <th>Ist.</th>\n",
       "      <th>m2</th>\n",
       "      <th>Stāvs</th>\n",
       "      <th>Sērija</th>\n",
       "      <th>Cena, m2</th>\n",
       "      <th>Cena</th>\n",
       "    </tr>\n",
       "  </thead>\n",
       "  <tbody>\n",
       "    <tr>\n",
       "      <th>3</th>\n",
       "      <td>Pārdodam 3 ist. dzīvokli ar mēbelēm, pazemes a...</td>\n",
       "      <td>https://ss.com/msg/lv/real-estate/flats/riga/c...</td>\n",
       "      <td>J. Daliņa 8</td>\n",
       "      <td>3</td>\n",
       "      <td>108</td>\n",
       "      <td>12/24</td>\n",
       "      <td>Jaun.</td>\n",
       "      <td>2,083 €</td>\n",
       "      <td>225,000  €</td>\n",
       "    </tr>\n",
       "    <tr>\n",
       "      <th>4</th>\n",
       "      <td>Pārdodu labiekārtotu un mēbelētu 3 istabu dzīv...</td>\n",
       "      <td>https://ss.com/msg/lv/real-estate/flats/riga/c...</td>\n",
       "      <td>J. Daliņa 8</td>\n",
       "      <td>3</td>\n",
       "      <td>109</td>\n",
       "      <td>13/24</td>\n",
       "      <td>Jaun.</td>\n",
       "      <td>2,064 €</td>\n",
       "      <td>225,000  €</td>\n",
       "    </tr>\n",
       "    <tr>\n",
       "      <th>5</th>\n",
       "      <td>Отделка Премиум класса \\r\\n\\r\\nПолная реноваци...</td>\n",
       "      <td>https://ss.com/msg/lv/real-estate/flats/riga/c...</td>\n",
       "      <td>Ģertrūdes 23</td>\n",
       "      <td>3</td>\n",
       "      <td>62</td>\n",
       "      <td>2/6</td>\n",
       "      <td>Jaun.</td>\n",
       "      <td>2,677 €</td>\n",
       "      <td>166,000  €</td>\n",
       "    </tr>\n",
       "    <tr>\n",
       "      <th>6</th>\n",
       "      <td>Pārdod 3 istabu dzīvokli Brīvības ielā 39a. \\r...</td>\n",
       "      <td>https://ss.com/msg/lv/real-estate/flats/riga/c...</td>\n",
       "      <td>Brīvības 39a</td>\n",
       "      <td>2</td>\n",
       "      <td>100</td>\n",
       "      <td>3/6</td>\n",
       "      <td>P. kara</td>\n",
       "      <td>1,590 €</td>\n",
       "      <td>159,000  €</td>\n",
       "    </tr>\n",
       "    <tr>\n",
       "      <th>7</th>\n",
       "      <td>Piedāvājumā 4 istabu dzīvoklis vēsturiskā namā...</td>\n",
       "      <td>https://ss.com/msg/lv/real-estate/flats/riga/c...</td>\n",
       "      <td>Čaka 36</td>\n",
       "      <td>4</td>\n",
       "      <td>84</td>\n",
       "      <td>3/5</td>\n",
       "      <td>P. kara</td>\n",
       "      <td>1,821 €</td>\n",
       "      <td>152,935  €</td>\n",
       "    </tr>\n",
       "  </tbody>\n",
       "</table>\n",
       "</div>"
      ],
      "text/plain": [
       "                                         description  \\\n",
       "3  Pārdodam 3 ist. dzīvokli ar mēbelēm, pazemes a...   \n",
       "4  Pārdodu labiekārtotu un mēbelētu 3 istabu dzīv...   \n",
       "5  Отделка Премиум класса \\r\\n\\r\\nПолная реноваци...   \n",
       "6  Pārdod 3 istabu dzīvokli Brīvības ielā 39a. \\r...   \n",
       "7  Piedāvājumā 4 istabu dzīvoklis vēsturiskā namā...   \n",
       "\n",
       "                                                 url          Iela Ist.   m2  \\\n",
       "3  https://ss.com/msg/lv/real-estate/flats/riga/c...   J. Daliņa 8    3  108   \n",
       "4  https://ss.com/msg/lv/real-estate/flats/riga/c...   J. Daliņa 8    3  109   \n",
       "5  https://ss.com/msg/lv/real-estate/flats/riga/c...  Ģertrūdes 23    3   62   \n",
       "6  https://ss.com/msg/lv/real-estate/flats/riga/c...  Brīvības 39a    2  100   \n",
       "7  https://ss.com/msg/lv/real-estate/flats/riga/c...       Čaka 36    4   84   \n",
       "\n",
       "   Stāvs   Sērija Cena, m2        Cena  \n",
       "3  12/24    Jaun.  2,083 €  225,000  €  \n",
       "4  13/24    Jaun.  2,064 €  225,000  €  \n",
       "5    2/6    Jaun.  2,677 €  166,000  €  \n",
       "6    3/6  P. kara  1,590 €  159,000  €  \n",
       "7    3/5  P. kara  1,821 €  152,935  €  "
      ]
     },
     "execution_count": 61,
     "metadata": {},
     "output_type": "execute_result"
    }
   ],
   "source": [
    "d.tail()"
   ]
  },
  {
   "cell_type": "markdown",
   "metadata": {},
   "source": [
    "# TODO \n",
    "# Try with different starting address not only centrs\n",
    "## Maybe combine regions\n",
    "## See how it would work with maybe cars\n",
    "## Data engineering make new columns based on existing ones, clean some columns\n",
    "### Changing floors 2/6 to columns 2 and 6, clean up Euro signs\n",
    "## Sorting, Describing, Grouping by regions etc"
   ]
  }
 ],
 "metadata": {
  "kernelspec": {
   "display_name": "Python 3",
   "language": "python",
   "name": "python3"
  },
  "language_info": {
   "codemirror_mode": {
    "name": "ipython",
    "version": 3
   },
   "file_extension": ".py",
   "mimetype": "text/x-python",
   "name": "python",
   "nbconvert_exporter": "python",
   "pygments_lexer": "ipython3",
   "version": "3.8.3"
  }
 },
 "nbformat": 4,
 "nbformat_minor": 4
}
